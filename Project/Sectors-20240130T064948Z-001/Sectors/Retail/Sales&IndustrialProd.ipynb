{
  "nbformat": 4,
  "nbformat_minor": 0,
  "metadata": {
    "colab": {
      "name": "Sales&IndustrialProd.ipynb",
      "provenance": []
    },
    "kernelspec": {
      "name": "python3",
      "display_name": "Python 3"
    },
    "language_info": {
      "name": "python"
    }
  },
  "cells": [
    {
      "cell_type": "code",
      "metadata": {
        "id": "tfg4YZr6BK4Q"
      },
      "source": [
        "import pandas as pd\n"
      ],
      "execution_count": 12,
      "outputs": []
    },
    {
      "cell_type": "code",
      "metadata": {
        "id": "sLXonl6uBOa0"
      },
      "source": [
        "f1 = pd.read_excel('/content/Sales_finalresult.xlsx', parse_dates=True, squeeze=True)\n",
        "indus=pd.read_excel('/content/IndustrialProd_finalresult.xlsx',parse_dates=True, squeeze=True)\n",
        "\n",
        "f3 = f1[[\"Date\", \n",
        "         \"Sold_Units\", \"Retail_Sales (in USD)\"]].merge(indus[[\"Industrial_Production\"]], \n",
        "                                     on = f1[\"Date\"], \n",
        "                                     how = \"left\")\n",
        "  \n"
      ],
      "execution_count": 13,
      "outputs": []
    },
    {
      "cell_type": "code",
      "metadata": {
        "colab": {
          "base_uri": "https://localhost:8080/",
          "height": 195
        },
        "id": "7Z29kkkzEiq8",
        "outputId": "3ca9cb24-6a2f-43bf-bd7a-317353944eb3"
      },
      "source": [
        "f3.head()"
      ],
      "execution_count": 14,
      "outputs": [
        {
          "output_type": "execute_result",
          "data": {
            "text/html": [
              "<div>\n",
              "<style scoped>\n",
              "    .dataframe tbody tr th:only-of-type {\n",
              "        vertical-align: middle;\n",
              "    }\n",
              "\n",
              "    .dataframe tbody tr th {\n",
              "        vertical-align: top;\n",
              "    }\n",
              "\n",
              "    .dataframe thead th {\n",
              "        text-align: right;\n",
              "    }\n",
              "</style>\n",
              "<table border=\"1\" class=\"dataframe\">\n",
              "  <thead>\n",
              "    <tr style=\"text-align: right;\">\n",
              "      <th></th>\n",
              "      <th>key_0</th>\n",
              "      <th>Date</th>\n",
              "      <th>Sold_Units</th>\n",
              "      <th>Retail_Sales (in USD)</th>\n",
              "      <th>Industrial_Production</th>\n",
              "    </tr>\n",
              "  </thead>\n",
              "  <tbody>\n",
              "    <tr>\n",
              "      <th>0</th>\n",
              "      <td>2019-09-30</td>\n",
              "      <td>2019-09-30</td>\n",
              "      <td>11424</td>\n",
              "      <td>1713600</td>\n",
              "      <td>89</td>\n",
              "    </tr>\n",
              "    <tr>\n",
              "      <th>1</th>\n",
              "      <td>2019-10-01</td>\n",
              "      <td>2019-10-01</td>\n",
              "      <td>10810</td>\n",
              "      <td>1621500</td>\n",
              "      <td>89</td>\n",
              "    </tr>\n",
              "    <tr>\n",
              "      <th>2</th>\n",
              "      <td>2019-10-02</td>\n",
              "      <td>2019-10-02</td>\n",
              "      <td>9371</td>\n",
              "      <td>1405650</td>\n",
              "      <td>90</td>\n",
              "    </tr>\n",
              "    <tr>\n",
              "      <th>3</th>\n",
              "      <td>2019-10-03</td>\n",
              "      <td>2019-10-03</td>\n",
              "      <td>9478</td>\n",
              "      <td>1421700</td>\n",
              "      <td>90</td>\n",
              "    </tr>\n",
              "    <tr>\n",
              "      <th>4</th>\n",
              "      <td>2019-10-04</td>\n",
              "      <td>2019-10-04</td>\n",
              "      <td>9506</td>\n",
              "      <td>1425900</td>\n",
              "      <td>90</td>\n",
              "    </tr>\n",
              "  </tbody>\n",
              "</table>\n",
              "</div>"
            ],
            "text/plain": [
              "       key_0       Date  ...  Retail_Sales (in USD)  Industrial_Production\n",
              "0 2019-09-30 2019-09-30  ...                1713600                     89\n",
              "1 2019-10-01 2019-10-01  ...                1621500                     89\n",
              "2 2019-10-02 2019-10-02  ...                1405650                     90\n",
              "3 2019-10-03 2019-10-03  ...                1421700                     90\n",
              "4 2019-10-04 2019-10-04  ...                1425900                     90\n",
              "\n",
              "[5 rows x 5 columns]"
            ]
          },
          "metadata": {
            "tags": []
          },
          "execution_count": 14
        }
      ]
    },
    {
      "cell_type": "code",
      "metadata": {
        "id": "Ymp42OrwBw0X"
      },
      "source": [
        "# creating a new file\n",
        "f3.to_excel(\"Results.xlsx\", index = False)"
      ],
      "execution_count": 15,
      "outputs": []
    },
    {
      "cell_type": "code",
      "metadata": {
        "id": "j8iXBCB9I9gf"
      },
      "source": [
        ""
      ],
      "execution_count": null,
      "outputs": []
    }
  ]
}