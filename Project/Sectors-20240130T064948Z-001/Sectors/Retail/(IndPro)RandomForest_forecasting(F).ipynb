{
  "nbformat": 4,
  "nbformat_minor": 0,
  "metadata": {
    "colab": {
      "name": "(IndPro)RandomForest_forecasting(F).ipynb",
      "provenance": [],
      "collapsed_sections": []
    },
    "kernelspec": {
      "name": "python3",
      "display_name": "Python 3"
    }
  },
  "cells": [
    {
      "cell_type": "code",
      "metadata": {
        "id": "6e9nE9TZZjRd"
      },
      "source": [
        "#Importing Libraries\n",
        "import pandas as pd\n",
        "import numpy as np\n",
        "from datetime import datetime\n",
        "import matplotlib.pyplot as plt\n",
        "%matplotlib inline\n",
        "import seaborn as sns\n",
        "from sklearn.metrics import mean_squared_error\n",
        "from pandas.tseries.offsets import *\n",
        "from plotly import tools\n"
      ],
      "execution_count": 1,
      "outputs": []
    },
    {
      "cell_type": "code",
      "metadata": {
        "id": "ZI7Mt49PbiWg"
      },
      "source": [
        "df=pd.read_excel('/content/SalesData.xlsx',parse_dates=True, squeeze=True)\n",
        "test=pd.read_excel('/content/predictionempty.xlsx',parse_dates=True, squeeze=True)"
      ],
      "execution_count": 2,
      "outputs": []
    },
    {
      "cell_type": "code",
      "metadata": {
        "colab": {
          "base_uri": "https://localhost:8080/",
          "height": 195
        },
        "id": "tZ6YfLSnccHw",
        "outputId": "8a62f1e1-285b-4233-fbb5-5c68e261e863"
      },
      "source": [
        "df.head()"
      ],
      "execution_count": 3,
      "outputs": [
        {
          "output_type": "execute_result",
          "data": {
            "text/html": [
              "<div>\n",
              "<style scoped>\n",
              "    .dataframe tbody tr th:only-of-type {\n",
              "        vertical-align: middle;\n",
              "    }\n",
              "\n",
              "    .dataframe tbody tr th {\n",
              "        vertical-align: top;\n",
              "    }\n",
              "\n",
              "    .dataframe thead th {\n",
              "        text-align: right;\n",
              "    }\n",
              "</style>\n",
              "<table border=\"1\" class=\"dataframe\">\n",
              "  <thead>\n",
              "    <tr style=\"text-align: right;\">\n",
              "      <th></th>\n",
              "      <th>From</th>\n",
              "      <th>Sold Units</th>\n",
              "      <th>Retail_Sales (in USD)</th>\n",
              "      <th>Industrial_Production</th>\n",
              "    </tr>\n",
              "  </thead>\n",
              "  <tbody>\n",
              "    <tr>\n",
              "      <th>0</th>\n",
              "      <td>2013-01-01 00:00:00</td>\n",
              "      <td>3</td>\n",
              "      <td>450</td>\n",
              "      <td>101.70</td>\n",
              "    </tr>\n",
              "    <tr>\n",
              "      <th>1</th>\n",
              "      <td>2013-01-01 00:15:00</td>\n",
              "      <td>9</td>\n",
              "      <td>1350</td>\n",
              "      <td>101.96</td>\n",
              "    </tr>\n",
              "    <tr>\n",
              "      <th>2</th>\n",
              "      <td>2013-01-01 00:30:00</td>\n",
              "      <td>15</td>\n",
              "      <td>2250</td>\n",
              "      <td>101.20</td>\n",
              "    </tr>\n",
              "    <tr>\n",
              "      <th>3</th>\n",
              "      <td>2013-01-01 01:00:00</td>\n",
              "      <td>6</td>\n",
              "      <td>900</td>\n",
              "      <td>102.60</td>\n",
              "    </tr>\n",
              "    <tr>\n",
              "      <th>4</th>\n",
              "      <td>2013-01-01 01:15:00</td>\n",
              "      <td>6</td>\n",
              "      <td>900</td>\n",
              "      <td>101.44</td>\n",
              "    </tr>\n",
              "  </tbody>\n",
              "</table>\n",
              "</div>"
            ],
            "text/plain": [
              "                 From  Sold Units  Retail_Sales (in USD)  Industrial_Production\n",
              "0 2013-01-01 00:00:00           3                    450                 101.70\n",
              "1 2013-01-01 00:15:00           9                   1350                 101.96\n",
              "2 2013-01-01 00:30:00          15                   2250                 101.20\n",
              "3 2013-01-01 01:00:00           6                    900                 102.60\n",
              "4 2013-01-01 01:15:00           6                    900                 101.44"
            ]
          },
          "metadata": {
            "tags": []
          },
          "execution_count": 3
        }
      ]
    },
    {
      "cell_type": "code",
      "metadata": {
        "colab": {
          "base_uri": "https://localhost:8080/",
          "height": 195
        },
        "id": "Wiw0j_qich4W",
        "outputId": "78ce09e7-6f6d-4760-bbe0-bc2d695d3fb2"
      },
      "source": [
        "test.head()"
      ],
      "execution_count": 4,
      "outputs": [
        {
          "output_type": "execute_result",
          "data": {
            "text/html": [
              "<div>\n",
              "<style scoped>\n",
              "    .dataframe tbody tr th:only-of-type {\n",
              "        vertical-align: middle;\n",
              "    }\n",
              "\n",
              "    .dataframe tbody tr th {\n",
              "        vertical-align: top;\n",
              "    }\n",
              "\n",
              "    .dataframe thead th {\n",
              "        text-align: right;\n",
              "    }\n",
              "</style>\n",
              "<table border=\"1\" class=\"dataframe\">\n",
              "  <thead>\n",
              "    <tr style=\"text-align: right;\">\n",
              "      <th></th>\n",
              "      <th>Date</th>\n",
              "      <th>Sold_Units</th>\n",
              "    </tr>\n",
              "  </thead>\n",
              "  <tbody>\n",
              "    <tr>\n",
              "      <th>0</th>\n",
              "      <td>2019-09-30</td>\n",
              "      <td>NaN</td>\n",
              "    </tr>\n",
              "    <tr>\n",
              "      <th>1</th>\n",
              "      <td>2019-10-01</td>\n",
              "      <td>NaN</td>\n",
              "    </tr>\n",
              "    <tr>\n",
              "      <th>2</th>\n",
              "      <td>2019-10-02</td>\n",
              "      <td>NaN</td>\n",
              "    </tr>\n",
              "    <tr>\n",
              "      <th>3</th>\n",
              "      <td>2019-10-03</td>\n",
              "      <td>NaN</td>\n",
              "    </tr>\n",
              "    <tr>\n",
              "      <th>4</th>\n",
              "      <td>2019-10-04</td>\n",
              "      <td>NaN</td>\n",
              "    </tr>\n",
              "  </tbody>\n",
              "</table>\n",
              "</div>"
            ],
            "text/plain": [
              "        Date  Sold_Units\n",
              "0 2019-09-30         NaN\n",
              "1 2019-10-01         NaN\n",
              "2 2019-10-02         NaN\n",
              "3 2019-10-03         NaN\n",
              "4 2019-10-04         NaN"
            ]
          },
          "metadata": {
            "tags": []
          },
          "execution_count": 4
        }
      ]
    },
    {
      "cell_type": "code",
      "metadata": {
        "id": "Xya8V0YbxalO"
      },
      "source": [
        "df['Date'] = pd.to_datetime(df['From']).dt.date"
      ],
      "execution_count": 5,
      "outputs": []
    },
    {
      "cell_type": "code",
      "metadata": {
        "colab": {
          "base_uri": "https://localhost:8080/",
          "height": 195
        },
        "id": "FWyptybSUAEJ",
        "outputId": "b8c17082-8951-481c-bd47-cca6b3658243"
      },
      "source": [
        "df.head()"
      ],
      "execution_count": 6,
      "outputs": [
        {
          "output_type": "execute_result",
          "data": {
            "text/html": [
              "<div>\n",
              "<style scoped>\n",
              "    .dataframe tbody tr th:only-of-type {\n",
              "        vertical-align: middle;\n",
              "    }\n",
              "\n",
              "    .dataframe tbody tr th {\n",
              "        vertical-align: top;\n",
              "    }\n",
              "\n",
              "    .dataframe thead th {\n",
              "        text-align: right;\n",
              "    }\n",
              "</style>\n",
              "<table border=\"1\" class=\"dataframe\">\n",
              "  <thead>\n",
              "    <tr style=\"text-align: right;\">\n",
              "      <th></th>\n",
              "      <th>From</th>\n",
              "      <th>Sold Units</th>\n",
              "      <th>Retail_Sales (in USD)</th>\n",
              "      <th>Industrial_Production</th>\n",
              "      <th>Date</th>\n",
              "    </tr>\n",
              "  </thead>\n",
              "  <tbody>\n",
              "    <tr>\n",
              "      <th>0</th>\n",
              "      <td>2013-01-01 00:00:00</td>\n",
              "      <td>3</td>\n",
              "      <td>450</td>\n",
              "      <td>101.70</td>\n",
              "      <td>2013-01-01</td>\n",
              "    </tr>\n",
              "    <tr>\n",
              "      <th>1</th>\n",
              "      <td>2013-01-01 00:15:00</td>\n",
              "      <td>9</td>\n",
              "      <td>1350</td>\n",
              "      <td>101.96</td>\n",
              "      <td>2013-01-01</td>\n",
              "    </tr>\n",
              "    <tr>\n",
              "      <th>2</th>\n",
              "      <td>2013-01-01 00:30:00</td>\n",
              "      <td>15</td>\n",
              "      <td>2250</td>\n",
              "      <td>101.20</td>\n",
              "      <td>2013-01-01</td>\n",
              "    </tr>\n",
              "    <tr>\n",
              "      <th>3</th>\n",
              "      <td>2013-01-01 01:00:00</td>\n",
              "      <td>6</td>\n",
              "      <td>900</td>\n",
              "      <td>102.60</td>\n",
              "      <td>2013-01-01</td>\n",
              "    </tr>\n",
              "    <tr>\n",
              "      <th>4</th>\n",
              "      <td>2013-01-01 01:15:00</td>\n",
              "      <td>6</td>\n",
              "      <td>900</td>\n",
              "      <td>101.44</td>\n",
              "      <td>2013-01-01</td>\n",
              "    </tr>\n",
              "  </tbody>\n",
              "</table>\n",
              "</div>"
            ],
            "text/plain": [
              "                 From  Sold Units  ...  Industrial_Production        Date\n",
              "0 2013-01-01 00:00:00           3  ...                 101.70  2013-01-01\n",
              "1 2013-01-01 00:15:00           9  ...                 101.96  2013-01-01\n",
              "2 2013-01-01 00:30:00          15  ...                 101.20  2013-01-01\n",
              "3 2013-01-01 01:00:00           6  ...                 102.60  2013-01-01\n",
              "4 2013-01-01 01:15:00           6  ...                 101.44  2013-01-01\n",
              "\n",
              "[5 rows x 5 columns]"
            ]
          },
          "metadata": {
            "tags": []
          },
          "execution_count": 6
        }
      ]
    },
    {
      "cell_type": "code",
      "metadata": {
        "id": "RMBuxqbTclv4"
      },
      "source": [
        "#df.drop(['Export_Price_index', 'Import_Price_Index', 'Consumer_Price_Index', 'Employees', 'Industrial_Production', 'Material_Supply_Textile'], axis =1 , inplace=True)"
      ],
      "execution_count": 7,
      "outputs": []
    },
    {
      "cell_type": "code",
      "metadata": {
        "colab": {
          "base_uri": "https://localhost:8080/",
          "height": 195
        },
        "id": "dgm9qTdLvMgG",
        "outputId": "c9f305bc-0689-4782-8eb2-96fb9b80797e"
      },
      "source": [
        "df=df.groupby(['Date'])['Industrial_Production'].mean().reset_index()\n",
        "df.head()"
      ],
      "execution_count": 8,
      "outputs": [
        {
          "output_type": "execute_result",
          "data": {
            "text/html": [
              "<div>\n",
              "<style scoped>\n",
              "    .dataframe tbody tr th:only-of-type {\n",
              "        vertical-align: middle;\n",
              "    }\n",
              "\n",
              "    .dataframe tbody tr th {\n",
              "        vertical-align: top;\n",
              "    }\n",
              "\n",
              "    .dataframe thead th {\n",
              "        text-align: right;\n",
              "    }\n",
              "</style>\n",
              "<table border=\"1\" class=\"dataframe\">\n",
              "  <thead>\n",
              "    <tr style=\"text-align: right;\">\n",
              "      <th></th>\n",
              "      <th>Date</th>\n",
              "      <th>Industrial_Production</th>\n",
              "    </tr>\n",
              "  </thead>\n",
              "  <tbody>\n",
              "    <tr>\n",
              "      <th>0</th>\n",
              "      <td>2013-01-01</td>\n",
              "      <td>102.324096</td>\n",
              "    </tr>\n",
              "    <tr>\n",
              "      <th>1</th>\n",
              "      <td>2013-01-02</td>\n",
              "      <td>102.332340</td>\n",
              "    </tr>\n",
              "    <tr>\n",
              "      <th>2</th>\n",
              "      <td>2013-01-03</td>\n",
              "      <td>102.263736</td>\n",
              "    </tr>\n",
              "    <tr>\n",
              "      <th>3</th>\n",
              "      <td>2013-01-04</td>\n",
              "      <td>102.243261</td>\n",
              "    </tr>\n",
              "    <tr>\n",
              "      <th>4</th>\n",
              "      <td>2013-01-05</td>\n",
              "      <td>102.340215</td>\n",
              "    </tr>\n",
              "  </tbody>\n",
              "</table>\n",
              "</div>"
            ],
            "text/plain": [
              "         Date  Industrial_Production\n",
              "0  2013-01-01             102.324096\n",
              "1  2013-01-02             102.332340\n",
              "2  2013-01-03             102.263736\n",
              "3  2013-01-04             102.243261\n",
              "4  2013-01-05             102.340215"
            ]
          },
          "metadata": {
            "tags": []
          },
          "execution_count": 8
        }
      ]
    },
    {
      "cell_type": "code",
      "metadata": {
        "id": "yS0klt51U8vY"
      },
      "source": [
        "#Values = df['Sold Units']*150"
      ],
      "execution_count": 9,
      "outputs": []
    },
    {
      "cell_type": "code",
      "metadata": {
        "id": "dmgOpvWTVHRz"
      },
      "source": [
        "#print(Values)"
      ],
      "execution_count": 10,
      "outputs": []
    },
    {
      "cell_type": "code",
      "metadata": {
        "colab": {
          "base_uri": "https://localhost:8080/"
        },
        "id": "SMMs3mzqn6kM",
        "outputId": "5162e860-3e74-4bf4-f521-72eaa5bd9201"
      },
      "source": [
        "df['Date'] = pd.to_datetime(df['Date']).dt.date\n",
        "df['Year'] = pd.to_datetime(df['Date']).dt.year\n",
        "df['Week'] = pd.to_datetime(df['Date']).dt.week\n",
        "df['Day'] = pd.to_datetime(df['Date']).dt.day\n",
        "df['WeekDay'] = pd.to_datetime(df['Date']).dt.dayofweek"
      ],
      "execution_count": 11,
      "outputs": [
        {
          "output_type": "stream",
          "text": [
            "/usr/local/lib/python3.7/dist-packages/ipykernel_launcher.py:3: FutureWarning:\n",
            "\n",
            "Series.dt.weekofyear and Series.dt.week have been deprecated.  Please use Series.dt.isocalendar().week instead.\n",
            "\n"
          ],
          "name": "stderr"
        }
      ]
    },
    {
      "cell_type": "code",
      "metadata": {
        "colab": {
          "base_uri": "https://localhost:8080/"
        },
        "id": "DmLAuhPdn7G9",
        "outputId": "0e67f4f0-f2fb-4644-a18b-85805dcf4b75"
      },
      "source": [
        "test['Date'] = pd.to_datetime(test['Date']).dt.date\n",
        "test['Year'] = pd.to_datetime(test['Date']).dt.year\n",
        "test['Week'] = pd.to_datetime(test['Date']).dt.week\n",
        "test['Day'] = pd.to_datetime(test['Date']).dt.day\n",
        "test['WeekDay'] = pd.to_datetime(test['Date']).dt.dayofweek"
      ],
      "execution_count": 12,
      "outputs": [
        {
          "output_type": "stream",
          "text": [
            "/usr/local/lib/python3.7/dist-packages/ipykernel_launcher.py:3: FutureWarning:\n",
            "\n",
            "Series.dt.weekofyear and Series.dt.week have been deprecated.  Please use Series.dt.isocalendar().week instead.\n",
            "\n"
          ],
          "name": "stderr"
        }
      ]
    },
    {
      "cell_type": "code",
      "metadata": {
        "colab": {
          "base_uri": "https://localhost:8080/",
          "height": 195
        },
        "id": "qmo8NTGadWJq",
        "outputId": "f5260a2a-b4b4-47a7-a597-a954bf0dfd49"
      },
      "source": [
        "df.head()"
      ],
      "execution_count": 13,
      "outputs": [
        {
          "output_type": "execute_result",
          "data": {
            "text/html": [
              "<div>\n",
              "<style scoped>\n",
              "    .dataframe tbody tr th:only-of-type {\n",
              "        vertical-align: middle;\n",
              "    }\n",
              "\n",
              "    .dataframe tbody tr th {\n",
              "        vertical-align: top;\n",
              "    }\n",
              "\n",
              "    .dataframe thead th {\n",
              "        text-align: right;\n",
              "    }\n",
              "</style>\n",
              "<table border=\"1\" class=\"dataframe\">\n",
              "  <thead>\n",
              "    <tr style=\"text-align: right;\">\n",
              "      <th></th>\n",
              "      <th>Date</th>\n",
              "      <th>Industrial_Production</th>\n",
              "      <th>Year</th>\n",
              "      <th>Week</th>\n",
              "      <th>Day</th>\n",
              "      <th>WeekDay</th>\n",
              "    </tr>\n",
              "  </thead>\n",
              "  <tbody>\n",
              "    <tr>\n",
              "      <th>0</th>\n",
              "      <td>2013-01-01</td>\n",
              "      <td>102.324096</td>\n",
              "      <td>2013</td>\n",
              "      <td>1</td>\n",
              "      <td>1</td>\n",
              "      <td>1</td>\n",
              "    </tr>\n",
              "    <tr>\n",
              "      <th>1</th>\n",
              "      <td>2013-01-02</td>\n",
              "      <td>102.332340</td>\n",
              "      <td>2013</td>\n",
              "      <td>1</td>\n",
              "      <td>2</td>\n",
              "      <td>2</td>\n",
              "    </tr>\n",
              "    <tr>\n",
              "      <th>2</th>\n",
              "      <td>2013-01-03</td>\n",
              "      <td>102.263736</td>\n",
              "      <td>2013</td>\n",
              "      <td>1</td>\n",
              "      <td>3</td>\n",
              "      <td>3</td>\n",
              "    </tr>\n",
              "    <tr>\n",
              "      <th>3</th>\n",
              "      <td>2013-01-04</td>\n",
              "      <td>102.243261</td>\n",
              "      <td>2013</td>\n",
              "      <td>1</td>\n",
              "      <td>4</td>\n",
              "      <td>4</td>\n",
              "    </tr>\n",
              "    <tr>\n",
              "      <th>4</th>\n",
              "      <td>2013-01-05</td>\n",
              "      <td>102.340215</td>\n",
              "      <td>2013</td>\n",
              "      <td>1</td>\n",
              "      <td>5</td>\n",
              "      <td>5</td>\n",
              "    </tr>\n",
              "  </tbody>\n",
              "</table>\n",
              "</div>"
            ],
            "text/plain": [
              "         Date  Industrial_Production  Year  Week  Day  WeekDay\n",
              "0  2013-01-01             102.324096  2013     1    1        1\n",
              "1  2013-01-02             102.332340  2013     1    2        2\n",
              "2  2013-01-03             102.263736  2013     1    3        3\n",
              "3  2013-01-04             102.243261  2013     1    4        4\n",
              "4  2013-01-05             102.340215  2013     1    5        5"
            ]
          },
          "metadata": {
            "tags": []
          },
          "execution_count": 13
        }
      ]
    },
    {
      "cell_type": "code",
      "metadata": {
        "colab": {
          "base_uri": "https://localhost:8080/",
          "height": 195
        },
        "id": "v8fWdMEoyzbA",
        "outputId": "dd5b10d4-655c-45fe-ad22-d3cf6392a947"
      },
      "source": [
        "df.head()"
      ],
      "execution_count": 14,
      "outputs": [
        {
          "output_type": "execute_result",
          "data": {
            "text/html": [
              "<div>\n",
              "<style scoped>\n",
              "    .dataframe tbody tr th:only-of-type {\n",
              "        vertical-align: middle;\n",
              "    }\n",
              "\n",
              "    .dataframe tbody tr th {\n",
              "        vertical-align: top;\n",
              "    }\n",
              "\n",
              "    .dataframe thead th {\n",
              "        text-align: right;\n",
              "    }\n",
              "</style>\n",
              "<table border=\"1\" class=\"dataframe\">\n",
              "  <thead>\n",
              "    <tr style=\"text-align: right;\">\n",
              "      <th></th>\n",
              "      <th>Date</th>\n",
              "      <th>Industrial_Production</th>\n",
              "      <th>Year</th>\n",
              "      <th>Week</th>\n",
              "      <th>Day</th>\n",
              "      <th>WeekDay</th>\n",
              "    </tr>\n",
              "  </thead>\n",
              "  <tbody>\n",
              "    <tr>\n",
              "      <th>0</th>\n",
              "      <td>2013-01-01</td>\n",
              "      <td>102.324096</td>\n",
              "      <td>2013</td>\n",
              "      <td>1</td>\n",
              "      <td>1</td>\n",
              "      <td>1</td>\n",
              "    </tr>\n",
              "    <tr>\n",
              "      <th>1</th>\n",
              "      <td>2013-01-02</td>\n",
              "      <td>102.332340</td>\n",
              "      <td>2013</td>\n",
              "      <td>1</td>\n",
              "      <td>2</td>\n",
              "      <td>2</td>\n",
              "    </tr>\n",
              "    <tr>\n",
              "      <th>2</th>\n",
              "      <td>2013-01-03</td>\n",
              "      <td>102.263736</td>\n",
              "      <td>2013</td>\n",
              "      <td>1</td>\n",
              "      <td>3</td>\n",
              "      <td>3</td>\n",
              "    </tr>\n",
              "    <tr>\n",
              "      <th>3</th>\n",
              "      <td>2013-01-04</td>\n",
              "      <td>102.243261</td>\n",
              "      <td>2013</td>\n",
              "      <td>1</td>\n",
              "      <td>4</td>\n",
              "      <td>4</td>\n",
              "    </tr>\n",
              "    <tr>\n",
              "      <th>4</th>\n",
              "      <td>2013-01-05</td>\n",
              "      <td>102.340215</td>\n",
              "      <td>2013</td>\n",
              "      <td>1</td>\n",
              "      <td>5</td>\n",
              "      <td>5</td>\n",
              "    </tr>\n",
              "  </tbody>\n",
              "</table>\n",
              "</div>"
            ],
            "text/plain": [
              "         Date  Industrial_Production  Year  Week  Day  WeekDay\n",
              "0  2013-01-01             102.324096  2013     1    1        1\n",
              "1  2013-01-02             102.332340  2013     1    2        2\n",
              "2  2013-01-03             102.263736  2013     1    3        3\n",
              "3  2013-01-04             102.243261  2013     1    4        4\n",
              "4  2013-01-05             102.340215  2013     1    5        5"
            ]
          },
          "metadata": {
            "tags": []
          },
          "execution_count": 14
        }
      ]
    },
    {
      "cell_type": "code",
      "metadata": {
        "colab": {
          "base_uri": "https://localhost:8080/",
          "height": 628
        },
        "id": "J6ZeTcqMdohE",
        "outputId": "2855a474-aaf4-49ff-bfb3-bcb27fe6f9bf"
      },
      "source": [
        "import seaborn as sns\n",
        "sns.set(rc={'figure.figsize':(16.7, 10)})\n",
        "sns.boxplot(x = df['Industrial_Production'])"
      ],
      "execution_count": 15,
      "outputs": [
        {
          "output_type": "execute_result",
          "data": {
            "text/plain": [
              "<matplotlib.axes._subplots.AxesSubplot at 0x7f9ae8e27dd0>"
            ]
          },
          "metadata": {
            "tags": []
          },
          "execution_count": 15
        },
        {
          "output_type": "display_data",
          "data": {
            "image/png": "[encoded data removed]",
            "text/plain": [
              "<Figure size 1202.4x720 with 1 Axes>"
            ]
          },
          "metadata": {
            "tags": []
          }
        }
      ]
    },
    {
      "cell_type": "code",
      "metadata": {
        "colab": {
          "base_uri": "https://localhost:8080/",
          "height": 611
        },
        "id": "0vZEkfBed9-q",
        "outputId": "57e3f5c1-1790-4764-eb6d-4bb9529224e8"
      },
      "source": [
        "B=plt.boxplot(df['Industrial_Production'])\n",
        "[item.get_ydata() for item in B['whiskers']]"
      ],
      "execution_count": 16,
      "outputs": [
        {
          "output_type": "execute_result",
          "data": {
            "text/plain": [
              "[array([102.31005093, 101.89248108]), array([102.60898539, 103.05736111])]"
            ]
          },
          "metadata": {
            "tags": []
          },
          "execution_count": 16
        },
        {
          "output_type": "display_data",
          "data": {
            "image/png": "[encoded data removed]",
            "text/plain": [
              "<Figure size 1202.4x720 with 1 Axes>"
            ]
          },
          "metadata": {
            "tags": []
          }
        }
      ]
    },
    {
      "cell_type": "code",
      "metadata": {
        "colab": {
          "base_uri": "https://localhost:8080/",
          "height": 715
        },
        "id": "bkP30ox5eHsZ",
        "outputId": "87deca41-eb51-4349-c384-42d854bab59d"
      },
      "source": [
        "sns.lineplot(df['Date'], df['Industrial_Production'])"
      ],
      "execution_count": 17,
      "outputs": [
        {
          "output_type": "stream",
          "text": [
            "/usr/local/lib/python3.7/dist-packages/seaborn/_decorators.py:43: FutureWarning:\n",
            "\n",
            "Pass the following variables as keyword args: x, y. From version 0.12, the only valid positional argument will be `data`, and passing other arguments without an explicit keyword will result in an error or misinterpretation.\n",
            "\n"
          ],
          "name": "stderr"
        },
        {
          "output_type": "execute_result",
          "data": {
            "text/plain": [
              "<matplotlib.axes._subplots.AxesSubplot at 0x7f9ae9231b10>"
            ]
          },
          "metadata": {
            "tags": []
          },
          "execution_count": 17
        },
        {
          "output_type": "display_data",
          "data": {
            "image/png": "[encoded data removed]",
            "text/plain": [
              "<Figure size 1202.4x720 with 1 Axes>"
            ]
          },
          "metadata": {
            "tags": []
          }
        }
      ]
    },
    {
      "cell_type": "code",
      "metadata": {
        "id": "zNhbZ5TsRHjv"
      },
      "source": [
        "import plotly.io as pio\n",
        "pio.renderers.default = 'colab'"
      ],
      "execution_count": 18,
      "outputs": []
    },
    {
      "cell_type": "code",
      "metadata": {
        "colab": {
          "base_uri": "https://localhost:8080/",
          "height": 542
        },
        "id": "iojKtNMTRM9C",
        "outputId": "9b14c262-91ad-4349-8f3d-7568d8e7dddf"
      },
      "source": [
        "import plotly.graph_objects as go\n",
        "from plotly.subplots import make_subplots\n",
        "import plotly.express as px\n",
        "\n",
        "\n",
        "figd = make_subplots(specs=[[{\"secondary_y\": True}]])\n",
        "\n",
        "figd.add_trace(go.Scatter(x=df['Date'], y=df['Industrial_Production'], name=\"Industrial_Production Per Day\"),secondary_y=True)\n",
        "\n",
        "\n",
        "figd.update_layout(title_text=\"Production Rate\")\n",
        "\n",
        "figd.update_xaxes(title_text=\"Date\")\n",
        "\n",
        "#figd.update_yaxes(title_text=\"Daily Recovered\", secondary_y=False)\n",
        "figd.update_yaxes(title_text=\"Production Rate\", secondary_y=False)\n",
        "\n",
        "'''figd = px.line(df, x=df['Date'], y=Values, title='Sold Units')\n",
        "for ser in figd['data']:\n",
        "    ser['text']=list(set([d.strftime('%Y-%m-%d') for d in df['Date']]))\n",
        "    ser['hovertemplate']='Date=%{text}<br>Sales=%{y}<extra></extra>' '''\n",
        "\n",
        "figd.show()"
      ],
      "execution_count": 20,
      "outputs": [
        {
          "output_type": "display_data",
          "data": {
            "text/html": [
              "<html>\n",
              "<head><meta charset=\"utf-8\" /></head>\n",
              "<body>\n",
              "    <div>\n",
              "            <script src=\"https://cdnjs.cloudflare.com/ajax/libs/mathjax/2.7.5/MathJax.js?config=TeX-AMS-MML_SVG\"></script><script type=\"text/javascript\">if (window.MathJax) {MathJax.Hub.Config({SVG: {font: \"STIX-Web\"}});}</script>\n",
              "                <script type=\"text/javascript\">window.PlotlyConfig = {MathJaxConfig: 'local'};</script>\n",
              "        <script src=\"https://cdn.plot.ly/plotly-latest.min.js\"></script>    \n",
              "            <div id=\"2488b4de-38ad-4bef-bacb-e9aeb8c4f1ae\" class=\"plotly-graph-div\" style=\"height:525px; width:100%;\"></div>\n",
              "            <script type=\"text/javascript\">\n",
              "                \n",
              "                    window.PLOTLYENV=window.PLOTLYENV || {};\n",
              "                    \n",
              "                if (document.getElementById(\"2488b4de-38ad-4bef-bacb-e9aeb8c4f1ae\")) {\n",
              "                    Plotly.newPlot(\n",
              "                        '2488b4de-38ad-4bef-bacb-e9aeb8c4f1ae',\n",
              "                        [{\"name\": \"Industrial_Production Per Day\", \"type\": \"scatter\", \"x\": [\"2013-01-01\", \"2013-01-02\", \"2013-01-03\", \"2013-01-04\", \"2013-01-05\", \"2013-01-06\", \"2013-01-07\", \"2013-01-08\", \"2013-01-09\", \"2013-01-10\", \"2013-01-11\", \"2013-01-12\", \"2013-01-13\", \"2013-01-14\", \"2013-01-15\", \"2013-01-16\", \"2013-01-17\", \"2013-01-18\", \"2013-01-19\", \"2013-01-20\", \"2013-01-21\", \"2013-01-22\", \"2013-01-23\", \"2013-01-24\", \"2013-01-25\", \"2013-01-26\", \"2013-01-27\", \"2013-01-28\", \"2013-01-29\", \"2013-01-30\", \"2013-01-31\", \"2013-02-01\", \"2013-02-02\", \"2013-02-03\", \"2013-02-04\", \"2013-02-05\", \"2013-02-06\", \"2013-02-07\", \"2013-02-08\", \"2013-02-09\", \"2013-02-10\", \"2013-02-11\", \"2013-02-12\", \"2013-02-13\", \"2013-02-14\", \"2013-02-15\", \"2013-02-16\", \"2013-02-17\", \"2013-02-18\", \"2013-02-19\", \"2013-02-20\", \"2013-02-21\", \"2013-02-22\", \"2013-02-23\", \"2013-02-24\", \"2013-02-25\", \"2013-02-26\", \"2013-02-27\", \"2013-02-28\", \"2013-03-01\", \"2013-03-02\", \"2013-03-03\", \"2013-03-04\", \"2013-03-05\", \"2013-03-06\", \"2013-03-07\", \"2013-03-08\", \"2013-03-09\", \"2013-03-10\", \"2013-03-11\", \"2013-03-12\", \"2013-03-13\", \"2013-03-14\", \"2013-03-15\", \"2013-03-16\", \"2013-03-17\", \"2013-03-18\", \"2013-03-19\", \"2013-03-20\", \"2013-03-21\", \"2013-03-22\", \"2013-03-23\", \"2013-03-24\", \"2013-03-25\", \"2013-03-26\", \"2013-03-27\", \"2013-03-28\", \"2013-03-29\", \"2013-03-30\", \"2013-03-31\", \"2013-04-01\", \"2013-04-02\", \"2013-04-03\", \"2013-04-04\", \"2013-04-05\", \"2013-04-06\", \"2013-04-07\", \"2013-04-08\", \"2013-04-09\", \"2013-04-10\", \"2013-04-11\", \"2013-04-12\", \"2013-04-13\", \"2013-04-14\", \"2013-04-15\", \"2013-04-16\", \"2013-04-17\", \"2013-04-18\", \"2013-04-19\", \"2013-04-20\", \"2013-04-21\", \"2013-04-22\", \"2013-04-23\", \"2013-04-24\", \"2013-04-25\", \"2013-04-26\", \"2013-04-27\", \"2013-04-28\", \"2013-04-29\", \"2013-04-30\", \"2013-05-01\", \"2013-05-02\", \"2013-05-03\", \"2013-05-04\", \"2013-05-05\", \"2013-05-06\", \"2013-05-07\", \"2013-05-08\", \"2013-05-09\", \"2013-05-10\", \"2013-05-11\", \"2013-05-12\", \"2013-05-13\", \"2013-05-14\", \"2013-05-15\", \"2013-05-16\", \"2013-05-17\", \"2013-05-18\", \"2013-05-19\", \"2013-05-20\", \"2013-05-21\", \"2013-05-22\", \"2013-05-23\", \"2013-05-24\", \"2013-05-25\", \"2013-05-26\", \"2013-05-27\", \"2013-05-28\", \"2013-05-29\", \"2013-05-30\", \"2013-05-31\", \"2013-06-01\", \"2013-06-02\", \"2013-06-03\", \"2013-06-04\", \"2013-06-05\", \"2013-06-06\", \"2013-06-07\", \"2013-06-08\", \"2013-06-09\", \"2013-06-10\", \"2013-06-11\", \"2013-06-12\", \"2013-06-13\", \"2013-06-14\", \"2013-06-15\", \"2013-06-16\", \"2013-06-17\", \"2013-06-18\", \"2013-06-19\", \"2013-06-20\", \"2013-06-21\", \"2013-06-22\", \"2013-06-23\", \"2013-06-24\", \"2013-06-25\", \"2013-06-26\", \"2013-06-27\", \"2013-06-28\", \"2013-06-29\", \"2013-06-30\", \"2013-07-01\", \"2013-07-02\", \"2013-07-03\", \"2013-07-04\", \"2013-07-05\", \"2013-07-06\", \"2013-07-07\", \"2013-07-08\", \"2013-07-09\", \"2013-07-10\", \"2013-07-11\", \"2013-07-12\", \"2013-07-13\", \"2013-07-14\", \"2013-07-15\", \"2013-07-16\", \"2013-07-17\", \"2013-07-18\", \"2013-07-19\", \"2013-07-20\", \"2013-07-21\", \"2013-07-22\", \"2013-07-23\", \"2013-07-24\", \"2013-07-25\", \"2013-07-26\", \"2013-07-27\", \"2013-07-28\", \"2013-07-29\", \"2013-07-30\", \"2013-07-31\", \"2013-08-01\", \"2013-08-02\", \"2013-08-03\", \"2013-08-04\", \"2013-08-05\", \"2013-08-06\", \"2013-08-07\", \"2013-08-08\", \"2013-08-09\", \"2013-08-10\", \"2013-08-11\", \"2013-08-12\", \"2013-08-13\", \"2013-08-14\", \"2013-08-15\", \"2013-08-16\", \"2013-08-17\", \"2013-08-18\", \"2013-08-19\", \"2013-08-20\", \"2013-08-21\", \"2013-08-22\", \"2013-08-23\", \"2013-08-24\", \"2013-08-25\", \"2013-08-26\", \"2013-08-27\", \"2013-08-28\", \"2013-08-29\", \"2013-08-30\", \"2013-08-31\", \"2013-09-01\", \"2013-09-02\", \"2013-09-03\", \"2013-09-04\", \"2013-09-05\", \"2013-09-06\", \"2013-09-07\", \"2013-09-08\", \"2013-09-09\", \"2013-09-10\", \"2013-09-11\", \"2013-09-12\", \"2013-09-13\", \"2013-09-14\", \"2013-09-15\", \"2013-09-16\", \"2013-09-17\", \"2013-09-18\", \"2013-09-19\", \"2013-09-20\", \"2013-09-21\", \"2013-09-22\", \"2013-09-23\", \"2013-09-24\", \"2013-09-25\", \"2013-09-26\", \"2013-09-27\", \"2013-09-28\", \"2013-09-29\", \"2013-09-30\", \"2013-10-01\", \"2013-10-02\", \"2013-10-03\", \"2013-10-04\", \"2013-10-05\", \"2013-10-06\", \"2013-10-07\", \"2013-10-08\", \"2013-10-09\", \"2013-10-10\", \"2013-10-11\", \"2013-10-12\", \"2013-10-13\", \"2013-10-14\", \"2013-10-15\", \"2013-10-16\", \"2013-10-17\", \"2013-10-18\", \"2013-10-19\", \"2013-10-20\", \"2013-10-21\", \"2013-10-22\", \"2013-10-23\", \"2013-10-24\", \"2013-10-25\", \"2013-10-26\", \"2013-10-27\", \"2013-10-28\", \"2013-10-29\", \"2013-10-30\", \"2013-10-31\", \"2013-11-01\", \"2013-11-02\", \"2013-11-03\", \"2013-11-04\", \"2013-11-05\", \"2013-11-06\", \"2013-11-07\", \"2013-11-08\", \"2013-11-09\", \"2013-11-10\", \"2013-11-11\", \"2013-11-12\", \"2013-11-13\", \"2013-11-14\", \"2013-11-15\", \"2013-11-16\", \"2013-11-17\", \"2013-11-18\", \"2013-11-19\", \"2013-11-20\", \"2013-11-21\", \"2013-11-22\", \"2013-11-23\", \"2013-11-24\", \"2013-11-25\", \"2013-11-26\", \"2013-11-27\", \"2013-11-28\", \"2013-11-29\", \"2013-11-30\", \"2013-12-01\", \"2013-12-02\", \"2013-12-03\", \"2013-12-04\", \"2013-12-05\", \"2013-12-06\", \"2013-12-07\", \"2013-12-08\", \"2013-12-09\", \"2013-12-10\", \"2013-12-11\", \"2013-12-12\", \"2013-12-13\", \"2013-12-14\", \"2013-12-15\", \"2013-12-16\", \"2013-12-17\", \"2013-12-18\", \"2013-12-19\", \"2013-12-20\", \"2013-12-21\", \"2013-12-22\", \"2013-12-23\", \"2013-12-24\", \"2013-12-25\", \"2013-12-26\", \"2013-12-27\", \"2013-12-28\", \"2013-12-29\", \"2013-12-30\", \"2013-12-31\", \"2014-01-01\", \"2014-01-02\", \"2014-01-03\", \"2014-01-04\", \"2014-01-05\", \"2014-01-06\", \"2014-01-07\", \"2014-01-08\", \"2014-01-09\", \"2014-01-10\", \"2014-01-11\", \"2014-01-12\", \"2014-01-13\", \"2014-01-14\", \"2014-01-15\", \"2014-01-16\", \"2014-01-17\", \"2014-01-18\", \"2014-01-19\", \"2014-01-20\", \"2014-01-21\", \"2014-01-22\", \"2014-01-23\", \"2014-01-24\", \"2014-01-25\", \"2014-01-26\", \"2014-01-27\", \"2014-01-28\", \"2014-01-29\", \"2014-01-30\", \"2014-01-31\", \"2014-02-01\", \"2014-02-02\", \"2014-02-03\", \"2014-02-04\", \"2014-02-05\", \"2014-02-06\", \"2014-02-07\", \"2014-02-08\", \"2014-02-09\", \"2014-02-10\", \"2014-02-11\", \"2014-02-12\", \"2014-02-13\", \"2014-02-14\", \"2014-02-15\", \"2014-02-16\", \"2014-02-17\", \"2014-02-18\", \"2014-02-19\", \"2014-02-20\", \"2014-02-21\", \"2014-02-22\", \"2014-02-23\", \"2014-02-24\", \"2014-02-25\", \"2014-02-26\", \"2014-02-27\", \"2014-02-28\", \"2014-03-01\", \"2014-03-02\", \"2014-03-03\", \"2014-03-04\", \"2014-03-05\", \"2014-03-06\", \"2014-03-07\", \"2014-03-08\", \"2014-03-09\", \"2014-03-10\", \"2014-03-11\", \"2014-03-12\", \"2014-03-13\", \"2014-03-14\", \"2014-03-15\", \"2014-03-16\", \"2014-03-17\", \"2014-03-18\", \"2014-03-19\", \"2014-03-20\", \"2014-03-21\", \"2014-03-22\", \"2014-03-23\", \"2014-03-24\", \"2014-03-25\", \"2014-03-26\", \"2014-03-27\", \"2014-03-28\", \"2014-03-29\", \"2014-03-30\", \"2014-03-31\", \"2014-04-01\", \"2014-04-02\", \"2014-04-03\", \"2014-04-04\", \"2014-04-05\", \"2014-04-06\", \"2014-04-07\", \"2014-04-08\", \"2014-04-09\", \"2014-04-10\", \"2014-04-11\", \"2014-04-12\", \"2014-04-13\", \"2014-04-14\", \"2014-04-15\", \"2014-04-16\", \"2014-04-17\", \"2014-04-18\", \"2014-04-19\", \"2014-04-20\", \"2014-04-21\", \"2014-04-22\", \"2014-04-23\", \"2014-04-24\", \"2014-04-25\", \"2014-04-26\", \"2014-04-27\", \"2014-04-28\", \"2014-04-29\", \"2014-04-30\", \"2014-05-01\", \"2014-05-02\", \"2014-05-03\", \"2014-05-04\", \"2014-05-05\", \"2014-05-06\", \"2014-05-07\", \"2014-05-08\", \"2014-05-09\", \"2014-05-10\", \"2014-05-11\", \"2014-05-12\", \"2014-05-13\", \"2014-05-14\", \"2014-05-15\", \"2014-05-16\", \"2014-05-17\", \"2014-05-18\", \"2014-05-19\", \"2014-05-20\", \"2014-05-21\", \"2014-05-22\", \"2014-05-23\", \"2014-05-24\", \"2014-05-25\", \"2014-05-26\", \"2014-05-27\", \"2014-05-28\", \"2014-05-29\", \"2014-05-30\", \"2014-05-31\", \"2014-06-01\", \"2014-06-02\", \"2014-06-03\", \"2014-06-04\", \"2014-06-05\", \"2014-06-06\", \"2014-06-07\", \"2014-06-08\", \"2014-06-09\", \"2014-06-10\", \"2014-06-11\", \"2014-06-12\", \"2014-06-13\", \"2014-06-14\", \"2014-06-15\", \"2014-06-16\", \"2014-06-17\", \"2014-06-18\", \"2014-06-19\", \"2014-06-20\", \"2014-06-21\", \"2014-06-22\", \"2014-06-23\", \"2014-06-24\", \"2014-06-25\", \"2014-06-26\", \"2014-06-27\", \"2014-06-28\", \"2014-06-29\", \"2014-06-30\", \"2014-07-01\", \"2014-07-02\", \"2014-07-03\", \"2014-07-04\", \"2014-07-05\", \"2014-07-06\", \"2014-07-07\", \"2014-07-08\", \"2014-07-09\", \"2014-07-10\", \"2014-07-11\", \"2014-07-12\", \"2014-07-13\", \"2014-07-14\", \"2014-07-15\", \"2014-07-16\", \"2014-07-17\", \"2014-07-18\", \"2014-07-19\", \"2014-07-20\", \"2014-07-21\", \"2014-07-22\", \"2014-07-23\", \"2014-07-24\", \"2014-07-25\", \"2014-07-26\", \"2014-07-27\", \"2014-07-28\", \"2014-07-29\", \"2014-07-30\", \"2014-07-31\", \"2014-08-01\", \"2014-08-02\", \"2014-08-03\", \"2014-08-04\", \"2014-08-05\", \"2014-08-06\", \"2014-08-07\", \"2014-08-08\", \"2014-08-09\", \"2014-08-10\", \"2014-08-11\", \"2014-08-12\", \"2014-08-13\", \"2014-08-14\", \"2014-08-15\", \"2014-08-16\", \"2014-08-17\", \"2014-08-18\", \"2014-08-19\", \"2014-08-20\", \"2014-08-21\", \"2014-08-22\", \"2014-08-23\", \"2014-08-24\", \"2014-08-25\", \"2014-08-26\", \"2014-08-27\", \"2014-08-28\", \"2014-08-29\", \"2014-08-30\", \"2014-08-31\", \"2014-09-01\", \"2014-09-02\", \"2014-09-03\", \"2014-09-04\", \"2014-09-05\", \"2014-09-06\", \"2014-09-07\", \"2014-09-08\", \"2014-09-09\", \"2014-09-10\", \"2014-09-11\", \"2014-09-12\", \"2014-09-13\", \"2014-09-14\", \"2014-09-15\", \"2014-09-16\", \"2014-09-17\", \"2014-09-18\", \"2014-09-19\", \"2014-09-20\", \"2014-09-21\", \"2014-09-22\", \"2014-09-23\", \"2014-09-24\", \"2014-09-25\", \"2014-09-26\", \"2014-09-27\", \"2014-09-28\", \"2014-09-29\", \"2014-09-30\", \"2014-10-01\", \"2014-10-02\", \"2014-10-03\", \"2014-10-04\", \"2014-10-05\", \"2014-10-06\", \"2014-10-07\", \"2014-10-08\", \"2014-10-09\", \"2014-10-10\", \"2014-10-11\", \"2014-10-12\", \"2014-10-13\", \"2014-10-14\", \"2014-10-15\", \"2014-10-16\", \"2014-10-17\", \"2014-10-18\", \"2014-10-19\", \"2014-10-20\", \"2014-10-21\", \"2014-10-22\", \"2014-10-23\", \"2014-10-24\", \"2014-10-25\", \"2014-10-26\", \"2014-10-27\", \"2014-10-28\", \"2014-10-29\", \"2014-10-30\", \"2014-10-31\", \"2014-11-01\", \"2014-11-02\", \"2014-11-03\", \"2014-11-04\", \"2014-11-05\", \"2014-11-06\", \"2014-11-07\", \"2014-11-08\", \"2014-11-09\", \"2014-11-10\", \"2014-11-11\", \"2014-11-12\", \"2014-11-13\", \"2014-11-14\", \"2014-11-15\", \"2014-11-16\", \"2014-11-17\", \"2014-11-18\", \"2014-11-19\", \"2014-11-20\", \"2014-11-21\", \"2014-11-22\", \"2014-11-23\", \"2014-11-24\", \"2014-11-25\", \"2014-11-26\", \"2014-11-27\", \"2014-11-28\", \"2014-11-29\", \"2014-11-30\", \"2014-12-01\", \"2014-12-02\", \"2014-12-03\", \"2014-12-04\", \"2014-12-05\", \"2014-12-06\", \"2014-12-07\", \"2014-12-08\", \"2014-12-09\", \"2014-12-10\", \"2014-12-11\", \"2014-12-12\", \"2014-12-13\", \"2014-12-14\", \"2014-12-15\", \"2014-12-16\", \"2014-12-17\", \"2014-12-18\", \"2014-12-19\", \"2014-12-20\", \"2014-12-21\", \"2014-12-22\", \"2014-12-23\", \"2014-12-24\", \"2014-12-25\", \"2014-12-26\", \"2014-12-27\", \"2014-12-28\", \"2014-12-29\", \"2014-12-30\", \"2014-12-31\", \"2015-01-01\", \"2015-01-02\", \"2015-01-03\", \"2015-01-04\", \"2015-01-05\", \"2015-01-06\", \"2015-01-07\", \"2015-01-08\", \"2015-01-09\", \"2015-01-10\", \"2015-01-11\", \"2015-01-12\", \"2015-01-13\", \"2015-01-14\", \"2015-01-15\", \"2015-01-16\", \"2015-01-17\", \"2015-01-18\", \"2015-01-19\", \"2015-01-20\", \"2015-01-21\", \"2015-01-22\", \"2015-01-23\", \"2015-01-24\", \"2015-01-25\", \"2015-01-26\", \"2015-01-27\", \"2015-01-28\", \"2015-01-29\", \"2015-01-30\", \"2015-01-31\", \"2015-02-01\", \"2015-02-02\", \"2015-02-03\", \"2015-02-04\", \"2015-02-05\", \"2015-02-06\", \"2015-02-07\", \"2015-02-08\", \"2015-02-09\", \"2015-02-10\", \"2015-02-11\", \"2015-02-12\", \"2015-02-13\", \"2015-02-14\", \"2015-02-15\", \"2015-02-16\", \"2015-02-17\", \"2015-02-18\", \"2015-02-19\", \"2015-02-20\", \"2015-02-21\", \"2015-02-22\", \"2015-02-23\", \"2015-02-24\", \"2015-02-25\", \"2015-02-26\", \"2015-02-27\", \"2015-02-28\", \"2015-03-01\", \"2015-03-02\", \"2015-03-03\", \"2015-03-04\", \"2015-03-05\", \"2015-03-06\", \"2015-03-07\", \"2015-03-08\", \"2015-03-09\", \"2015-03-10\", \"2015-03-11\", \"2015-03-12\", \"2015-03-13\", \"2015-03-14\", \"2015-03-15\", \"2015-03-16\", \"2015-03-17\", \"2015-03-18\", \"2015-03-19\", \"2015-03-20\", \"2015-03-21\", \"2015-03-22\", \"2015-03-23\", \"2015-03-24\", \"2015-03-25\", \"2015-03-26\", \"2015-03-27\", \"2015-03-28\", \"2015-03-29\", \"2015-03-30\", \"2015-03-31\", \"2015-04-01\", \"2015-04-02\", \"2015-04-03\", \"2015-04-04\", \"2015-04-05\", \"2015-04-06\", \"2015-04-07\", \"2015-04-08\", \"2015-04-09\", \"2015-04-10\", \"2015-04-11\", \"2015-04-12\", \"2015-04-13\", \"2015-04-14\", \"2015-04-15\", \"2015-04-16\", \"2015-04-17\", \"2015-04-18\", \"2015-04-19\", \"2015-04-20\", \"2015-04-21\", \"2015-04-22\", \"2015-04-23\", \"2015-04-24\", \"2015-04-25\", \"2015-04-26\", \"2015-04-27\", \"2015-04-28\", \"2015-04-29\", \"2015-04-30\", \"2015-05-01\", \"2015-05-02\", \"2015-05-03\", \"2015-05-04\", \"2015-05-05\", \"2015-05-06\", \"2015-05-07\", \"2015-05-08\", \"2015-05-09\", \"2015-05-10\", \"2015-05-11\", \"2015-05-12\", \"2015-05-13\", \"2015-05-14\", \"2015-05-15\", \"2015-05-16\", \"2015-05-17\", \"2015-05-18\", \"2015-05-19\", \"2015-05-20\", \"2015-05-21\", \"2015-05-22\", \"2015-05-23\", \"2015-05-24\", \"2015-05-25\", \"2015-05-26\", \"2015-05-27\", \"2015-05-28\", \"2015-05-29\", \"2015-05-30\", \"2015-05-31\", \"2015-06-01\", \"2015-06-02\", \"2015-06-03\", \"2015-06-04\", \"2015-06-05\", \"2015-06-06\", \"2015-06-07\", \"2015-06-08\", \"2015-06-09\", \"2015-06-10\", \"2015-06-11\", \"2015-06-12\", \"2015-06-13\", \"2015-06-14\", \"2015-06-15\", \"2015-06-16\", \"2015-06-17\", \"2015-06-18\", \"2015-06-19\", \"2015-06-20\", \"2015-06-21\", \"2015-06-22\", \"2015-06-23\", \"2015-06-24\", \"2015-06-25\", \"2015-06-26\", \"2015-06-27\", \"2015-06-28\", \"2015-06-29\", \"2015-06-30\", \"2015-07-01\", \"2015-07-02\", \"2015-07-03\", \"2015-07-04\", \"2015-07-05\", \"2015-07-06\", \"2015-07-07\", \"2015-07-08\", \"2015-07-09\", \"2015-07-10\", \"2015-07-11\", \"2015-07-12\", \"2015-07-13\", \"2015-07-14\", \"2015-07-15\", \"2015-07-16\", \"2015-07-17\", \"2015-07-18\", \"2015-07-19\", \"2015-07-20\", \"2015-07-21\", \"2015-07-22\", \"2015-07-23\", \"2015-07-24\", \"2015-07-25\", \"2015-07-26\", \"2015-07-27\", \"2015-07-28\", \"2015-07-29\", \"2015-07-30\", \"2015-07-31\", \"2015-08-01\", \"2015-08-02\", \"2015-08-03\", \"2015-08-04\", \"2015-08-05\", \"2015-08-06\", \"2015-08-07\", \"2015-08-08\", \"2015-08-09\", \"2015-08-10\", \"2015-08-11\", \"2015-08-12\", \"2015-08-13\", \"2015-08-14\", \"2015-08-15\", \"2015-08-16\", \"2015-08-17\", \"2015-08-18\", \"2015-08-19\", \"2015-08-20\", \"2015-08-21\", \"2015-08-22\", \"2015-08-23\", \"2015-08-24\", \"2015-08-25\", \"2015-08-26\", \"2015-08-27\", \"2015-08-28\", \"2015-08-29\", \"2015-08-30\", \"2015-08-31\", \"2015-09-01\", \"2015-09-02\", \"2015-09-03\", \"2015-09-04\", \"2015-09-05\", \"2015-09-06\", \"2015-09-07\", \"2015-09-08\", \"2015-09-09\", \"2015-09-10\", \"2015-09-11\", \"2015-09-12\", \"2015-09-13\", \"2015-09-14\", \"2015-09-15\", \"2015-09-16\", \"2015-09-17\", \"2015-09-18\", \"2015-09-19\", \"2015-09-20\", \"2015-09-21\", \"2015-09-22\", \"2015-09-23\", \"2015-09-24\", \"2015-09-25\", \"2015-09-26\", \"2015-09-27\", \"2015-09-28\", \"2015-09-29\", \"2015-09-30\", \"2015-10-01\", \"2015-10-02\", \"2015-10-03\", \"2015-10-04\", \"2015-10-05\", \"2015-10-06\", \"2015-10-07\", \"2015-10-08\", \"2015-10-09\", \"2015-10-10\", \"2015-10-11\", \"2015-10-12\", \"2015-10-13\", \"2015-10-14\", \"2015-10-15\", \"2015-10-16\", \"2015-10-17\", \"2015-10-18\", \"2015-10-19\", \"2015-10-20\", \"2015-10-21\", \"2015-10-22\", \"2015-10-23\", \"2015-10-24\", \"2015-10-25\", \"2015-10-26\", \"2015-10-27\", \"2015-10-28\", \"2015-10-29\", \"2015-10-30\", \"2015-10-31\", \"2015-11-01\", \"2015-11-02\", \"2015-11-03\", \"2015-11-04\", \"2015-11-05\", \"2015-11-06\", \"2015-11-07\", \"2015-11-08\", \"2015-11-09\", \"2015-11-10\", \"2015-11-11\", \"2015-11-12\", \"2015-11-13\", \"2015-11-14\", \"2015-11-15\", \"2015-11-16\", \"2015-11-17\", \"2015-11-18\", \"2015-11-19\", \"2015-11-20\", \"2015-11-21\", \"2015-11-22\", \"2015-11-23\", \"2015-11-24\", \"2015-11-25\", \"2015-11-26\", \"2015-11-27\", \"2015-11-28\", \"2015-11-29\", \"2015-11-30\", \"2015-12-01\", \"2015-12-02\", \"2015-12-03\", \"2015-12-04\", \"2015-12-05\", \"2015-12-06\", \"2015-12-07\", \"2015-12-08\", \"2015-12-09\", \"2015-12-10\", \"2015-12-11\", \"2015-12-12\", \"2015-12-13\", \"2015-12-14\", \"2015-12-15\", \"2015-12-16\", \"2015-12-17\", \"2015-12-18\", \"2015-12-19\", \"2015-12-20\", \"2015-12-21\", \"2015-12-22\", \"2015-12-23\", \"2015-12-24\", \"2015-12-25\", \"2015-12-26\", \"2015-12-27\", \"2015-12-28\", \"2015-12-29\", \"2015-12-30\", \"2015-12-31\", \"2016-01-01\", \"2016-01-02\", \"2016-01-03\", \"2016-01-04\", \"2016-01-05\", \"2016-01-06\", \"2016-01-07\", \"2016-01-08\", \"2016-01-09\", \"2016-01-10\", \"2016-01-11\", \"2016-01-12\", \"2016-01-13\", \"2016-01-14\", \"2016-01-15\", \"2016-01-16\", \"2016-01-17\", \"2016-01-18\", \"2016-01-19\", \"2016-01-20\", \"2016-01-21\", \"2016-01-22\", \"2016-01-23\", \"2016-01-24\", \"2016-01-25\", \"2016-01-26\", \"2016-01-27\", \"2016-01-28\", \"2016-01-29\", \"2016-01-30\", \"2016-01-31\", \"2016-02-01\", \"2016-02-02\", \"2016-02-03\", \"2016-02-04\", \"2016-02-05\", \"2016-02-06\", \"2016-02-07\", \"2016-02-08\", \"2016-02-09\", \"2016-02-10\", \"2016-02-11\", \"2016-02-12\", \"2016-02-13\", \"2016-02-14\", \"2016-02-15\", \"2016-02-16\", \"2016-02-17\", \"2016-02-18\", \"2016-02-19\", \"2016-02-20\", \"2016-02-21\", \"2016-02-22\", \"2016-02-23\", \"2016-02-24\", \"2016-02-25\", \"2016-02-26\", \"2016-02-27\", \"2016-02-28\", \"2016-02-29\", \"2016-03-01\", \"2016-03-02\", \"2016-03-03\", \"2016-03-04\", \"2016-03-05\", \"2016-03-06\", \"2016-03-07\", \"2016-03-08\", \"2016-03-09\", \"2016-03-10\", \"2016-03-11\", \"2016-03-12\", \"2016-03-13\", \"2016-03-14\", \"2016-03-15\", \"2016-03-16\", \"2016-03-17\", \"2016-03-18\", \"2016-03-19\", \"2016-03-20\", \"2016-03-21\", \"2016-03-22\", \"2016-03-23\", \"2016-03-24\", \"2016-03-25\", \"2016-03-26\", \"2016-03-27\", \"2016-03-28\", \"2016-03-29\", \"2016-03-30\", \"2016-03-31\", \"2016-04-01\", \"2016-04-02\", \"2016-04-03\", \"2016-04-04\", \"2016-04-05\", \"2016-04-06\", \"2016-04-07\", \"2016-04-08\", \"2016-04-09\", \"2016-04-10\", \"2016-04-11\", \"2016-04-12\", \"2016-04-13\", \"2016-04-14\", \"2016-04-15\", \"2016-04-16\", \"2016-04-17\", \"2016-04-18\", \"2016-04-19\", \"2016-04-20\", \"2016-04-21\", \"2016-04-22\", \"2016-04-23\", \"2016-04-24\", \"2016-04-25\", \"2016-04-26\", \"2016-04-27\", \"2016-04-28\", \"2016-04-29\", \"2016-04-30\", \"2016-05-01\", \"2016-05-02\", \"2016-05-03\", \"2016-05-04\", \"2016-05-05\", \"2016-05-06\", \"2016-05-07\", \"2016-05-08\", \"2016-05-09\", \"2016-05-10\", \"2016-05-11\", \"2016-05-12\", \"2016-05-13\", \"2016-05-14\", \"2016-05-15\", \"2016-05-16\", \"2016-05-17\", \"2016-05-18\", \"2016-05-19\", \"2016-05-20\", \"2016-05-21\", \"2016-05-22\", \"2016-05-23\", \"2016-05-24\", \"2016-05-25\", \"2016-05-26\", \"2016-05-27\", \"2016-05-28\", \"2016-05-29\", \"2016-05-30\", \"2016-05-31\", \"2016-06-01\", \"2016-06-02\", \"2016-06-03\", \"2016-06-04\", \"2016-06-05\", \"2016-06-06\", \"2016-06-07\", \"2016-06-08\", \"2016-06-09\", \"2016-06-10\", \"2016-06-11\", \"2016-06-12\", \"2016-06-13\", \"2016-06-14\", \"2016-06-15\", \"2016-06-16\", \"2016-06-17\", \"2016-06-18\", \"2016-06-19\", \"2016-06-20\", \"2016-06-21\", \"2016-06-22\", \"2016-06-23\", \"2016-06-24\", \"2016-06-25\", \"2016-06-26\", \"2016-06-27\", \"2016-06-28\", \"2016-06-29\", \"2016-06-30\", \"2016-07-01\", \"2016-07-02\", \"2016-07-03\", \"2016-07-04\", \"2016-07-05\", \"2016-07-06\", \"2016-07-07\", \"2016-07-08\", \"2016-07-09\", \"2016-07-10\", \"2016-07-11\", \"2016-07-12\", \"2016-07-13\", \"2016-07-14\", \"2016-07-15\", \"2016-07-16\", \"2016-07-17\", \"2016-07-18\", \"2016-07-19\", \"2016-07-20\", \"2016-07-21\", \"2016-07-22\", \"2016-07-23\", \"2016-07-24\", \"2016-07-25\", \"2016-07-26\", \"2016-07-27\", \"2016-07-28\", \"2016-07-29\", \"2016-07-30\", \"2016-07-31\", \"2016-08-01\", \"2016-08-02\", \"2016-08-03\", \"2016-08-04\", \"2016-08-05\", \"2016-08-06\", \"2016-08-07\", \"2016-08-08\", \"2016-08-09\", \"2016-08-10\", \"2016-08-11\", \"2016-08-12\", \"2016-08-13\", \"2016-08-14\", \"2016-08-15\", \"2016-08-16\", \"2016-08-17\", \"2016-08-18\", \"2016-08-19\", \"2016-08-20\", \"2016-08-21\", \"2016-08-22\", \"2016-08-23\", \"2016-08-24\", \"2016-08-25\", \"2016-08-26\", \"2016-08-27\", \"2016-08-28\", \"2016-08-29\", \"2016-08-30\", \"2016-08-31\", \"2016-09-01\", \"2016-09-02\", \"2016-09-03\", \"2016-09-04\", \"2016-09-05\", \"2016-09-06\", \"2016-09-07\", \"2016-09-08\", \"2016-09-09\", \"2016-09-10\", \"2016-09-11\", \"2016-09-12\", \"2016-09-13\", \"2016-09-14\", \"2016-09-15\", \"2016-09-16\", \"2016-09-17\", \"2016-09-18\", \"2016-09-19\", \"2016-09-20\", \"2016-09-21\", \"2016-09-22\", \"2016-09-23\", \"2016-09-24\", \"2016-09-25\", \"2016-09-26\", \"2016-09-27\", \"2016-09-28\", \"2016-09-29\", \"2016-09-30\", \"2016-10-01\", \"2016-10-02\", \"2016-10-03\", \"2016-10-04\", \"2016-10-05\", \"2016-10-06\", \"2016-10-07\", \"2016-10-08\", \"2016-10-09\", \"2016-10-10\", \"2016-10-11\", \"2016-10-12\", \"2016-10-13\", \"2016-10-14\", \"2016-10-15\", \"2016-10-16\", \"2016-10-17\", \"2016-10-18\", \"2016-10-19\", \"2016-10-20\", \"2016-10-21\", \"2016-10-22\", \"2016-10-23\", \"2016-10-24\", \"2016-10-25\", \"2016-10-26\", \"2016-10-27\", \"2016-10-28\", \"2016-10-29\", \"2016-10-30\", \"2016-10-31\", \"2016-11-01\", \"2016-11-02\", \"2016-11-03\", \"2016-11-04\", \"2016-11-05\", \"2016-11-06\", \"2016-11-07\", \"2016-11-08\", \"2016-11-09\", \"2016-11-10\", \"2016-11-11\", \"2016-11-12\", \"2016-11-13\", \"2016-11-14\", \"2016-11-15\", \"2016-11-16\", \"2016-11-17\", \"2016-11-18\", \"2016-11-19\", \"2016-11-20\", \"2016-11-21\", \"2016-11-22\", \"2016-11-23\", \"2016-11-24\", \"2016-11-25\", \"2016-11-26\", \"2016-11-27\", \"2016-11-28\", \"2016-11-29\", \"2016-11-30\", \"2016-12-01\", \"2016-12-02\", \"2016-12-03\", \"2016-12-04\", \"2016-12-05\", \"2016-12-06\", \"2016-12-07\", \"2016-12-08\", \"2016-12-09\", \"2016-12-10\", \"2016-12-11\", \"2016-12-12\", \"2016-12-13\", \"2016-12-14\", \"2016-12-15\", \"2016-12-16\", \"2016-12-17\", \"2016-12-18\", \"2016-12-19\", \"2016-12-20\", \"2016-12-21\", \"2016-12-22\", \"2016-12-23\", \"2016-12-24\", \"2016-12-25\", \"2016-12-26\", \"2016-12-27\", \"2016-12-28\", \"2016-12-29\", \"2016-12-30\", \"2016-12-31\", \"2017-01-01\", \"2017-01-02\", \"2017-01-03\", \"2017-01-04\", \"2017-01-05\", \"2017-01-06\", \"2017-01-07\", \"2017-01-08\", \"2017-01-09\", \"2017-01-10\", \"2017-01-11\", \"2017-01-12\", \"2017-01-13\", \"2017-01-14\", \"2017-01-15\", \"2017-01-16\", \"2017-01-17\", \"2017-01-18\", \"2017-01-19\", \"2017-01-20\", \"2017-01-21\", \"2017-01-22\", \"2017-01-23\", \"2017-01-24\", \"2017-01-25\", \"2017-01-26\", \"2017-01-27\", \"2017-01-28\", \"2017-01-29\", \"2017-01-30\", \"2017-01-31\", \"2017-02-01\", \"2017-02-02\", \"2017-02-03\", \"2017-02-04\", \"2017-02-05\", \"2017-02-06\", \"2017-02-07\", \"2017-02-08\", \"2017-02-09\", \"2017-02-10\", \"2017-02-11\", \"2017-02-12\", \"2017-02-13\", \"2017-02-14\", \"2017-02-15\", \"2017-02-16\", \"2017-02-17\", \"2017-02-18\", \"2017-02-19\", \"2017-02-20\", \"2017-02-21\", \"2017-02-22\", \"2017-02-23\", \"2017-02-24\", \"2017-02-25\", \"2017-02-26\", \"2017-02-27\", \"2017-02-28\", \"2017-03-01\", \"2017-03-02\", \"2017-03-03\", \"2017-03-04\", \"2017-03-05\", \"2017-03-06\", \"2017-03-07\", \"2017-03-08\", \"2017-03-09\", \"2017-03-10\", \"2017-03-11\", \"2017-03-12\", \"2017-03-13\", \"2017-03-14\", \"2017-03-15\", \"2017-03-16\", \"2017-03-17\", \"2017-03-18\", \"2017-03-19\", \"2017-03-20\", \"2017-03-21\", \"2017-03-22\", \"2017-03-23\", \"2017-03-24\", \"2017-03-25\", \"2017-03-26\", \"2017-03-27\", \"2017-03-28\", \"2017-03-29\", \"2017-03-30\", \"2017-03-31\", \"2017-04-01\", \"2017-04-02\", \"2017-04-03\", \"2017-04-04\", \"2017-04-05\", \"2017-04-06\", \"2017-04-07\", \"2017-04-08\", \"2017-04-09\", \"2017-04-10\", \"2017-04-11\", \"2017-04-12\", \"2017-04-13\", \"2017-04-14\", \"2017-04-15\", \"2017-04-16\", \"2017-04-17\", \"2017-04-18\", \"2017-04-19\", \"2017-04-20\", \"2017-04-21\", \"2017-04-22\", \"2017-04-23\", \"2017-04-24\", \"2017-04-25\", \"2017-04-26\", \"2017-04-27\", \"2017-04-28\", \"2017-04-29\", \"2017-04-30\", \"2017-05-01\", \"2017-05-02\", \"2017-05-03\", \"2017-05-04\", \"2017-05-05\", \"2017-05-06\", \"2017-05-07\", \"2017-05-08\", \"2017-05-09\", \"2017-05-10\", \"2017-05-11\", \"2017-05-12\", \"2017-05-13\", \"2017-05-14\", \"2017-05-15\", \"2017-05-16\", \"2017-05-17\", \"2017-05-18\", \"2017-05-19\", \"2017-05-20\", \"2017-05-21\", \"2017-05-22\", \"2017-05-23\", \"2017-05-24\", \"2017-05-25\", \"2017-05-26\", \"2017-05-27\", \"2017-05-28\", \"2017-05-29\", \"2017-05-30\", \"2017-05-31\", \"2017-06-01\", \"2017-06-02\", \"2017-06-03\", \"2017-06-04\", \"2017-06-05\", \"2017-06-06\", \"2017-06-07\", \"2017-06-08\", \"2017-06-09\", \"2017-06-10\", \"2017-06-11\", \"2017-06-12\", \"2017-06-13\", \"2017-06-14\", \"2017-06-15\", \"2017-06-16\", \"2017-06-17\", \"2017-06-18\", \"2017-06-19\", \"2017-06-20\", \"2017-06-21\", \"2017-06-22\", \"2017-06-23\", \"2017-06-24\", \"2017-06-25\", \"2017-06-26\", \"2017-06-27\", \"2017-06-28\", \"2017-06-29\", \"2017-06-30\", \"2017-07-01\", \"2017-07-02\", \"2017-07-03\", \"2017-07-04\", \"2017-07-05\", \"2017-07-06\", \"2017-07-07\", \"2017-07-08\", \"2017-07-09\", \"2017-07-10\", \"2017-07-11\", \"2017-07-12\", \"2017-07-13\", \"2017-07-14\", \"2017-07-15\", \"2017-07-16\", \"2017-07-17\", \"2017-07-18\", \"2017-07-19\", \"2017-07-20\", \"2017-07-21\", \"2017-07-22\", \"2017-07-23\", \"2017-07-24\", \"2017-07-25\", \"2017-07-26\", \"2017-07-27\", \"2017-07-28\", \"2017-07-29\", \"2017-07-30\", \"2017-07-31\", \"2017-08-01\", \"2017-08-02\", \"2017-08-03\", \"2017-08-04\", \"2017-08-05\", \"2017-08-06\", \"2017-08-07\", \"2017-08-08\", \"2017-08-09\", \"2017-08-10\", \"2017-08-11\", \"2017-08-12\", \"2017-08-13\", \"2017-08-14\", \"2017-08-15\", \"2017-08-16\", \"2017-08-17\", \"2017-08-18\", \"2017-08-19\", \"2017-08-20\", \"2017-08-21\", \"2017-08-22\", \"2017-08-23\", \"2017-08-24\", \"2017-08-25\", \"2017-08-26\", \"2017-08-27\", \"2017-08-28\", \"2017-08-29\", \"2017-08-30\", \"2017-08-31\", \"2017-09-01\", \"2017-09-02\", \"2017-09-03\", \"2017-09-04\", \"2017-09-05\", \"2017-09-06\", \"2017-09-07\", \"2017-09-08\", \"2017-09-09\", \"2017-09-10\", \"2017-09-11\", \"2017-09-12\", \"2017-09-13\", \"2017-09-14\", \"2017-09-15\", \"2017-09-16\", \"2017-09-17\", \"2017-09-18\", \"2017-09-19\", \"2017-09-20\", \"2017-09-21\", \"2017-09-22\", \"2017-09-23\", \"2017-09-24\", \"2017-09-25\", \"2017-09-26\", \"2017-09-27\", \"2017-09-28\", \"2017-09-29\", \"2017-09-30\", \"2017-10-01\", \"2017-10-02\", \"2017-10-03\", \"2017-10-04\", \"2017-10-05\", \"2017-10-06\", \"2017-10-07\", \"2017-10-08\", \"2017-10-09\", \"2017-10-10\", \"2017-10-11\", \"2017-10-12\", \"2017-10-13\", \"2017-10-14\", \"2017-10-15\", \"2017-10-16\", \"2017-10-17\", \"2017-10-18\", \"2017-10-19\", \"2017-10-20\", \"2017-10-21\", \"2017-10-22\", \"2017-10-23\", \"2017-10-24\", \"2017-10-25\", \"2017-10-26\", \"2017-10-27\", \"2017-10-28\", \"2017-10-29\", \"2017-10-30\", \"2017-10-31\", \"2017-11-01\", \"2017-11-02\", \"2017-11-03\", \"2017-11-04\", \"2017-11-05\", \"2017-11-06\", \"2017-11-07\", \"2017-11-08\", \"2017-11-09\", \"2017-11-10\", \"2017-11-11\", \"2017-11-12\", \"2017-11-13\", \"2017-11-14\", \"2017-11-15\", \"2017-11-16\", \"2017-11-17\", \"2017-11-18\", \"2017-11-19\", \"2017-11-20\", \"2017-11-21\", \"2017-11-22\", \"2017-11-23\", \"2017-11-24\", \"2017-11-25\", \"2017-11-26\", \"2017-11-27\", \"2017-11-28\", \"2017-11-29\", \"2017-11-30\", \"2017-12-01\", \"2017-12-02\", \"2017-12-03\", \"2017-12-04\", \"2017-12-05\", \"2017-12-06\", \"2017-12-07\", \"2017-12-08\", \"2017-12-09\", \"2017-12-10\", \"2017-12-11\", \"2017-12-12\", \"2017-12-13\", \"2017-12-14\", \"2017-12-15\", \"2017-12-16\", \"2017-12-17\", \"2017-12-18\", \"2017-12-19\", \"2017-12-20\", \"2017-12-21\", \"2017-12-22\", \"2017-12-23\", \"2017-12-24\", \"2017-12-25\", \"2017-12-26\", \"2017-12-27\", \"2017-12-28\", \"2017-12-29\", \"2017-12-30\", \"2017-12-31\", \"2018-01-01\", \"2018-01-02\", \"2018-01-03\", \"2018-01-04\", \"2018-01-05\", \"2018-01-06\", \"2018-01-07\", \"2018-01-08\", \"2018-01-09\", \"2018-01-10\", \"2018-01-11\", \"2018-01-12\", \"2018-01-13\", \"2018-01-14\", \"2018-01-15\", \"2018-01-16\", \"2018-01-17\", \"2018-01-18\", \"2018-01-19\", \"2018-01-20\", \"2018-01-21\", \"2018-01-22\", \"2018-01-23\", \"2018-01-24\", \"2018-01-25\", \"2018-01-26\", \"2018-01-27\", \"2018-01-28\", \"2018-01-29\", \"2018-01-30\", \"2018-01-31\", \"2018-02-01\", \"2018-02-02\", \"2018-02-03\", \"2018-02-04\", \"2018-02-05\", \"2018-02-06\", \"2018-02-07\", \"2018-02-08\", \"2018-02-09\", \"2018-02-10\", \"2018-02-11\", \"2018-02-12\", \"2018-02-13\", \"2018-02-14\", \"2018-02-15\", \"2018-02-16\", \"2018-02-17\", \"2018-02-18\", \"2018-02-19\", \"2018-02-20\", \"2018-02-21\", \"2018-02-22\", \"2018-02-23\", \"2018-02-24\", \"2018-02-25\", \"2018-02-26\", \"2018-02-27\", \"2018-02-28\", \"2018-03-01\", \"2018-03-02\", \"2018-03-03\", \"2018-03-04\", \"2018-03-05\", \"2018-03-06\", \"2018-03-07\", \"2018-03-08\", \"2018-03-09\", \"2018-03-10\", \"2018-03-11\", \"2018-03-12\", \"2018-03-13\", \"2018-03-14\", \"2018-03-15\", \"2018-03-16\", \"2018-03-17\", \"2018-03-18\", \"2018-03-19\", \"2018-03-20\", \"2018-03-21\", \"2018-03-22\", \"2018-03-23\", \"2018-03-24\", \"2018-03-25\", \"2018-03-26\", \"2018-03-27\", \"2018-03-28\", \"2018-03-29\", \"2018-03-30\", \"2018-03-31\", \"2018-04-01\", \"2018-04-02\", \"2018-04-03\", \"2018-04-04\", \"2018-04-05\", \"2018-04-06\", \"2018-04-07\", \"2018-04-08\", \"2018-04-09\", \"2018-04-10\", \"2018-04-11\", \"2018-04-12\", \"2018-04-13\", \"2018-04-14\", \"2018-04-15\", \"2018-04-16\", \"2018-04-17\", \"2018-04-18\", \"2018-04-19\", \"2018-04-20\", \"2018-04-21\", \"2018-04-22\", \"2018-04-23\", \"2018-04-24\", \"2018-04-25\", \"2018-04-26\", \"2018-04-27\", \"2018-04-28\", \"2018-04-29\", \"2018-04-30\", \"2018-05-01\", \"2018-05-02\", \"2018-05-03\", \"2018-05-04\", \"2018-05-05\", \"2018-05-06\", \"2018-05-07\", \"2018-05-08\", \"2018-05-09\", \"2018-05-10\", \"2018-05-11\", \"2018-05-12\", \"2018-05-13\", \"2018-05-14\", \"2018-05-15\", \"2018-05-16\", \"2018-05-17\", \"2018-05-18\", \"2018-05-19\", \"2018-05-20\", \"2018-05-21\", \"2018-05-22\", \"2018-05-23\", \"2018-05-24\", \"2018-05-25\", \"2018-05-26\", \"2018-05-27\", \"2018-05-28\", \"2018-05-29\", \"2018-05-30\", \"2018-05-31\", \"2018-06-01\", \"2018-06-02\", \"2018-06-03\", \"2018-06-04\", \"2018-06-05\", \"2018-06-06\", \"2018-06-07\", \"2018-06-08\", \"2018-06-09\", \"2018-06-10\", \"2018-06-11\", \"2018-06-12\", \"2018-06-13\", \"2018-06-14\", \"2018-06-15\", \"2018-06-16\", \"2018-06-17\", \"2018-06-18\", \"2018-06-19\", \"2018-06-20\", \"2018-06-21\", \"2018-06-22\", \"2018-06-23\", \"2018-06-24\", \"2018-06-25\", \"2018-06-26\", \"2018-06-27\", \"2018-06-28\", \"2018-06-29\", \"2018-06-30\", \"2018-07-01\", \"2018-07-02\", \"2018-07-03\", \"2018-07-04\", \"2018-07-05\", \"2018-07-06\", \"2018-07-07\", \"2018-07-08\", \"2018-07-09\", \"2018-07-10\", \"2018-07-11\", \"2018-07-12\", \"2018-07-13\", \"2018-07-14\", \"2018-07-15\", \"2018-07-16\", \"2018-07-17\", \"2018-07-18\", \"2018-07-19\", \"2018-07-20\", \"2018-07-21\", \"2018-07-22\", \"2018-07-23\", \"2018-07-24\", \"2018-07-25\", \"2018-07-26\", \"2018-07-27\", \"2018-07-28\", \"2018-07-29\", \"2018-07-30\", \"2018-07-31\", \"2018-08-01\", \"2018-08-02\", \"2018-08-03\", \"2018-08-04\", \"2018-08-05\", \"2018-08-06\", \"2018-08-07\", \"2018-08-08\", \"2018-08-09\", \"2018-08-10\", \"2018-08-11\", \"2018-08-12\", \"2018-08-13\", \"2018-08-14\", \"2018-08-15\", \"2018-08-16\", \"2018-08-17\", \"2018-08-18\", \"2018-08-19\", \"2018-08-20\", \"2018-08-21\", \"2018-08-22\", \"2018-08-23\", \"2018-08-24\", \"2018-08-25\", \"2018-08-26\", \"2018-08-27\", \"2018-08-28\", \"2018-08-29\", \"2018-08-30\", \"2018-08-31\", \"2018-09-01\", \"2018-09-02\", \"2018-09-03\", \"2018-09-04\", \"2018-09-05\", \"2018-09-06\", \"2018-09-07\", \"2018-09-08\", \"2018-09-09\", \"2018-09-10\", \"2018-09-11\", \"2018-09-12\", \"2018-09-13\", \"2018-09-14\", \"2018-09-15\", \"2018-09-16\", \"2018-09-17\", \"2018-09-18\", \"2018-09-19\", \"2018-09-20\", \"2018-09-21\", \"2018-09-22\", \"2018-09-23\", \"2018-09-24\", \"2018-09-25\", \"2018-09-26\", \"2018-09-27\", \"2018-09-28\", \"2018-09-29\", \"2018-09-30\", \"2018-10-01\", \"2018-10-02\", \"2018-10-03\", \"2018-10-04\", \"2018-10-05\", \"2018-10-06\", \"2018-10-07\", \"2018-10-08\", \"2018-10-09\", \"2018-10-10\", \"2018-10-11\", \"2018-10-12\", \"2018-10-13\", \"2018-10-14\", \"2018-10-15\", \"2018-10-16\", \"2018-10-17\", \"2018-10-18\", \"2018-10-19\", \"2018-10-20\", \"2018-10-21\", \"2018-10-22\", \"2018-10-23\", \"2018-10-24\", \"2018-10-25\", \"2018-10-26\", \"2018-10-27\", \"2018-10-28\", \"2018-10-29\", \"2018-10-30\", \"2018-10-31\", \"2018-11-01\", \"2018-11-02\", \"2018-11-03\", \"2018-11-04\", \"2018-11-05\", \"2018-11-06\", \"2018-11-07\", \"2018-11-08\", \"2018-11-09\", \"2018-11-10\", \"2018-11-11\", \"2018-11-12\", \"2018-11-13\", \"2018-11-14\", \"2018-11-15\", \"2018-11-16\", \"2018-11-17\", \"2018-11-18\", \"2018-11-19\", \"2018-11-20\", \"2018-11-21\", \"2018-11-22\", \"2018-11-23\", \"2018-11-24\", \"2018-11-25\", \"2018-11-26\", \"2018-11-27\", \"2018-11-28\", \"2018-11-29\", \"2018-11-30\", \"2018-12-01\", \"2018-12-02\", \"2018-12-03\", \"2018-12-04\", \"2018-12-05\", \"2018-12-06\", \"2018-12-07\", \"2018-12-08\", \"2018-12-09\", \"2018-12-10\", \"2018-12-11\", \"2018-12-12\", \"2018-12-13\", \"2018-12-14\", \"2018-12-15\", \"2018-12-16\", \"2018-12-17\", \"2018-12-18\", \"2018-12-19\", \"2018-12-20\", \"2018-12-21\", \"2018-12-22\", \"2018-12-23\", \"2018-12-24\", \"2018-12-25\", \"2018-12-26\", \"2018-12-27\", \"2018-12-28\", \"2018-12-29\", \"2018-12-30\", \"2018-12-31\", \"2019-01-01\", \"2019-01-02\", \"2019-01-03\", \"2019-01-04\", \"2019-01-05\", \"2019-01-06\", \"2019-01-07\", \"2019-01-08\", \"2019-01-09\", \"2019-01-10\", \"2019-01-11\", \"2019-01-12\", \"2019-01-13\", \"2019-01-14\", \"2019-01-15\", \"2019-01-16\", \"2019-01-17\", \"2019-01-18\", \"2019-01-19\", \"2019-01-20\", \"2019-01-21\", \"2019-01-22\", \"2019-01-23\", \"2019-01-24\", \"2019-01-25\", \"2019-01-26\", \"2019-01-27\", \"2019-01-28\", \"2019-01-29\", \"2019-01-30\", \"2019-01-31\", \"2019-02-01\", \"2019-02-02\", \"2019-02-03\", \"2019-02-04\", \"2019-02-05\", \"2019-02-06\", \"2019-02-07\", \"2019-02-08\", \"2019-02-09\", \"2019-02-10\", \"2019-02-11\", \"2019-02-12\", \"2019-02-13\", \"2019-02-14\", \"2019-02-15\", \"2019-02-16\", \"2019-02-17\", \"2019-02-18\", \"2019-02-19\", \"2019-02-20\", \"2019-02-21\", \"2019-02-22\", \"2019-02-23\", \"2019-02-24\", \"2019-02-25\", \"2019-02-26\", \"2019-02-27\", \"2019-02-28\", \"2019-03-01\", \"2019-03-02\", \"2019-03-03\", \"2019-03-04\", \"2019-03-05\", \"2019-03-06\", \"2019-03-07\", \"2019-03-08\", \"2019-03-09\", \"2019-03-10\", \"2019-03-11\", \"2019-03-12\", \"2019-03-13\", \"2019-03-14\", \"2019-03-15\", \"2019-03-16\", \"2019-03-17\", \"2019-03-18\", \"2019-03-19\", \"2019-03-20\", \"2019-03-21\", \"2019-03-22\", \"2019-03-23\", \"2019-03-24\", \"2019-03-25\", \"2019-03-26\", \"2019-03-27\", \"2019-03-28\", \"2019-03-29\", \"2019-03-30\", \"2019-03-31\", \"2019-04-01\", \"2019-04-02\", \"2019-04-03\", \"2019-04-04\", \"2019-04-05\", \"2019-04-06\", \"2019-04-07\", \"2019-04-08\", \"2019-04-09\", \"2019-04-10\", \"2019-04-11\", \"2019-04-12\", \"2019-04-13\", \"2019-04-14\", \"2019-04-15\", \"2019-04-16\", \"2019-04-17\", \"2019-04-18\", \"2019-04-19\", \"2019-04-20\", \"2019-04-21\", \"2019-04-22\", \"2019-04-23\", \"2019-04-24\", \"2019-04-25\", \"2019-04-26\", \"2019-04-27\", \"2019-04-28\", \"2019-04-29\", \"2019-04-30\", \"2019-05-01\", \"2019-05-02\", \"2019-05-03\", \"2019-05-04\", \"2019-05-05\", \"2019-05-06\", \"2019-05-07\", \"2019-05-08\", \"2019-05-09\", \"2019-05-10\", \"2019-05-11\", \"2019-05-12\", \"2019-05-13\", \"2019-05-14\", \"2019-05-15\", \"2019-05-16\", \"2019-05-17\", \"2019-05-18\", \"2019-05-19\", \"2019-05-20\", \"2019-05-21\", \"2019-05-22\", \"2019-05-23\", \"2019-05-24\", \"2019-05-25\", \"2019-05-26\", \"2019-05-27\", \"2019-05-28\", \"2019-05-29\", \"2019-05-30\", \"2019-05-31\", \"2019-06-01\", \"2019-06-02\", \"2019-06-03\", \"2019-06-04\", \"2019-06-05\", \"2019-06-06\", \"2019-06-07\", \"2019-06-08\", \"2019-06-09\", \"2019-06-10\", \"2019-06-11\", \"2019-06-12\", \"2019-06-13\", \"2019-06-14\", \"2019-06-15\", \"2019-06-16\", \"2019-06-17\", \"2019-06-18\", \"2019-06-19\", \"2019-06-20\", \"2019-06-21\", \"2019-06-22\", \"2019-06-23\", \"2019-06-24\", \"2019-06-25\", \"2019-06-26\", \"2019-06-27\", \"2019-06-28\", \"2019-06-29\", \"2019-06-30\", \"2019-07-01\", \"2019-07-02\", \"2019-07-03\", \"2019-07-04\", \"2019-07-05\", \"2019-07-06\", \"2019-07-07\", \"2019-07-08\", \"2019-07-09\", \"2019-07-10\", \"2019-07-11\", \"2019-07-12\", \"2019-07-13\", \"2019-07-14\", \"2019-07-15\", \"2019-07-16\", \"2019-07-17\", \"2019-07-18\", \"2019-07-19\", \"2019-07-20\", \"2019-07-21\", \"2019-07-22\", \"2019-07-23\", \"2019-07-24\", \"2019-07-25\", \"2019-07-26\", \"2019-07-27\", \"2019-07-28\", \"2019-07-29\", \"2019-07-30\", \"2019-07-31\", \"2019-08-01\", \"2019-08-02\", \"2019-08-03\", \"2019-08-04\", \"2019-08-05\", \"2019-08-06\", \"2019-08-07\", \"2019-08-08\", \"2019-08-09\", \"2019-08-10\", \"2019-08-11\", \"2019-08-12\", \"2019-08-13\", \"2019-08-14\", \"2019-08-15\", \"2019-08-16\", \"2019-08-17\", \"2019-08-18\", \"2019-08-19\", \"2019-08-20\", \"2019-08-21\", \"2019-08-22\", \"2019-08-23\", \"2019-08-24\", \"2019-08-25\", \"2019-08-26\", \"2019-08-27\", \"2019-08-28\", \"2019-08-29\", \"2019-08-30\", \"2019-08-31\", \"2019-09-01\", \"2019-09-02\", \"2019-09-03\", \"2019-09-04\", \"2019-09-05\", \"2019-09-06\", \"2019-09-07\", \"2019-09-08\", \"2019-09-09\", \"2019-09-10\", \"2019-09-11\", \"2019-09-12\", \"2019-09-13\", \"2019-09-14\", \"2019-09-15\", \"2019-09-16\", \"2019-09-17\", \"2019-09-18\", \"2019-09-19\", \"2019-09-20\", \"2019-09-21\", \"2019-09-22\", \"2019-09-23\", \"2019-09-24\", \"2019-09-25\", \"2019-09-26\", \"2019-09-27\", \"2019-09-28\", \"2019-09-29\"], \"xaxis\": \"x\", \"y\": [102.32409638554215, 102.33234042553194, 102.26373626373626, 102.24326086956523, 102.34021505376346, 102.31701149425285, 102.23636363636363, 102.23827956989247, 102.3202247191011, 102.3058064516129, 102.35108695652171, 102.32444444444444, 102.31428571428569, 102.27865168539323, 102.34945054945054, 102.29063829787233, 102.26106382978725, 102.30212765957447, 102.3080898876404, 102.27694117647056, 102.23369565217388, 102.2887912087912, 102.33419354838712, 102.33870967741936, 102.31260869565217, 102.3, 102.35549999999998, 102.30930232558138, 102.35377777777778, 102.29935483870966, 102.39065217391303, 102.50768421052629, 102.5287096774193, 102.49413793103444, 102.46010989010988, 102.37780219780217, 102.54855555555554, 102.44749999999998, 102.68138297872338, 102.47720430107525, 102.57658536585362, 102.27499999999998, 102.49999999999996, 102.59532608695646, 102.5279787234042, 102.50241758241758, 102.57677777777772, 102.55499999999998, 102.50666666666662, 102.52084210526313, 102.39395604395598, 102.4965217391304, 102.47354838709674, 102.46077777777776, 102.65388235294114, 102.48379310344824, 102.51199999999996, 102.32282608695651, 102.50787234042546, 102.48193548387094, 102.56437499999998, 102.5315909090909, 102.5267415730337, 102.53044444444443, 102.35894736842104, 102.58279569892466, 102.41659340659338, 102.6843678160919, 102.53420454545447, 102.4451111111111, 102.4904347826087, 102.52451612903226, 102.52663043478258, 102.36118279569891, 102.58912087912087, 102.41228915662647, 103.00081395348833, 103.27351063829786, 103.12484210526311, 103.16827956989249, 103.21489130434782, 103.20609195402295, 103.11563218390802, 103.15199999999996, 103.31946236559135, 103.12723404255317, 103.11510638297872, 103.14766666666665, 103.30123595505611, 103.12912499999996, 102.54749999999996, 102.51101123595505, 102.50130434782608, 102.56172043010748, 102.3516129032258, 102.59010989010987, 102.41850574712639, 102.6651685393258, 102.47915789473679, 102.55421052631574, 102.28765957446805, 102.51851063829785, 102.5296666666666, 102.52393258426963, 102.60617977528089, 102.43473118279569, 102.66249999999997, 102.51199999999997, 102.48782608695652, 102.38944444444438, 102.43470588235289, 102.59179775280894, 102.53156249999994, 102.26612903225805, 102.50666666666663, 102.58904255319142, 102.48758241758236, 102.54089887640448, 102.52779069767435, 102.59554347826084, 102.52818181818179, 102.52224719101122, 102.36793478260861, 102.51763440860209, 102.52275862068959, 102.40622222222221, 102.61372340425528, 102.54817204301071, 102.49752808988762, 102.3165934065934, 102.5066666666666, 102.46569767441858, 102.57965116279064, 102.57749999999997, 103.16824175824173, 103.79397849462364, 102.41380434782606, 102.64655555555554, 103.2176744186046, 103.30747126436775, 103.16548387096773, 102.57477272727266, 102.55247311827958, 103.20144444444442, 104.11855555555553, 104.06860465116277, 104.11964285714281, 103.96913043478254, 104.11945652173911, 104.01184782608689, 104.04714285714279, 103.49819148936169, 102.34159090909088, 102.28946236559138, 102.2578947368421, 102.32808510638299, 102.32444444444441, 102.25652173913043, 102.24241758241753, 102.26214285714282, 102.32089887640447, 102.32545454545452, 102.35324675324672, 102.29462365591395, 102.35666666666663, 102.31957446808512, 102.29720930232556, 102.29454545454543, 102.23268817204303, 102.34838709677419, 102.28129032258063, 102.24197802197801, 102.29452631578947, 102.25954022988506, 102.37842696629214, 102.26964705882351, 102.36269662921349, 102.27247058823527, 102.35000000000001, 102.36269662921347, 102.31208791208793, 102.34977777777777, 102.31648351648353, 102.6168478260869, 102.50838709677413, 102.51322580645157, 102.33595505617976, 102.37121951219508, 102.60806818181817, 102.44191011235952, 102.69277777777774, 102.53329411764699, 102.51199999999994, 102.26837209302323, 102.49283950617277, 102.47597826086955, 102.59835164835158, 102.6183695652174, 102.38021505376342, 102.75241758241754, 102.4930337078651, 102.49888888888884, 102.29023529411761, 102.49347826086951, 102.45467391304346, 102.58489130434778, 102.53010869565215, 102.47393258426962, 102.4823456790123, 102.59341176470582, 102.31935483870967, 102.59421052631579, 102.40638297872341, 102.70184782608689, 102.51189473684205, 102.52393258426962, 102.26612903225805, 102.55808510638293, 102.51799999999993, 102.55173913043473, 102.47722222222221, 102.6039325842696, 102.54493975903611, 102.51113636363634, 102.5107692307692, 102.37558139534876, 102.46853932584267, 102.57549450549446, 102.58839080459771, 103.22788235294114, 103.20692307692308, 103.15097826086954, 103.12622222222218, 103.33450549450546, 103.11892473118277, 103.12083333333331, 103.21729411764701, 103.21336956521738, 103.14322222222218, 103.13022222222222, 103.22744444444442, 103.20247311827951, 102.89265957446804, 102.57808988764042, 102.54517241379304, 102.47478723404251, 102.29101123595501, 102.50374999999995, 102.54068181818175, 102.51241379310342, 102.57934210526311, 102.51199999999996, 102.51806451612897, 102.404945054945, 102.46347826086954, 102.49088888888883, 102.60976190476183, 102.48202380952377, 102.53195402298843, 102.59347826086955, 102.51199999999997, 102.51608695652172, 102.39833333333328, 102.47977011494247, 102.53710843373491, 102.51081395348831, 102.28711111111109, 102.50666666666663, 102.48977528089885, 102.59836956521733, 102.58151162790696, 102.40305882352938, 102.69999999999996, 102.51322580645157, 102.5175789473684, 102.32783132530118, 102.38988235294114, 102.56897727272727, 102.42682926829266, 102.64081395348833, 102.52863636363635, 102.512, 102.52731182795694, 102.36223404255317, 102.59945652173907, 102.42493975903612, 102.5315384615384, 102.95887640449432, 103.40910112359546, 103.11462365591397, 102.5983516483516, 102.5267415730337, 103.2573809523809, 103.96752941176464, 102.6324444444444, 102.53043956043952, 102.94544444444439, 103.40670329670328, 104.04549450549447, 104.0236585365853, 104.10965909090906, 104.0701063829787, 104.0444565217391, 103.99511111111109, 104.05580645161287, 102.91108695652174, 102.2683544303797, 102.23222222222222, 102.33094736842106, 102.2968085106383, 102.33440860215052, 102.2968085106383, 102.37434782608695, 102.2802409638554, 102.3340909090909, 102.25456521739126, 102.28630434782607, 102.33829787234042, 102.28172043010751, 102.24217391304346, 102.25545454545453, 102.30234042553191, 102.33340425531915, 102.32808510638299, 102.30172043010752, 102.35260869565217, 102.32292134831458, 102.36205128205123, 102.34116279069765, 102.30434782608695, 102.40074468085102, 102.63315217391299, 102.48242105263152, 102.47425531914891, 102.31547619047615, 102.50898876404491, 102.58784946236551, 102.43434782608695, 102.53717391304347, 102.49758241758241, 102.55280898876401, 102.35238095238091, 102.59111111111103, 102.3816304347826, 102.73484210526311, 102.47186813186808, 102.43483146067415, 102.512, 102.57424999999996, 102.52711111111108, 102.35787234042553, 102.59957894736839, 102.39961538461534, 102.49512820512818, 102.68736842105258, 102.34249999999996, 102.51441558441554, 102.6118421052631, 102.36124999999996, 102.44347222222217, 102.47644736842103, 102.47368421052629, 102.71055555555553, 102.40205128205123, 102.50359999999996, 102.63271428571423, 102.34435897435893, 102.44653846153841, 102.49730769230764, 102.45249999999999, 102.75662337662334, 102.55615384615379, 102.45153846153842, 102.60038461538457, 102.53480519480514, 102.51705128205124, 102.30729729729724, 102.36181818181814, 102.66282051282047, 102.42999999999995, 102.82487179487175, 103.21115384615378, 103.19397435897433, 103.19864864864861, 103.1339743589743, 103.19833333333328, 103.2161538461538, 103.20870129870126, 103.10448717948712, 103.19961538461533, 103.25777777777773, 103.1567532467532, 103.11217948717945, 103.1861538461538, 103.23346153846147, 103.18576923076918, 102.8065333333333, 102.67770270270266, 102.39168831168827, 102.54636363636358, 102.57487179487174, 102.38607594936703, 102.42371794871791, 102.491948051948, 102.51586666666661, 102.68333333333328, 102.47620253164551, 102.50037974683542, 102.38177215189866, 102.4242307692307, 102.55141025641024, 102.5538571428571, 102.50512820512816, 102.64256410256407, 102.40532467532464, 102.51635135135132, 102.54923076923072, 102.52999999999996, 102.5771232876712, 102.26910256410251, 102.5111538461538, 102.53999999999995, 102.45898734177212, 102.56410256410251, 102.4089743589743, 102.40328947368417, 102.48141025641023, 102.566282051282, 102.73564102564099, 102.41294871794867, 102.49948717948712, 102.52999999999996, 102.57639999999996, 102.57831168831164, 102.24102564102562, 102.39717948717944, 102.6424675324675, 102.45265822784806, 102.57289473684209, 102.60816901408445, 102.44213333333329, 102.46166666666662, 102.56794871794867, 102.40320512820507, 102.50202531645564, 102.40249999999996, 102.55301369863008, 102.68223684210523, 103.25779220779214, 103.26999999999994, 103.19076923076916, 102.46871794871791, 102.68205128205123, 103.05736111111104, 103.22986486486482, 103.86064102564096, 102.41935897435891, 102.53435897435894, 102.81871794871789, 103.10948717948713, 104.15383561643833, 103.9889743589743, 104.17833333333327, 104.06870129870123, 104.0211538461538, 104.09817073170727, 103.99525641025635, 104.0227272727272, 103.88766233766226, 102.3135897435897, 102.31974358974355, 102.31610389610385, 102.201282051282, 102.3589743589743, 102.29421052631575, 102.25820512820509, 102.28974358974355, 102.20529411764701, 102.31544303797465, 102.32641025641023, 102.31538461538459, 102.34358974358969, 102.29240506329108, 102.32641025641021, 102.31051282051278, 102.31333333333328, 102.36410256410251, 102.2558974358974, 102.26207792207788, 102.32641025641021, 102.33449999999996, 102.2184615384615, 102.29410256410252, 102.245641025641, 102.26615384615381, 102.36410256410252, 102.32128205128201, 102.30624999999998, 102.28615384615381, 102.36753246753243, 102.32051282051277, 102.35564102564098, 102.34266666666662, 102.30846153846151, 102.36506329113921, 102.46307692307688, 102.51549999999995, 102.57873417721514, 102.53833333333328, 102.28013157894733, 102.50999999999995, 102.51049999999995, 102.45897435897433, 102.7202597402597, 102.44499999999995, 102.44759493670882, 102.55256410256403, 102.37911392405057, 102.52822784810121, 102.49026666666664, 102.53064102564099, 102.65949367088605, 102.44576923076917, 102.46217948717945, 102.58297297297293, 102.5885333333333, 102.58216216216212, 102.21842105263154, 102.42945945945942, 102.65567567567564, 102.47845070422531, 102.44067567567565, 102.59175675675672, 102.4873333333333, 102.5297297297297, 102.55851351351347, 102.32643835616433, 102.35416666666663, 102.68608108108106, 102.44540540540535, 102.52175675675672, 102.52621621621617, 102.57289473684206, 102.56706666666663, 102.28519999999995, 102.37599999999998, 102.66946666666664, 102.43413333333329, 102.64546666666662, 102.48878378378375, 102.45810810810808, 102.72410958904108, 102.34780821917805, 102.58297297297293, 102.58616438356161, 102.26013698630135, 102.45824324324319, 102.6169863013698, 102.4468571428571, 102.89918918918916, 103.19418918918913, 103.21432432432428, 103.20359999999995, 103.07229729729725, 103.21445945945943, 103.24083333333328, 103.16026666666663, 103.15136986301367, 103.1428378378378, 103.31835616438352, 103.16909090909085, 103.10675675675671, 103.1228985507246, 103.18743243243239, 103.3221621621621, 103.1157333333333, 102.75081081081076, 102.57608108108103, 102.47041666666662, 102.37722222222219, 102.56205479452049, 102.445205479452, 102.40337837837833, 102.48328767123283, 102.47698630136982, 102.68013333333329, 102.45507042253517, 102.45770270270266, 102.64917808219172, 102.31216216216212, 102.45121621621617, 102.492027027027, 102.46657534246572, 102.72913043478258, 102.48175675675671, 102.46513513513511, 102.70013513513508, 102.4455405405405, 102.43630136986297, 102.64054054054048, 102.24785714285711, 102.50671232876707, 102.53851351351346, 102.4549333333333, 102.61586666666662, 102.31679999999996, 102.43472972972968, 102.52549295774645, 102.43305555555554, 102.71378378378375, 102.47621621621617, 102.4665753424657, 102.73833333333329, 102.37583333333329, 102.48708333333329, 102.64369863013695, 102.27027027027023, 102.5438666666666, 102.48040540540538, 102.46648648648646, 102.60041095890408, 102.59089552238802, 102.36972972972968, 102.51328767123285, 102.64369863013695, 102.27027027027023, 102.49851351351346, 102.53851351351346, 102.41916666666664, 102.65164383561641, 102.8609459459459, 103.0451351351351, 104.15716216216211, 102.46513513513509, 102.48849315068487, 102.56464788732391, 103.45356164383556, 103.34378378378373, 103.36878378378374, 102.45972972972969, 102.68630136986299, 102.89506849315063, 102.9864788732394, 104.14094594594592, 103.98986666666661, 104.16635135135128, 104.07770270270265, 104.07770270270264, 104.00391891891886, 104.00397260273967, 104.04315068493143, 104.06283783783779, 103.51351351351347, 102.53216216216211, 102.73702702702698, 102.52138888888885, 102.47275362318835, 102.63706666666663, 102.43945945945941, 102.48079999999996, 102.46527027027021, 102.37162162162156, 102.59310810810805, 102.36109589041092, 102.54833333333328, 102.5144594594594, 102.35878378378374, 102.54256756756753, 102.40270270270267, 102.54418918918914, 102.68943661971828, 102.56767123287666, 102.47594594594588, 102.59499999999996, 102.52479999999994, 102.48586666666662, 102.394054054054, 102.41399999999994, 102.53919999999995, 102.52716216216211, 102.48653333333328, 102.44621621621619, 102.59972972972969, 102.57608108108104, 102.51043478260864, 102.37279999999996, 102.37013513513507, 102.58146666666664, 102.54616438356159, 102.46026666666663, 102.55851351351347, 103.39608108108102, 103.3778666666666, 103.09639999999996, 102.46386666666663, 102.69106666666661, 103.08148648648643, 103.24813333333329, 103.87743243243237, 102.48626666666661, 102.47302631578944, 102.66853333333327, 103.27648648648643, 103.85540540540534, 104.04333333333328, 104.08695652173908, 104.04866666666662, 104.07499999999995, 104.07364864864859, 103.9917567567567, 104.08999999999995, 103.97959459459454, 103.4428985507246, 102.22189189189187, 102.30459459459455, 102.21621621621618, 102.36904109589035, 102.29810810810807, 102.34594594594589, 102.34799999999996, 102.29135135135132, 102.30346666666664, 102.26416666666665, 102.38450704225347, 102.31999999999996, 102.2520547945205, 102.24499999999995, 102.36849315068488, 102.33599999999996, 102.23095890410957, 102.26771428571426, 102.20958904109584, 102.3284931506849, 102.30216216216213, 102.30891891891888, 102.35270270270266, 102.29459459459454, 102.34945945945941, 102.30162162162159, 102.32794520547942, 102.34465753424652, 102.33733333333328, 102.30810810810807, 102.35135135135133, 102.49351351351348, 102.55452054794516, 102.59013888888884, 102.58070422535206, 102.28972972972967, 102.38746666666663, 102.70942028985505, 102.45229729729725, 102.5075675675675, 102.55054794520545, 102.5768055555555, 102.47630136986295, 102.36921052631573, 102.38040540540534, 102.60906666666662, 102.52351351351348, 102.50613333333328, 102.67514285714282, 102.42459459459455, 102.48559999999995, 102.58081081081077, 102.59493150684926, 102.46837837837833, 102.37736111111106, 102.39916666666662, 102.58256756756754, 102.54554054054049, 102.46702702702699, 102.43546666666663, 102.58297297297293, 102.5820547945205, 102.53833333333328, 102.32851351351346, 102.38648648648645, 102.67121621621618, 102.44743243243238, 102.46613333333329, 102.60054054054049, 102.59013698630133, 102.47041666666662, 102.36972972972967, 102.389054054054, 102.56135135135132, 102.54378378378374, 102.48613333333329, 102.6965217391304, 102.42426666666661, 102.47279999999995, 102.5677333333333, 102.61472972972967, 102.52306666666662, 102.28450704225348, 102.41690140845066, 102.60486111111109, 102.54554054054049, 102.49891891891889, 103.19418918918917, 103.30818181818178, 103.16363636363631, 103.1022058823529, 103.18863013698625, 103.20891891891885, 103.20310810810807, 103.15094594594592, 103.15378378378374, 103.18452054794517, 103.34186440677965, 103.10121621621616, 103.17373333333332, 103.10202702702698, 103.20652777777774, 103.29243243243238, 103.11405405405401, 102.65558823529406, 102.59493150684928, 102.45146666666663, 102.49959459459454, 102.44094594594587, 102.38243243243237, 102.57283783783778, 102.38347826086952, 102.45661971830982, 102.71958904109584, 102.50499999999995, 102.41070422535208, 102.59589041095886, 102.36216216216212, 102.4491428571428, 102.4801333333333, 102.4413333333333, 102.787027027027, 102.41324324324319, 102.5336486486486, 102.68123287671227, 102.43385714285711, 102.43594594594592, 102.59594594594589, 102.3694444444444, 102.45378378378372, 102.49346666666663, 102.45287671232873, 102.63169014084502, 102.31643835616435, 102.43773333333328, 102.49026666666664, 102.45616438356161, 102.7853333333333, 102.41472972972969, 102.53041095890406, 102.68533333333328, 102.47391891891888, 102.38094594594591, 102.57599999999994, 102.445205479452, 102.40337837837833, 102.49555555555551, 102.45249999999999, 102.64337662337657, 102.59493150684926, 102.47041666666661, 102.48079999999996, 102.48260273972598, 102.35540540540536, 102.56095890410954, 102.39599999999996, 102.5644594594594, 102.66959459459454, 103.20767123287665, 103.25671052631573, 103.38739726027391, 102.47205479452052, 102.60719999999999, 102.86133333333329, 103.0451351351351, 104.14706666666662, 102.72263157894731, 102.46314285714281, 102.59499999999996, 103.3644594594594, 103.2944594594594, 104.03918918918912, 104.14486111111107, 104.10999999999994, 104.03028169014078, 104.0133783783783, 104.04315068493143, 103.92108108108101, 104.14972972972967, 103.92094594594587, 102.29135135135132, 102.34085714285713, 102.28079999999996, 102.2589333333333, 102.29679999999998, 102.3461333333333, 102.2909333333333, 102.25066666666665, 102.21555555555553, 102.28351351351347, 102.31999999999996, 102.35270270270266, 102.29135135135132, 102.3616438356164, 102.27324324324321, 102.33729729729727, 102.30540540540537, 102.33946666666662, 102.33279999999995, 102.25540540540537, 102.21999999999994, 102.35486486486482, 102.31249999999994, 102.26921052631576, 102.27919999999996, 102.20958904109585, 102.30373333333331, 102.33078947368418, 102.31534246575339, 102.33938461538456, 102.35270270270264, 102.29135135135132, 102.31513513513511, 102.3553424657534, 102.31333333333329, 102.35270270270264, 102.34057971014491, 102.35810810810808, 102.43546666666663, 102.58297297297293, 102.56878378378374, 102.56039999999996, 102.28111111111107, 102.39507246376807, 102.63310810810808, 102.50094594594589, 102.45891891891887, 102.59581081081076, 102.57407894736836, 102.48743243243239, 102.37783783783779, 102.37013513513507, 102.568961038961, 102.52626666666661, 102.51216216216211, 102.64351351351347, 102.46123287671227, 102.48746478873237, 102.58081081081076, 102.56878378378374, 102.53833333333328, 102.3009859154929, 102.39189189189185, 102.6232394366197, 102.46147540983601, 102.52662162162156, 102.48306666666663, 102.59581081081076, 102.57743243243237, 102.46986486486482, 102.36972972972967, 102.45254237288131, 102.45833333333329, 102.4597333333333, 102.46097222222218, 102.73283783783778, 102.4924324324324, 102.37499999999996, 102.62833333333327, 102.3878378378378, 102.39648648648642, 102.4865333333333, 102.46189189189187, 102.82610389610385, 102.42985915492953, 102.46927536231878, 102.68567567567563, 102.47391891891888, 102.38094594594591, 102.58333333333329, 102.41232876712323, 102.39777777777773, 102.49871428571426, 102.45616438356161, 103.08934210526313, 103.25397260273968, 103.16068493150682, 103.17986301369861, 103.12864864864859, 103.21366197183092, 103.26845070422533, 103.11328767123285, 103.12675675675672, 103.17242857142854, 103.3194594594594, 103.16465753424653, 103.0885714285714, 103.1298630136986, 103.20359999999998, 103.3183561643835, 103.1273684210526, 102.73594594594591, 102.55246575342461, 102.49410958904106, 102.41837837837834, 102.5270666666666, 102.36418918918913, 102.52513513513509, 102.40945205479447, 102.48361111111107, 102.6947826086956, 102.48079999999996, 102.42959999999997, 102.60864864864858, 102.38082191780818, 102.4194594594594, 102.48042253521123, 102.48363636363634, 102.6913333333333, 102.48716216216212, 102.47698630136982, 102.70013513513508, 102.4455405405405, 102.48310810810807, 102.59589041095886, 102.33932432432428, 102.45959999999994, 102.4612328767123, 102.50270270270266, 102.57702702702697, 102.36216216216212, 102.46724637681154, 102.48040540540538, 102.44959999999996, 102.69972602739723, 102.46270270270267, 102.48418918918915, 102.69904109589037, 102.38492307692303, 102.5166216216216, 102.62743243243239, 102.27027027027023, 102.49521126760558, 102.52756756756753, 102.48253521126756, 102.51463768115941, 102.64878378378374, 102.38094594594591, 102.5443835616438, 102.59851351351347, 102.27472972972969, 102.41385714285711, 102.7014925373134, 102.41138888888885, 102.5041333333333, 102.67932432432426, 103.31986486486481, 103.85199999999992, 102.76739726027394, 102.4794444444444, 102.60573333333329, 103.35094594594588, 103.26878378378373, 103.51459459459453, 102.45972972972969, 102.59027027027025, 102.6567647058823, 103.23106666666664, 103.9802702702702, 103.9802702702702, 104.15788732394361, 104.07328767123282, 104.07152777777772, 104.06499999999996, 103.97824324324318, 104.08599999999996, 103.98919999999995, 104.45109589041091, 104.17684931506842, 104.0520833333333, 104.0507352941176, 104.07499999999996, 103.99581081081075, 104.08150684931502, 103.96374999999995, 103.85197183098587, 103.60549295774642, 104.15089552238801, 104.07499999999996, 104.06202702702697, 104.00472972972968, 104.01253521126755, 104.06267857142856, 103.97624999999995, 104.0135616438356, 103.49853333333327, 104.1609459459459, 104.04581081081075, 104.01824324324319, 104.07364864864857, 103.99152777777772, 104.0529850746268, 104.06418918918914, 103.48918918918915, 104.071081081081, 103.93013888888883, 103.94351351351347, 102.64972222222218, 102.44594202898547, 102.37648648648644, 102.56839999999994, 102.3993150684931, 102.43972602739721, 102.46082191780819, 102.48416666666662, 102.70376811594198, 102.57067567567562, 102.47293333333327, 102.36972972972968, 102.58123287671226, 102.39797297297291, 102.43243243243238, 102.4864788732394, 102.47106666666663, 102.6936486486486, 103.09639999999993, 103.23575342465749, 103.63351351351345, 102.45287671232872, 102.50671428571425, 102.66893333333327, 103.29410958904106, 103.85540540540534, 102.93191780821913, 102.5336486486486, 102.66569444444438, 103.01492753623181, 103.24013333333329, 104.06586666666661, 104.05851351351346, 104.15821917808215, 103.99662162162157, 104.07430555555548, 104.05877192982452, 104.02569444444438, 104.01586666666661, 104.04999999999994, 103.02054054054052, 102.32054794520542, 102.34351351351347, 102.2520547945205, 102.2690666666666, 102.34266666666662, 102.32026666666663, 102.217027027027, 102.26378378378374, 102.2952112676056, 102.2788571428571, 102.30559999999997, 102.32162162162159, 102.33729729729725, 102.30486486486483, 102.35270270270264, 102.30630136986298, 102.2973134328358, 102.35599999999998, 102.29216216216213, 102.2594594594594, 102.2551351351351, 102.31567567567565, 102.28739726027395, 102.27380281690138, 102.28805555555552, 102.21146666666662, 102.30810810810806, 102.35486486486484, 102.31611111111108, 102.34309859154926, 102.28405797101445, 102.35835616438351, 102.35810810810806, 102.29135135135134, 102.31813333333331, 102.33561643835611, 102.35671232876709, 102.31123287671228, 102.67364864864861, 102.37499999999996, 102.58081081081076, 102.57283783783781, 102.26013698630135, 102.44098591549292, 102.60189189189184, 102.46189189189185, 102.54081081081078, 102.51958904109586, 102.58081081081077, 102.58554054054049, 102.2363513513513, 102.47239436619715, 102.6205405405405, 102.46716216216211, 102.6024324324324, 102.53027027027024, 102.48416666666662, 102.58016666666666, 102.59249999999997, 102.58123287671228, 102.47293333333327, 102.36972972972967, 102.38040540540534, 102.56459459459455, 102.56305555555552, 102.485205479452, 102.44426666666664, 102.58106666666662, 102.58554054054049, 102.47845070422531, 102.39397260273968, 102.37216216216211, 102.61323943661968, 102.5265753424657, 102.45621621621616, 102.61513888888884, 102.48864864864859, 102.50499999999995, 102.42232876712322, 102.38243243243237, 102.56126760563376, 102.39599999999996, 102.57959999999994, 102.68270270270268, 102.52626666666661, 102.46328767123282, 102.62614285714282, 102.52743243243239, 102.47959999999995, 102.36879999999995, 102.42499999999994, 102.55729729729725, 102.5097260273972, 102.50124999999996, 103.11445945945944, 103.32453333333328, 103.16256756756752, 103.10797297297296, 103.13493333333327, 103.31270270270265, 103.18397260273969, 103.12689189189184, 103.16626666666662, 103.21589041095885, 103.19639999999995, 103.13426666666663, 103.14178082191779, 103.20492957746474, 103.23391891891886, 103.18573333333329, 102.91148648648645, 102.57853333333328, 102.44121621621619, 102.58297297297293, 102.60267605633798, 102.26202702702699, 102.39189189189186, 102.68932432432429, 102.42879999999995, 102.52175675675672, 102.5375342465753, 102.58295774647884, 102.57743243243237, 102.27519999999994, 102.3932432432432, 102.63679999999997, 102.50027027027022, 102.49684931506846, 102.63239436619713, 102.44621621621617, 102.54486486486483, 102.5166216216216, 102.5677333333333, 102.59499999999996, 102.23547945205475, 102.4430136986301, 102.67626666666662, 102.38813333333329, 102.61472972972967, 102.26202702702699, 102.37919999999995, 102.68608108108106, 102.41472222222218, 102.67849315068489, 102.49575342465748, 102.44972972972968, 102.6483333333333, 102.48310810810807, 102.5297297297297, 102.6118571428571, 102.25319999999996, 102.3897297297297, 102.68608108108106, 102.44540540540535, 102.44679999999997, 102.6748571428571, 102.44732394366193, 102.51199999999996, 102.57472972972968, 102.30040540540536, 102.41876712328764, 102.63013698630134, 102.45835616438352, 102.56403225806449, 102.52270270270266, 103.42540540540536, 103.61999999999995, 102.89452054794518, 102.55559999999996, 102.6678571428571, 103.02294117647052, 103.22851351351346, 104.00175675675669, 102.43270270270264, 102.4638356164383, 102.6158333333333, 103.44191780821913, 103.42914285714279, 104.15283783783778, 104.16256756756752, 103.99270270270263, 103.97986111111105, 104.0655405405405, 104.16361111111105, 103.87942857142852, 104.16777777777773, 104.37040540540542, 102.45364864864858, 102.61459459459456, 102.52756756756753, 102.47027777777774, 102.54463768115941, 102.53374999999997, 102.59027027027024, 102.5855405405405, 102.23767123287666, 102.44297297297294, 102.62426666666663, 102.46695652173906, 102.57506666666661, 102.26135135135132, 102.40410958904106, 102.63679999999997, 102.50027027027022, 102.49684931506846, 102.63239436619713, 102.44621621621617, 102.54486486486483, 102.5166216216216, 102.59972602739722, 102.56706666666663, 102.24726027397256, 102.42342857142853, 102.67068493150683, 102.48135135135131, 102.44079999999997, 102.57743243243239, 102.45770270270266, 102.55388888888884, 102.66295081967209, 102.28136986301365, 102.40273972602735, 102.68589041095886, 102.44458333333328, 102.5075675675675, 102.54569444444442, 103.48779411764701, 103.31472972972968, 103.19432432432427, 102.45287671232873, 102.69527777777775, 102.91864864864858, 103.07808219178078, 104.14042857142852, 102.7002739726027, 102.45835616438352, 102.61082191780817, 103.33597402597397, 103.34253333333326, 104.06056338028164, 104.14014705882349, 104.06736111111105, 104.07291666666661, 104.06418918918912, 104.01202702702693, 104.0025675675675, 104.0452702702702, 104.08478260869558, 102.3416438356164, 102.26810810810807, 102.23333333333329, 102.29621621621617, 102.32328767123283, 102.32845070422533, 102.34492753623185, 102.28394366197178, 102.33599999999996, 102.38138888888884, 102.27742857142852, 102.3107042253521, 102.30567567567563, 102.24434782608694, 102.32136986301367, 102.28109589041092, 102.28444444444442, 102.27833333333331, 102.26356164383557, 102.22958904109585, 102.33714285714281, 102.32666666666664, 102.30486486486484, 102.31726027397258, 102.35671232876707, 102.30162162162158, 102.38366197183095, 102.3008219178082, 102.31726027397258, 102.34648648648644, 102.36164383561638, 102.30630136986298, 102.62756756756752, 102.39799999999995, 102.65303030303026, 102.56777777777774, 102.24999999999996, 102.39561643835613, 102.66739726027396, 102.49890410958898, 102.48694444444442, 102.5505555555555, 102.59493150684926, 102.46837837837833, 102.37736111111106, 102.38821917808214, 102.59472972972969, 102.54242857142852, 102.47352112676052, 102.72328767123284, 102.41759999999996, 102.49123287671229, 102.58186666666663, 102.5855405405405, 102.24999999999999, 102.6923636363636, 102.22328571428567, 102.47219178082187, 102.59466666666663, 102.4665753424657, 102.49972222222222, 102.67159420289852, 102.37803030303027, 102.59972602739721, 102.56472972972968, 102.25391891891888, 102.3897297297297, 102.70643835616436, 102.42281690140841, 102.51463768115939, 102.56773333333328, 102.55053333333329, 102.58260273972597, 102.28136986301365, 102.40273972602735, 102.68430555555551, 102.45929577464784, 102.52162162162156, 102.62426666666663, 102.47874999999993, 102.50202702702698, 102.5695774647887, 102.56972602739721, 102.47267605633799, 102.35499999999995, 102.39189189189185, 102.60890410958902, 102.53472972972968, 102.53364864864861, 103.20985915492955, 103.31942028985502, 103.14547945205476, 103.11466666666664, 103.13759999999996, 103.31270270270265, 103.16479452054791, 103.11493150684927, 103.19468749999996, 103.20359999999994, 103.19810810810807, 103.19826666666663, 103.095205479452, 103.18148648648643, 103.2309859154929, 103.1872727272727, 103.1298630136986, 102.51027027027024, 102.52270270270266, 102.64557142857139, 102.4530136986301, 102.37695652173907, 102.40763888888881, 102.5478378378378, 102.55306666666661, 102.4769863013698, 102.5963513513513, 102.48864864864859, 102.45732394366192, 102.49267605633797, 102.40342465753419, 102.45479452054789, 102.47675675675673, 102.51586666666661, 102.6932432432432, 102.56767123287666, 102.45530303030297, 102.63851351351346, 102.46945205479447, 102.3761643835616, 102.57202702702696, 102.40479452054788, 102.42859154929572, 102.51736111111107, 102.41479452054793, 102.60729729729724, 102.40136986301366, 102.39780821917803, 102.5130136986301, 102.48816901408446, 102.70055555555552, 102.47675675675673, 102.47013513513508, 102.68633802816898, 102.47041666666661, 102.46027027027023, 102.60821917808214, 102.26304347826083, 102.50671232876707, 102.53851351351346, 102.40837837837836, 102.63465753424654, 102.57081081081076, 102.50479999999995, 102.41863013698625, 102.59999999999994, 102.38243243243238, 102.42319999999995, 102.49527027027023, 102.43493333333329, 102.73108108108104, 102.97859154929569, 103.0835616438356, 103.90039999999993, 102.47527777777772, 102.4633333333333, 102.58297297297294, 103.54208955223876, 103.43955882352935, 103.41999999999994, 102.45972602739721, 102.54399999999998, 102.84213333333328, 103.1593055555555, 104.00133333333328, 103.97315068493144, 104.16726027397256, 104.10202702702696, 104.04256756756752, 104.08066666666662, 104.00519999999995, 104.01743243243239, 104.04797297297291, 103.02388888888886, 102.34465753424652, 102.34079999999996, 102.24729729729725, 102.24499999999995, 102.36849315068488, 102.31571428571424, 102.2432432432432, 102.26533333333329, 102.2346478873239, 102.31648648648647, 102.31726027397258, 102.30493150684927, 102.32112676056333, 102.3151351351351, 102.33733333333329, 102.3413333333333, 102.30082191780818, 102.27459459459456, 102.33270270270266, 102.22361111111107, 102.30373333333331, 102.3533333333333, 102.28216216216212, 102.25397260273968, 102.26810810810807, 102.24788732394362, 102.28249999999998, 102.33277777777772, 102.33733333333329, 102.29459459459454, 102.35486486486484, 102.29621621621618, 102.32328767123286, 102.33323943661969, 102.3533333333333, 102.3151351351351, 102.30675675675671, 102.3481081081081, 102.54849315068488, 102.55586666666663, 102.52723076923074, 102.45146666666663, 102.47773333333328, 102.37123287671227, 102.56095890410954, 102.36851351351349, 102.30216216216213, 102.29162162162159, 102.25945945945942, 102.27226666666664, 102.34246575342463, 102.30575342465751, 102.30459459459455, 102.24459459459453, 102.22942857142854, 102.31611111111107, 102.30273972602738, 102.31534246575337, 102.35810810810807, 102.30351351351347, 102.30273972602735, 102.35764705882349, 102.29013333333329, 102.3413333333333, 102.29216216216213, 102.23222222222219, 102.32999999999998, 102.29459459459457, 102.31361111111107, 102.25066666666662, 102.25216216216214, 102.2471232876712, 102.3513513513513, 102.29810810810807, 102.3112328767123, 102.3672222222222, 102.2524324324324, 102.37216216216211, 102.33918918918913, 102.30630136986298, 102.35135135135133, 102.33098591549292, 102.31970149253729, 102.43906666666662, 102.58418918918913, 102.46260273972598, 102.43630136986297, 102.64054054054048, 102.3330136986301, 102.43472972972968, 102.48878378378375, 102.50399999999996, 102.67999999999998, 102.39581081081077, 102.52621621621617, 102.59115942028981, 102.26899999999996, 102.40273972602736, 102.68608108108106, 102.46246575342461, 102.61739726027393, 102.51041666666663, 102.49742857142853, 102.5280882352941, 102.51866666666662, 102.59972972972969, 102.6108333333333, 102.22702702702698, 102.44297297297294, 102.6194520547945, 102.46985507246372, 102.4549333333333, 102.52797297297295, 102.51847222222219, 102.59972972972969, 102.57608108108104, 102.26414285714282, 102.42083333333329, 102.63679999999997, 102.48293333333329, 102.45561643835613, 102.59972602739721, 102.56972602739721, 102.51972972972968, 102.33926470588231, 102.37216216216211, 102.59472972972969, 102.5428378378378, 102.48301369863009, 102.65621621621618, 102.45098591549291, 102.48222222222218, 102.59972972972969, 102.59493150684928, 102.47041666666662, 102.36213333333329, 102.36666666666662, 102.64318840579708, 102.46223880597012, 102.51930555555552, 103.10374999999998, 103.3183561643835, 103.17638888888885, 103.11013513513511, 103.18083333333328, 103.217536231884, 103.20310810810807, 103.162602739726, 103.13891891891886, 103.17874999999997, 103.29716216216212, 103.11135135135132, 103.14899999999996, 103.15863013698625, 103.1686764705882, 103.28905405405402, 103.12849315068489, 102.5728378378378, 102.61028169014081, 102.50371428571424, 102.50499999999995, 102.4270666666666, 102.38356164383555, 102.5683561643835, 102.45216216216211, 102.50917808219172, 102.6511764705882, 102.48027027027024, 102.4025333333333, 102.56438356164378, 102.41249999999995, 102.40054054054049, 102.48499999999997, 102.46218749999998, 102.75225352112673, 102.48175675675671, 102.44826666666664, 102.7206849315068, 102.44068493150681, 102.45493150684929, 102.62943661971825, 102.26849315068489, 102.50069444444439, 102.52260273972598, 102.45972602739721, 102.59851351351347, 102.23930555555552, 102.45528571428568, 102.65211267605629, 102.44135135135132, 102.66175675675672, 102.492027027027, 102.45486486486485, 102.70410958904108, 102.38098591549293, 102.5505555555555, 102.57472972972968, 102.30040540540536, 102.41986486486482, 102.60189189189184, 102.48478873239432, 102.49585714285712, 102.61287671232873, 102.43594594594592, 102.54246575342461, 102.59624999999997, 102.31121621621617, 102.35416666666663, 102.70470588235291, 102.45959999999994, 102.5102739726027, 102.59222222222218, 103.37759999999994, 103.72319999999993, 102.82821917808214, 102.46647058823524, 102.68702702702699, 103.18879999999994, 103.19876712328761, 103.799054054054, 102.4009459459459, 102.52847222222219, 102.64849315068487, 103.28666666666662, 103.84864864864856, 104.06369863013693, 104.07599999999995, 104.079054054054, 104.0844594594594, 104.02734374999997, 104.08945945945939, 103.97729729729723, 103.9917567567567, 103.48216216216211, 102.34594594594589, 102.32166666666663, 102.25690140845066, 102.25295774647884, 102.31611111111107, 102.31999999999996, 102.30027397260271, 102.22356164383558, 102.27098591549293, 102.2788059701492, 102.31393939393935, 102.35599999999995, 102.27189189189185, 102.31999999999996, 102.3533333333333, 102.21549295774645, 102.27999999999996, 102.30486486486483, 102.36849315068487, 102.28540540540536, 102.22864864864864, 102.2432432432432, 102.24972222222219, 102.3771428571428, 102.30162162162158, 102.30082191780816, 102.37162162162157, 102.29135135135134, 102.31813333333331, 102.2897222222222, 102.33942857142854, 102.34810810810806, 102.25540540540537, 102.21999999999994, 102.34266666666662, 102.35835616438351, 102.24527777777774, 102.22647058823527, 102.28333333333329, 102.2551351351351, 102.31726027397258, 102.35671232876707, 102.30630136986298, 102.32666666666663, 102.30447761194029, 102.38138888888885, 102.30547945205474, 102.33599999999996, 102.35270270270264, 102.31611111111108, 102.29457142857142, 102.56911764705877, 102.57608108108104, 102.46837837837833, 102.48315068493145, 102.45773333333327, 102.37777777777772, 102.55295774647881, 102.40558823529408, 102.4665753424657, 102.70013513513508, 102.46837837837833, 102.46027027027023, 102.61527777777773, 102.27816901408447, 102.49507042253516, 102.5417567567567, 102.40246575342464, 102.73219178082188, 102.4993150684931, 102.4016216216216, 102.76027027027024, 102.35449275362315, 102.5166216216216, 102.6281944444444, 102.27567567567563, 102.4859154929577, 102.57138888888885, 102.43166666666663, 102.49434782608692, 102.67364864864861, 102.36253333333329, 102.61583333333328, 102.5545333333333, 102.24905405405403, 102.45309859154926, 102.62222222222219, 102.44826666666663, 102.53226666666663, 102.51328767123285, 102.5677333333333, 102.60919999999994, 102.26287671232872, 102.41183098591546, 102.65567567567564, 102.43608108108103, 102.63743243243239, 102.52260273972598, 102.49169230769226, 102.51635135135132, 102.55611111111108, 102.58180555555552, 102.59644736842101, 102.2347945205479, 102.3932432432432, 102.65081081081078, 102.50027027027022, 102.68736111111109, 103.18608108108104, 103.29592105263154, 103.11305555555552, 103.12135135135134, 103.18337837837834, 103.32081081081074, 103.11222222222219, 103.12499999999997, 103.17594594594588, 103.25945205479448, 103.19094594594593, 103.17459459459455, 103.09027777777774, 103.16550724637676, 103.2721621621621, 103.15716216216212, 102.89851351351348, 102.61386666666662, 102.41243243243238, 102.55123287671229, 102.57608108108103, 102.29040540540537, 102.4261643835616, 102.61780821917803, 102.44621621621617, 102.54486486486483, 102.51547945205476, 102.62362318840576, 102.57849315068489, 102.27519999999994, 102.3932432432432, 102.69085714285711, 102.42630136986297, 102.53466666666661, 102.68267605633801, 102.39808219178077, 102.51851351351347, 102.56773333333328, 102.6039189189189, 102.57472972972968, 102.2347945205479, 102.44843749999997, 102.6494520547945, 102.45229729729725, 102.49123287671227, 102.33067567567562, 102.38972972972968, 102.64945205479448, 102.52455882352938, 102.46027027027023, 102.71027027027023, 102.43270270270264, 102.51027027027021, 102.52270270270266, 102.60919999999994, 102.50638888888884, 102.3001351351351, 102.44999999999996, 102.65159999999997, 102.45082191780817, 102.42648648648644, 102.49351351351348, 102.56999999999996, 102.58039999999995, 102.57743243243237, 102.27519999999994, 102.38266666666662, 102.65081081081078, 102.47527777777772, 102.47599999999996, 102.59972972972969, 103.41162162162158, 103.5194594594594, 102.96216216216212, 102.53041095890406, 102.66569444444438, 103.08397260273966, 103.2374666666666, 103.84839999999994, 102.48452054794515, 102.50202702702698, 102.61519999999994, 103.32729729729725, 103.75123287671227, 104.09391891891887, 104.05405405405398, 104.06013513513508, 104.08599999999994, 104.07152777777772, 104.00671232876707, 104.0478571428571, 103.9838666666666, 103.48216216216211, 102.36164383561638, 102.30630136986298, 102.2432432432432, 102.27216216216212, 102.32619718309856, 102.30958904109583, 102.29918918918915, 102.22547945205477, 102.28986666666661, 102.23013698630133, 102.33577464788728, 102.34086956521735, 100.89037999999998, 101.6620213333333, 101.22230399999997, 101.85196891891889, 102.30810810810809, 102.29216216216213, 102.27999999999996, 102.3069333333333, 102.29279999999997, 102.28621621621619, 102.25945945945944, 102.26904109589037, 102.2361643835616, 102.34086956521733, 102.30810810810807, 102.34945945945942, 102.31726027397258, 102.30891891891888, 102.34266666666663, 102.29945205479447, 102.32619718309856, 102.35810810810804, 102.2694594594594, 102.19589041095887, 102.34945945945941, 102.30162162162159, 102.30027397260271, 102.27313432835818, 102.20712328767121, 102.26906666666662, 102.37162162162157, 102.26563380281686, 102.365205479452, 102.3107042253521, 102.30086956521737, 102.36351351351347, 102.34266666666662, 102.30082191780818, 102.35135135135131, 102.32162162162159, 102.3424657534246, 102.48507042253517, 102.54287671232872, 102.50853333333329, 102.37499999999996, 102.62246575342459, 102.39041095890406, 102.39648648648642, 102.48380281690137, 102.49945945945942, 102.69810810810807, 102.37479452054791, 102.51639999999996, 102.63191780821913, 102.27066666666661, 102.51301369863009, 102.51171052631574, 102.42545454545451, 102.787027027027, 102.41324324324319, 102.53533333333328, 102.68152777777772, 102.43385714285711, 102.43594594594592, 102.59999999999994, 102.38243243243238, 102.40957746478868, 102.49026666666664, 102.50270270270266, 102.64191780821916, 102.57506666666661, 102.47693333333329, 102.39291666666662, 102.56438356164378, 102.41249999999995, 102.40054054054049, 102.48214285714283, 102.51726027397257, 102.67513513513511, 102.38346666666662, 102.5166216216216, 102.63191780821913, 102.27027027027022, 102.40735294117641, 102.62719999999995, 102.47698630136982, 102.62893333333331, 102.50067567567564, 102.47027777777775, 102.71055555555553, 102.35289855072459, 102.58106666666662, 102.57719999999996, 102.28959459459455, 102.47906666666663, 101.72691351351348, 101.41603918918915, 100.78803472222222, 100.79833561643835, 100.82104666666666, 100.65760135135136, 101.52712027027023, 100.8091689189189, 100.82131249999998, 100.55159285714285, 100.78072112676053, 100.37694666666665, 101.04366266666665, 100.8091689189189, 100.69391599999997, 100.68626164383562, 101.07546285714284, 100.43825138888889, 100.32790694444442, 100.49687027027025, 101.73937837837835, 102.52853333333329, 102.60397260273967, 102.30458333333328, 102.4089333333333, 102.6458666666666, 102.44826666666661, 102.48191780821917, 102.66453333333328, 102.37549295774645, 102.53779411764701, 102.5916438356164, 102.31201351351346, 100.28832972972972, 102.58236111111107, 102.28986666666661, 100.26264054054056, 101.76193676470584, 100.66522432432427, 101.044454054054, 101.43674459459454, 102.6094594594594, 101.44469189189185, 101.01222816901401, 100.72812058823531, 101.07113108108103, 100.82001486486483, 102.53540540540536, 102.27958904109583, 100.49654533333337, 101.84884285714281, 100.27788115942028, 101.40718194444437, 101.05002191780815, 102.63148648648644, 101.98934459459454, 100.55347236842101, 100.88355211267604, 101.20354927536226, 100.99186849315062, 101.20671944444442, 101.08662876712323, 101.89248108108102, 100.99211643835612, 101.31248749999996, 101.05287083333329, 101.3315464788732, 101.18606461538458, 97.92439733333333, 98.67515479452055, 96.92062972972977, 97.08916619718312, 98.81626417910446, 98.53630135135131, 97.99783466666666, 96.48764594594594, 98.55729189189184, 98.59590945945943, 98.03986081081085, 96.4369, 98.51477733333331, 97.90065405405404, 96.24470405405404, 98.63497972972972, 88.71467432432428, 93.38251971830984, 95.86186567164178, 88.19603013698628, 88.70926216216216, 95.48260270270262, 101.19338169014078, 101.09650810810804, 101.382904054054, 98.68254782608695, 98.5538689189189, 98.12146216216219, 96.12955753424659, 98.43510540540541, 98.39492602739728, 98.40491351351349, 95.97990434782606, 98.89419589041093, 98.59147638888888, 97.97242297297296, 96.24658767123289, 98.7758108108108, 97.91666351351354, 96.28939285714289, 98.38571486486485, 92.76755405405406, 89.15408219178082, 98.7541013333333, 88.01774324324322, 88.06853888888885, 92.016284057971, 101.27895999999994, 101.0965081081081, 101.4293424657534, 99.77287763157896, 98.58832837837838, 97.9773493150685, 96.10374925373132, 98.31701891891888, 98.0944355263158, 98.66660810810811, 96.23969054054055, 98.64637837837839, 98.21425479452057, 98.45796956521737, 96.26671756756754, 98.71726849315067, 98.03742972972974, 97.8761082191781, 96.93824864864864, 95.01964246575342, 87.30164347826086, 97.55583918918916, 90.82226216216216, 88.30776805555553, 88.83649315068492, 101.59877702702698, 100.88445479452051, 101.07322816901407, 100.60926575342461, 98.09314864864868, 98.67314999999999, 96.22412638888889, 98.3955418918919, 98.06456301369865, 98.55005270270271, 97.95224054054057, 96.99955135135131, 98.0861418918919, 98.68961621621622, 96.29914999999998, 98.46842297297293, 98.16697428571432, 97.90065405405407, 96.31892297297298, 96.78968378378377, 88.06935405405405, 96.2531405405405, 92.12093013698629, 88.07581917808217, 88.01682567567563, 90.91782666666668, 97.50001780821918, 88.08534594594592, 88.01196575342463, 93.6335643835616, 91.7154506849315, 87.36228749999997, 88.3005213333333, 89.49384324324323, 90.3841361111111, 89.45712394366194, 88.00675753424657, 88.24035633802818, 89.18291549295772, 90.61285416666666, 87.8859410958904, 88.77447323943662, 89.45423866666665, 90.05023513513514, 87.78827972972971, 89.96413378378378, 88.83076216216219, 91.20723333333333, 87.30745466666663, 90.05023513513514, 88.55734054054055, 95.08346428571426, 92.15659863013698, 87.4471716216216, 88.16800533333331, 89.96821756756755, 89.95163561643834, 89.52539459459456, 88.02146769230768, 87.86411199999999, 89.44837599999998, 90.42742297297298, 88.14476216216215, 89.34890133333336, 88.299402739726, 90.56870588235292, 87.8711689189189, 89.93630547945207, 88.59656944444447, 91.199225, 87.82208767123285, 89.83337042253521, 87.94864929577463, 94.44203333333331, 93.54535479452053, 87.43099444444444, 87.72940563380278, 90.22239722222224, 89.13669452054796, 90.31907916666667, 87.62508055555554, 88.44454166666665, 89.43659166666664, 90.3789375, 88.52510958904108, 87.51795972222222, 89.43966285714284, 90.55219027777778, 88.31009999999999, 88.56263698630138, 88.89525138888887, 92.00705416666668, 87.40610833333332, 87.87557999999996, 90.21862328767124, 88.65907260273974, 92.17634305555556, 87.86824366197182, 88.76966666666667, 89.18705416666666, 91.83774583333336, 87.87840694444444, 88.63103561643835, 88.83918194444442, 91.75830555555557, 89.41280277777778, 87.60569166666664, 90.22239722222224, 88.99256944444446, 90.27038904109587, 87.8061458333333, 90.19064166666666, 88.69792361111112, 92.46779305555555, 87.4759057142857, 87.5601931506849, 90.56334931506848, 88.3851068493151, 89.49128888888886, 87.82434657534243, 90.16664444444443, 89.48827605633802, 88.61217671232873, 88.16661944444444, 89.90859999999998, 89.9232472222222, 89.67440694444443, 88.00008888888888, 89.88211944444441, 89.92759583333333, 97.06548888888886, 88.20589305555553, 88.56019583333332, 88.3851068493151, 88.88223611111108, 92.19889295774648, 87.37101388888887, 88.13852602739725, 88.84612500000001, 88.84612499999999, 90.41717808219177, 87.81466986301368, 90.04244027777777, 88.3194263888889, 89.94250821917807, 87.75568333333331, 89.99732222222222, 88.8192111111111, 91.07677605633802, 87.81396388888885, 89.9232472222222, 88.65746250000001, 95.11866056338025, 92.01734788732395, 87.62508055555554, 88.34376056338026, 89.74665633802815, 89.92759583333333, 89.6063028169014, 87.50566575342462, 88.14325833333332, 89.89748055555555, 90.61285416666666, 88.10577681159421, 87.91081666666668, 89.29942222222219, 90.61285416666666, 87.90680985915493, 88.73401944444443, 89.0596708333333, 91.92687183098595, 88.07264444444445, 88.29349452054795, 89.12234225352111, 91.3466916666667, 89.74026197183098, 87.75568333333331, 89.96582957746479, 88.82251249999999, 91.08953749999999, 87.3999133333333, 90.51654305555554, 88.78521830985918, 91.68411714285716, 88.36757941176471, 88.3633638888889, 89.11508749999999, 91.22792361111114, 88.42801111111109, 88.13213888888889, 89.86156285714283, 90.64362112676056, 91.89763333333332, 88.15711666666667, 89.13669452054796, 88.4359444444444, 91.61217260273973, 88.3675794117647, 88.64286428571428], \"yaxis\": \"y2\"}],\n",
              "                        {\"template\": {\"data\": {\"bar\": [{\"error_x\": {\"color\": \"#2a3f5f\"}, \"error_y\": {\"color\": \"#2a3f5f\"}, \"marker\": {\"line\": {\"color\": \"#E5ECF6\", \"width\": 0.5}}, \"type\": \"bar\"}], \"barpolar\": [{\"marker\": {\"line\": {\"color\": \"#E5ECF6\", \"width\": 0.5}}, \"type\": \"barpolar\"}], \"carpet\": [{\"aaxis\": {\"endlinecolor\": \"#2a3f5f\", \"gridcolor\": \"white\", \"linecolor\": \"white\", \"minorgridcolor\": \"white\", \"startlinecolor\": \"#2a3f5f\"}, \"baxis\": {\"endlinecolor\": \"#2a3f5f\", \"gridcolor\": \"white\", \"linecolor\": \"white\", \"minorgridcolor\": \"white\", \"startlinecolor\": \"#2a3f5f\"}, \"type\": \"carpet\"}], \"choropleth\": [{\"colorbar\": {\"outlinewidth\": 0, \"ticks\": \"\"}, \"type\": \"choropleth\"}], \"contour\": [{\"colorbar\": {\"outlinewidth\": 0, \"ticks\": \"\"}, \"colorscale\": [[0.0, \"#0d0887\"], [0.1111111111111111, \"#46039f\"], [0.2222222222222222, \"#7201a8\"], [0.3333333333333333, \"#9c179e\"], [0.4444444444444444, \"#bd3786\"], [0.5555555555555556, \"#d8576b\"], [0.6666666666666666, \"#ed7953\"], [0.7777777777777778, \"#fb9f3a\"], [0.8888888888888888, \"#fdca26\"], [1.0, \"#f0f921\"]], \"type\": \"contour\"}], \"contourcarpet\": [{\"colorbar\": {\"outlinewidth\": 0, \"ticks\": \"\"}, \"type\": \"contourcarpet\"}], \"heatmap\": [{\"colorbar\": {\"outlinewidth\": 0, \"ticks\": \"\"}, \"colorscale\": [[0.0, \"#0d0887\"], [0.1111111111111111, \"#46039f\"], [0.2222222222222222, \"#7201a8\"], [0.3333333333333333, \"#9c179e\"], [0.4444444444444444, \"#bd3786\"], [0.5555555555555556, \"#d8576b\"], [0.6666666666666666, \"#ed7953\"], [0.7777777777777778, \"#fb9f3a\"], [0.8888888888888888, \"#fdca26\"], [1.0, \"#f0f921\"]], \"type\": \"heatmap\"}], \"heatmapgl\": [{\"colorbar\": {\"outlinewidth\": 0, \"ticks\": \"\"}, \"colorscale\": [[0.0, \"#0d0887\"], [0.1111111111111111, \"#46039f\"], [0.2222222222222222, \"#7201a8\"], [0.3333333333333333, \"#9c179e\"], [0.4444444444444444, \"#bd3786\"], [0.5555555555555556, \"#d8576b\"], [0.6666666666666666, \"#ed7953\"], [0.7777777777777778, \"#fb9f3a\"], [0.8888888888888888, \"#fdca26\"], [1.0, \"#f0f921\"]], \"type\": \"heatmapgl\"}], \"histogram\": [{\"marker\": {\"colorbar\": {\"outlinewidth\": 0, \"ticks\": \"\"}}, \"type\": \"histogram\"}], \"histogram2d\": [{\"colorbar\": {\"outlinewidth\": 0, \"ticks\": \"\"}, \"colorscale\": [[0.0, \"#0d0887\"], [0.1111111111111111, \"#46039f\"], [0.2222222222222222, \"#7201a8\"], [0.3333333333333333, \"#9c179e\"], [0.4444444444444444, \"#bd3786\"], [0.5555555555555556, \"#d8576b\"], [0.6666666666666666, \"#ed7953\"], [0.7777777777777778, \"#fb9f3a\"], [0.8888888888888888, \"#fdca26\"], [1.0, \"#f0f921\"]], \"type\": \"histogram2d\"}], \"histogram2dcontour\": [{\"colorbar\": {\"outlinewidth\": 0, \"ticks\": \"\"}, \"colorscale\": [[0.0, \"#0d0887\"], [0.1111111111111111, \"#46039f\"], [0.2222222222222222, \"#7201a8\"], [0.3333333333333333, \"#9c179e\"], [0.4444444444444444, \"#bd3786\"], [0.5555555555555556, \"#d8576b\"], [0.6666666666666666, \"#ed7953\"], [0.7777777777777778, \"#fb9f3a\"], [0.8888888888888888, \"#fdca26\"], [1.0, \"#f0f921\"]], \"type\": \"histogram2dcontour\"}], \"mesh3d\": [{\"colorbar\": {\"outlinewidth\": 0, \"ticks\": \"\"}, \"type\": \"mesh3d\"}], \"parcoords\": [{\"line\": {\"colorbar\": {\"outlinewidth\": 0, \"ticks\": \"\"}}, \"type\": \"parcoords\"}], \"pie\": [{\"automargin\": true, \"type\": \"pie\"}], \"scatter\": [{\"marker\": {\"colorbar\": {\"outlinewidth\": 0, \"ticks\": \"\"}}, \"type\": \"scatter\"}], \"scatter3d\": [{\"line\": {\"colorbar\": {\"outlinewidth\": 0, \"ticks\": \"\"}}, \"marker\": {\"colorbar\": {\"outlinewidth\": 0, \"ticks\": \"\"}}, \"type\": \"scatter3d\"}], \"scattercarpet\": [{\"marker\": {\"colorbar\": {\"outlinewidth\": 0, \"ticks\": \"\"}}, \"type\": \"scattercarpet\"}], \"scattergeo\": [{\"marker\": {\"colorbar\": {\"outlinewidth\": 0, \"ticks\": \"\"}}, \"type\": \"scattergeo\"}], \"scattergl\": [{\"marker\": {\"colorbar\": {\"outlinewidth\": 0, \"ticks\": \"\"}}, \"type\": \"scattergl\"}], \"scattermapbox\": [{\"marker\": {\"colorbar\": {\"outlinewidth\": 0, \"ticks\": \"\"}}, \"type\": \"scattermapbox\"}], \"scatterpolar\": [{\"marker\": {\"colorbar\": {\"outlinewidth\": 0, \"ticks\": \"\"}}, \"type\": \"scatterpolar\"}], \"scatterpolargl\": [{\"marker\": {\"colorbar\": {\"outlinewidth\": 0, \"ticks\": \"\"}}, \"type\": \"scatterpolargl\"}], \"scatterternary\": [{\"marker\": {\"colorbar\": {\"outlinewidth\": 0, \"ticks\": \"\"}}, \"type\": \"scatterternary\"}], \"surface\": [{\"colorbar\": {\"outlinewidth\": 0, \"ticks\": \"\"}, \"colorscale\": [[0.0, \"#0d0887\"], [0.1111111111111111, \"#46039f\"], [0.2222222222222222, \"#7201a8\"], [0.3333333333333333, \"#9c179e\"], [0.4444444444444444, \"#bd3786\"], [0.5555555555555556, \"#d8576b\"], [0.6666666666666666, \"#ed7953\"], [0.7777777777777778, \"#fb9f3a\"], [0.8888888888888888, \"#fdca26\"], [1.0, \"#f0f921\"]], \"type\": \"surface\"}], \"table\": [{\"cells\": {\"fill\": {\"color\": \"#EBF0F8\"}, \"line\": {\"color\": \"white\"}}, \"header\": {\"fill\": {\"color\": \"#C8D4E3\"}, \"line\": {\"color\": \"white\"}}, \"type\": \"table\"}]}, \"layout\": {\"annotationdefaults\": {\"arrowcolor\": \"#2a3f5f\", \"arrowhead\": 0, \"arrowwidth\": 1}, \"coloraxis\": {\"colorbar\": {\"outlinewidth\": 0, \"ticks\": \"\"}}, \"colorscale\": {\"diverging\": [[0, \"#8e0152\"], [0.1, \"#c51b7d\"], [0.2, \"#de77ae\"], [0.3, \"#f1b6da\"], [0.4, \"#fde0ef\"], [0.5, \"#f7f7f7\"], [0.6, \"#e6f5d0\"], [0.7, \"#b8e186\"], [0.8, \"#7fbc41\"], [0.9, \"#4d9221\"], [1, \"#276419\"]], \"sequential\": [[0.0, \"#0d0887\"], [0.1111111111111111, \"#46039f\"], [0.2222222222222222, \"#7201a8\"], [0.3333333333333333, \"#9c179e\"], [0.4444444444444444, \"#bd3786\"], [0.5555555555555556, \"#d8576b\"], [0.6666666666666666, \"#ed7953\"], [0.7777777777777778, \"#fb9f3a\"], [0.8888888888888888, \"#fdca26\"], [1.0, \"#f0f921\"]], \"sequentialminus\": [[0.0, \"#0d0887\"], [0.1111111111111111, \"#46039f\"], [0.2222222222222222, \"#7201a8\"], [0.3333333333333333, \"#9c179e\"], [0.4444444444444444, \"#bd3786\"], [0.5555555555555556, \"#d8576b\"], [0.6666666666666666, \"#ed7953\"], [0.7777777777777778, \"#fb9f3a\"], [0.8888888888888888, \"#fdca26\"], [1.0, \"#f0f921\"]]}, \"colorway\": [\"#636efa\", \"#EF553B\", \"#00cc96\", \"#ab63fa\", \"#FFA15A\", \"#19d3f3\", \"#FF6692\", \"#B6E880\", \"#FF97FF\", \"#FECB52\"], \"font\": {\"color\": \"#2a3f5f\"}, \"geo\": {\"bgcolor\": \"white\", \"lakecolor\": \"white\", \"landcolor\": \"#E5ECF6\", \"showlakes\": true, \"showland\": true, \"subunitcolor\": \"white\"}, \"hoverlabel\": {\"align\": \"left\"}, \"hovermode\": \"closest\", \"mapbox\": {\"style\": \"light\"}, \"paper_bgcolor\": \"white\", \"plot_bgcolor\": \"#E5ECF6\", \"polar\": {\"angularaxis\": {\"gridcolor\": \"white\", \"linecolor\": \"white\", \"ticks\": \"\"}, \"bgcolor\": \"#E5ECF6\", \"radialaxis\": {\"gridcolor\": \"white\", \"linecolor\": \"white\", \"ticks\": \"\"}}, \"scene\": {\"xaxis\": {\"backgroundcolor\": \"#E5ECF6\", \"gridcolor\": \"white\", \"gridwidth\": 2, \"linecolor\": \"white\", \"showbackground\": true, \"ticks\": \"\", \"zerolinecolor\": \"white\"}, \"yaxis\": {\"backgroundcolor\": \"#E5ECF6\", \"gridcolor\": \"white\", \"gridwidth\": 2, \"linecolor\": \"white\", \"showbackground\": true, \"ticks\": \"\", \"zerolinecolor\": \"white\"}, \"zaxis\": {\"backgroundcolor\": \"#E5ECF6\", \"gridcolor\": \"white\", \"gridwidth\": 2, \"linecolor\": \"white\", \"showbackground\": true, \"ticks\": \"\", \"zerolinecolor\": \"white\"}}, \"shapedefaults\": {\"line\": {\"color\": \"#2a3f5f\"}}, \"ternary\": {\"aaxis\": {\"gridcolor\": \"white\", \"linecolor\": \"white\", \"ticks\": \"\"}, \"baxis\": {\"gridcolor\": \"white\", \"linecolor\": \"white\", \"ticks\": \"\"}, \"bgcolor\": \"#E5ECF6\", \"caxis\": {\"gridcolor\": \"white\", \"linecolor\": \"white\", \"ticks\": \"\"}}, \"title\": {\"x\": 0.05}, \"xaxis\": {\"automargin\": true, \"gridcolor\": \"white\", \"linecolor\": \"white\", \"ticks\": \"\", \"title\": {\"standoff\": 15}, \"zerolinecolor\": \"white\", \"zerolinewidth\": 2}, \"yaxis\": {\"automargin\": true, \"gridcolor\": \"white\", \"linecolor\": \"white\", \"ticks\": \"\", \"title\": {\"standoff\": 15}, \"zerolinecolor\": \"white\", \"zerolinewidth\": 2}}}, \"title\": {\"text\": \"Production Rate\"}, \"xaxis\": {\"anchor\": \"y\", \"domain\": [0.0, 0.94], \"title\": {\"text\": \"Date\"}}, \"yaxis\": {\"anchor\": \"x\", \"domain\": [0.0, 1.0], \"title\": {\"text\": \"Production Rate\"}}, \"yaxis2\": {\"anchor\": \"x\", \"overlaying\": \"y\", \"side\": \"right\"}},\n",
              "                        {\"responsive\": true}\n",
              "                    ).then(function(){\n",
              "                            \n",
              "var gd = document.getElementById('2488b4de-38ad-4bef-bacb-e9aeb8c4f1ae');\n",
              "var x = new MutationObserver(function (mutations, observer) {{\n",
              "        var display = window.getComputedStyle(gd).display;\n",
              "        if (!display || display === 'none') {{\n",
              "            console.log([gd, 'removed!']);\n",
              "            Plotly.purge(gd);\n",
              "            observer.disconnect();\n",
              "        }}\n",
              "}});\n",
              "\n",
              "// Listen for the removal of the full notebook cells\n",
              "var notebookContainer = gd.closest('#notebook-container');\n",
              "if (notebookContainer) {{\n",
              "    x.observe(notebookContainer, {childList: true});\n",
              "}}\n",
              "\n",
              "// Listen for the clearing of the current output cell\n",
              "var outputEl = gd.closest('.output');\n",
              "if (outputEl) {{\n",
              "    x.observe(outputEl, {childList: true});\n",
              "}}\n",
              "\n",
              "                        })\n",
              "                };\n",
              "                \n",
              "            </script>\n",
              "        </div>\n",
              "</body>\n",
              "</html>"
            ]
          },
          "metadata": {
            "tags": []
          }
        }
      ]
    },
    {
      "cell_type": "code",
      "metadata": {
        "id": "FqCfdTIKeRy8"
      },
      "source": [
        "df[\"Date\"] = pd.to_datetime(df[\"Date\"])\n",
        "test[\"Date\"] = pd.to_datetime(test[\"Date\"])"
      ],
      "execution_count": 21,
      "outputs": []
    },
    {
      "cell_type": "code",
      "metadata": {
        "colab": {
          "base_uri": "https://localhost:8080/",
          "height": 195
        },
        "id": "LjXVfA6dedLg",
        "outputId": "839616e3-3ddb-4809-a299-83b2bc3e76d6"
      },
      "source": [
        "df.head()"
      ],
      "execution_count": 22,
      "outputs": [
        {
          "output_type": "execute_result",
          "data": {
            "text/html": [
              "<div>\n",
              "<style scoped>\n",
              "    .dataframe tbody tr th:only-of-type {\n",
              "        vertical-align: middle;\n",
              "    }\n",
              "\n",
              "    .dataframe tbody tr th {\n",
              "        vertical-align: top;\n",
              "    }\n",
              "\n",
              "    .dataframe thead th {\n",
              "        text-align: right;\n",
              "    }\n",
              "</style>\n",
              "<table border=\"1\" class=\"dataframe\">\n",
              "  <thead>\n",
              "    <tr style=\"text-align: right;\">\n",
              "      <th></th>\n",
              "      <th>Date</th>\n",
              "      <th>Industrial_Production</th>\n",
              "      <th>Year</th>\n",
              "      <th>Week</th>\n",
              "      <th>Day</th>\n",
              "      <th>WeekDay</th>\n",
              "    </tr>\n",
              "  </thead>\n",
              "  <tbody>\n",
              "    <tr>\n",
              "      <th>0</th>\n",
              "      <td>2013-01-01</td>\n",
              "      <td>102.324096</td>\n",
              "      <td>2013</td>\n",
              "      <td>1</td>\n",
              "      <td>1</td>\n",
              "      <td>1</td>\n",
              "    </tr>\n",
              "    <tr>\n",
              "      <th>1</th>\n",
              "      <td>2013-01-02</td>\n",
              "      <td>102.332340</td>\n",
              "      <td>2013</td>\n",
              "      <td>1</td>\n",
              "      <td>2</td>\n",
              "      <td>2</td>\n",
              "    </tr>\n",
              "    <tr>\n",
              "      <th>2</th>\n",
              "      <td>2013-01-03</td>\n",
              "      <td>102.263736</td>\n",
              "      <td>2013</td>\n",
              "      <td>1</td>\n",
              "      <td>3</td>\n",
              "      <td>3</td>\n",
              "    </tr>\n",
              "    <tr>\n",
              "      <th>3</th>\n",
              "      <td>2013-01-04</td>\n",
              "      <td>102.243261</td>\n",
              "      <td>2013</td>\n",
              "      <td>1</td>\n",
              "      <td>4</td>\n",
              "      <td>4</td>\n",
              "    </tr>\n",
              "    <tr>\n",
              "      <th>4</th>\n",
              "      <td>2013-01-05</td>\n",
              "      <td>102.340215</td>\n",
              "      <td>2013</td>\n",
              "      <td>1</td>\n",
              "      <td>5</td>\n",
              "      <td>5</td>\n",
              "    </tr>\n",
              "  </tbody>\n",
              "</table>\n",
              "</div>"
            ],
            "text/plain": [
              "        Date  Industrial_Production  Year  Week  Day  WeekDay\n",
              "0 2013-01-01             102.324096  2013     1    1        1\n",
              "1 2013-01-02             102.332340  2013     1    2        2\n",
              "2 2013-01-03             102.263736  2013     1    3        3\n",
              "3 2013-01-04             102.243261  2013     1    4        4\n",
              "4 2013-01-05             102.340215  2013     1    5        5"
            ]
          },
          "metadata": {
            "tags": []
          },
          "execution_count": 22
        }
      ]
    },
    {
      "cell_type": "code",
      "metadata": {
        "colab": {
          "base_uri": "https://localhost:8080/",
          "height": 195
        },
        "id": "MetAXKBTejln",
        "outputId": "941524f0-3a9c-48c4-87d4-fb262e9eb508"
      },
      "source": [
        "df.tail()"
      ],
      "execution_count": 23,
      "outputs": [
        {
          "output_type": "execute_result",
          "data": {
            "text/html": [
              "<div>\n",
              "<style scoped>\n",
              "    .dataframe tbody tr th:only-of-type {\n",
              "        vertical-align: middle;\n",
              "    }\n",
              "\n",
              "    .dataframe tbody tr th {\n",
              "        vertical-align: top;\n",
              "    }\n",
              "\n",
              "    .dataframe thead th {\n",
              "        text-align: right;\n",
              "    }\n",
              "</style>\n",
              "<table border=\"1\" class=\"dataframe\">\n",
              "  <thead>\n",
              "    <tr style=\"text-align: right;\">\n",
              "      <th></th>\n",
              "      <th>Date</th>\n",
              "      <th>Industrial_Production</th>\n",
              "      <th>Year</th>\n",
              "      <th>Week</th>\n",
              "      <th>Day</th>\n",
              "      <th>WeekDay</th>\n",
              "    </tr>\n",
              "  </thead>\n",
              "  <tbody>\n",
              "    <tr>\n",
              "      <th>2458</th>\n",
              "      <td>2019-09-25</td>\n",
              "      <td>89.136695</td>\n",
              "      <td>2019</td>\n",
              "      <td>39</td>\n",
              "      <td>25</td>\n",
              "      <td>2</td>\n",
              "    </tr>\n",
              "    <tr>\n",
              "      <th>2459</th>\n",
              "      <td>2019-09-26</td>\n",
              "      <td>88.435944</td>\n",
              "      <td>2019</td>\n",
              "      <td>39</td>\n",
              "      <td>26</td>\n",
              "      <td>3</td>\n",
              "    </tr>\n",
              "    <tr>\n",
              "      <th>2460</th>\n",
              "      <td>2019-09-27</td>\n",
              "      <td>91.612173</td>\n",
              "      <td>2019</td>\n",
              "      <td>39</td>\n",
              "      <td>27</td>\n",
              "      <td>4</td>\n",
              "    </tr>\n",
              "    <tr>\n",
              "      <th>2461</th>\n",
              "      <td>2019-09-28</td>\n",
              "      <td>88.367579</td>\n",
              "      <td>2019</td>\n",
              "      <td>39</td>\n",
              "      <td>28</td>\n",
              "      <td>5</td>\n",
              "    </tr>\n",
              "    <tr>\n",
              "      <th>2462</th>\n",
              "      <td>2019-09-29</td>\n",
              "      <td>88.642864</td>\n",
              "      <td>2019</td>\n",
              "      <td>39</td>\n",
              "      <td>29</td>\n",
              "      <td>6</td>\n",
              "    </tr>\n",
              "  </tbody>\n",
              "</table>\n",
              "</div>"
            ],
            "text/plain": [
              "           Date  Industrial_Production  Year  Week  Day  WeekDay\n",
              "2458 2019-09-25              89.136695  2019    39   25        2\n",
              "2459 2019-09-26              88.435944  2019    39   26        3\n",
              "2460 2019-09-27              91.612173  2019    39   27        4\n",
              "2461 2019-09-28              88.367579  2019    39   28        5\n",
              "2462 2019-09-29              88.642864  2019    39   29        6"
            ]
          },
          "metadata": {
            "tags": []
          },
          "execution_count": 23
        }
      ]
    },
    {
      "cell_type": "code",
      "metadata": {
        "id": "YM-hZTGdeljA"
      },
      "source": [
        "from sklearn.neighbors import KNeighborsRegressor\n",
        "from sklearn.linear_model import LinearRegression\n",
        "from sklearn.ensemble import RandomForestRegressor\n",
        "from sklearn.linear_model import Lasso\n",
        "from sklearn.linear_model import ElasticNet\n",
        "from sklearn.tree import DecisionTreeRegressor\n",
        "from sklearn.neighbors import KNeighborsRegressor\n",
        "from sklearn.ensemble import GradientBoostingRegressor\n",
        "from sklearn.metrics import r2_score"
      ],
      "execution_count": 24,
      "outputs": []
    },
    {
      "cell_type": "code",
      "metadata": {
        "id": "oHyC4gHaeqok"
      },
      "source": [
        "from sklearn.model_selection import train_test_split\n",
        "predictors=df.drop(['Industrial_Production', 'Date'],axis=1)\n",
        "target=df['Industrial_Production']\n",
        "x_train,x_test,y_train,y_test=train_test_split(predictors,target,test_size=0.2,random_state=7)"
      ],
      "execution_count": 25,
      "outputs": []
    },
    {
      "cell_type": "code",
      "metadata": {
        "id": "TI9dsAYyhUjv"
      },
      "source": [
        "import numpy as np\n",
        "import pandas as pd\n",
        "import datetime as dt\n",
        "\n",
        "def scores(i):\n",
        "    lin = i()\n",
        "    lin.fit(x_train, y_train)\n",
        "    y_pred=lin.predict(x_test)\n",
        "    lin_r= r2_score(y_test, y_pred)\n",
        "    s.append(lin_r)\n",
        "#Checking the scores by using our function\n",
        "algos=[LinearRegression,KNeighborsRegressor,RandomForestRegressor,Lasso,ElasticNet,DecisionTreeRegressor]\n",
        "s=[]\n",
        "for i in algos:\n",
        "  scores(i)"
      ],
      "execution_count": 26,
      "outputs": []
    },
    {
      "cell_type": "code",
      "metadata": {
        "colab": {
          "base_uri": "https://localhost:8080/",
          "height": 195
        },
        "id": "Gv0z-Vg3qPRj",
        "outputId": "43563d97-17f0-4cef-fd33-163602ba407f"
      },
      "source": [
        "#Checking the score\n",
        "models = pd.DataFrame({\n",
        "    'Method': ['LinearRegression', 'KNeighborsRegressor', \n",
        "              'RandomForestRegressor', 'Lasso','DecisionTreeRegressor'],\n",
        "    'Score': [s[0],s[1],s[2],s[3],s[4]]})\n",
        "models.sort_values(by='Score', ascending=False)"
      ],
      "execution_count": 27,
      "outputs": [
        {
          "output_type": "execute_result",
          "data": {
            "text/html": [
              "<div>\n",
              "<style scoped>\n",
              "    .dataframe tbody tr th:only-of-type {\n",
              "        vertical-align: middle;\n",
              "    }\n",
              "\n",
              "    .dataframe tbody tr th {\n",
              "        vertical-align: top;\n",
              "    }\n",
              "\n",
              "    .dataframe thead th {\n",
              "        text-align: right;\n",
              "    }\n",
              "</style>\n",
              "<table border=\"1\" class=\"dataframe\">\n",
              "  <thead>\n",
              "    <tr style=\"text-align: right;\">\n",
              "      <th></th>\n",
              "      <th>Method</th>\n",
              "      <th>Score</th>\n",
              "    </tr>\n",
              "  </thead>\n",
              "  <tbody>\n",
              "    <tr>\n",
              "      <th>2</th>\n",
              "      <td>RandomForestRegressor</td>\n",
              "      <td>0.918479</td>\n",
              "    </tr>\n",
              "    <tr>\n",
              "      <th>0</th>\n",
              "      <td>LinearRegression</td>\n",
              "      <td>0.293357</td>\n",
              "    </tr>\n",
              "    <tr>\n",
              "      <th>1</th>\n",
              "      <td>KNeighborsRegressor</td>\n",
              "      <td>0.277252</td>\n",
              "    </tr>\n",
              "    <tr>\n",
              "      <th>4</th>\n",
              "      <td>DecisionTreeRegressor</td>\n",
              "      <td>0.266036</td>\n",
              "    </tr>\n",
              "    <tr>\n",
              "      <th>3</th>\n",
              "      <td>Lasso</td>\n",
              "      <td>0.259563</td>\n",
              "    </tr>\n",
              "  </tbody>\n",
              "</table>\n",
              "</div>"
            ],
            "text/plain": [
              "                  Method     Score\n",
              "2  RandomForestRegressor  0.918479\n",
              "0       LinearRegression  0.293357\n",
              "1    KNeighborsRegressor  0.277252\n",
              "4  DecisionTreeRegressor  0.266036\n",
              "3                  Lasso  0.259563"
            ]
          },
          "metadata": {
            "tags": []
          },
          "execution_count": 27
        }
      ]
    },
    {
      "cell_type": "code",
      "metadata": {
        "id": "pzLqMSIZfRLQ"
      },
      "source": [
        "#Hypertuned Model\n",
        "model = RandomForestRegressor(oob_score = True,n_jobs =3,random_state =7,\n",
        "                              max_features = \"auto\", min_samples_leaf =4)"
      ],
      "execution_count": 28,
      "outputs": []
    },
    {
      "cell_type": "code",
      "metadata": {
        "colab": {
          "base_uri": "https://localhost:8080/"
        },
        "id": "ZAVOvRfbfkRF",
        "outputId": "a7e0aeb8-7fbb-4a63-c7bf-6a581110d1bd"
      },
      "source": [
        "model.fit(x_train,y_train)\n"
      ],
      "execution_count": 29,
      "outputs": [
        {
          "output_type": "execute_result",
          "data": {
            "text/plain": [
              "RandomForestRegressor(bootstrap=True, ccp_alpha=0.0, criterion='mse',\n",
              "                      max_depth=None, max_features='auto', max_leaf_nodes=None,\n",
              "                      max_samples=None, min_impurity_decrease=0.0,\n",
              "                      min_impurity_split=None, min_samples_leaf=4,\n",
              "                      min_samples_split=2, min_weight_fraction_leaf=0.0,\n",
              "                      n_estimators=100, n_jobs=3, oob_score=True,\n",
              "                      random_state=7, verbose=0, warm_start=False)"
            ]
          },
          "metadata": {
            "tags": []
          },
          "execution_count": 29
        }
      ]
    },
    {
      "cell_type": "code",
      "metadata": {
        "id": "qLvSXW_Qlz-F"
      },
      "source": [
        "pred = model.predict(x_test)"
      ],
      "execution_count": 30,
      "outputs": []
    },
    {
      "cell_type": "code",
      "metadata": {
        "colab": {
          "base_uri": "https://localhost:8080/"
        },
        "id": "uBrHYDCmfmTc",
        "outputId": "1860099b-a73c-489f-ec68-0203c1af0df2"
      },
      "source": [
        "#R2 Score\n",
        "r2_score(pred,y_test)"
      ],
      "execution_count": 31,
      "outputs": [
        {
          "output_type": "execute_result",
          "data": {
            "text/plain": [
              "0.8890151800266622"
            ]
          },
          "metadata": {
            "tags": []
          },
          "execution_count": 31
        }
      ]
    },
    {
      "cell_type": "code",
      "metadata": {
        "id": "sMR1beKIfqkV"
      },
      "source": [
        "import numpy as np\n",
        "\n",
        "def mean_percentage_error(y_test, pred): \n",
        "    y_test, pred = np.array(y_test), np.array(pred)\n",
        "    return np.mean(np.array((y_test - pred) / y_test)) * 100"
      ],
      "execution_count": 32,
      "outputs": []
    },
    {
      "cell_type": "code",
      "metadata": {
        "colab": {
          "base_uri": "https://localhost:8080/"
        },
        "id": "F5U-4iEmmKsn",
        "outputId": "47b46d13-3ee9-4c9d-f148-17e4cda68760"
      },
      "source": [
        "mean_percentage_error(y_test, pred)\n"
      ],
      "execution_count": 33,
      "outputs": [
        {
          "output_type": "execute_result",
          "data": {
            "text/plain": [
              "-0.144078053092693"
            ]
          },
          "metadata": {
            "tags": []
          },
          "execution_count": 33
        }
      ]
    },
    {
      "cell_type": "code",
      "metadata": {
        "colab": {
          "base_uri": "https://localhost:8080/",
          "height": 195
        },
        "id": "izYO4xQMmQIL",
        "outputId": "30488307-fb47-4ba9-c8eb-56283b964019"
      },
      "source": [
        "df.head()\n"
      ],
      "execution_count": 34,
      "outputs": [
        {
          "output_type": "execute_result",
          "data": {
            "text/html": [
              "<div>\n",
              "<style scoped>\n",
              "    .dataframe tbody tr th:only-of-type {\n",
              "        vertical-align: middle;\n",
              "    }\n",
              "\n",
              "    .dataframe tbody tr th {\n",
              "        vertical-align: top;\n",
              "    }\n",
              "\n",
              "    .dataframe thead th {\n",
              "        text-align: right;\n",
              "    }\n",
              "</style>\n",
              "<table border=\"1\" class=\"dataframe\">\n",
              "  <thead>\n",
              "    <tr style=\"text-align: right;\">\n",
              "      <th></th>\n",
              "      <th>Date</th>\n",
              "      <th>Industrial_Production</th>\n",
              "      <th>Year</th>\n",
              "      <th>Week</th>\n",
              "      <th>Day</th>\n",
              "      <th>WeekDay</th>\n",
              "    </tr>\n",
              "  </thead>\n",
              "  <tbody>\n",
              "    <tr>\n",
              "      <th>0</th>\n",
              "      <td>2013-01-01</td>\n",
              "      <td>102.324096</td>\n",
              "      <td>2013</td>\n",
              "      <td>1</td>\n",
              "      <td>1</td>\n",
              "      <td>1</td>\n",
              "    </tr>\n",
              "    <tr>\n",
              "      <th>1</th>\n",
              "      <td>2013-01-02</td>\n",
              "      <td>102.332340</td>\n",
              "      <td>2013</td>\n",
              "      <td>1</td>\n",
              "      <td>2</td>\n",
              "      <td>2</td>\n",
              "    </tr>\n",
              "    <tr>\n",
              "      <th>2</th>\n",
              "      <td>2013-01-03</td>\n",
              "      <td>102.263736</td>\n",
              "      <td>2013</td>\n",
              "      <td>1</td>\n",
              "      <td>3</td>\n",
              "      <td>3</td>\n",
              "    </tr>\n",
              "    <tr>\n",
              "      <th>3</th>\n",
              "      <td>2013-01-04</td>\n",
              "      <td>102.243261</td>\n",
              "      <td>2013</td>\n",
              "      <td>1</td>\n",
              "      <td>4</td>\n",
              "      <td>4</td>\n",
              "    </tr>\n",
              "    <tr>\n",
              "      <th>4</th>\n",
              "      <td>2013-01-05</td>\n",
              "      <td>102.340215</td>\n",
              "      <td>2013</td>\n",
              "      <td>1</td>\n",
              "      <td>5</td>\n",
              "      <td>5</td>\n",
              "    </tr>\n",
              "  </tbody>\n",
              "</table>\n",
              "</div>"
            ],
            "text/plain": [
              "        Date  Industrial_Production  Year  Week  Day  WeekDay\n",
              "0 2013-01-01             102.324096  2013     1    1        1\n",
              "1 2013-01-02             102.332340  2013     1    2        2\n",
              "2 2013-01-03             102.263736  2013     1    3        3\n",
              "3 2013-01-04             102.243261  2013     1    4        4\n",
              "4 2013-01-05             102.340215  2013     1    5        5"
            ]
          },
          "metadata": {
            "tags": []
          },
          "execution_count": 34
        }
      ]
    },
    {
      "cell_type": "code",
      "metadata": {
        "id": "YcmFd1oxmUyE"
      },
      "source": [
        "test1=test.drop(['Sold_Units', 'Date'],axis=1)\n"
      ],
      "execution_count": 35,
      "outputs": []
    },
    {
      "cell_type": "code",
      "metadata": {
        "id": "l7h2KA_1mnMh"
      },
      "source": [
        "pred2 = model.predict(test1)"
      ],
      "execution_count": 36,
      "outputs": []
    },
    {
      "cell_type": "code",
      "metadata": {
        "id": "2fjy5JuSmrpX"
      },
      "source": [
        "test['Sold_Units']=pred2.round(0)"
      ],
      "execution_count": 37,
      "outputs": []
    },
    {
      "cell_type": "code",
      "metadata": {
        "colab": {
          "base_uri": "https://localhost:8080/",
          "height": 195
        },
        "id": "mvwML_janMtm",
        "outputId": "9567c944-dad1-4e2d-ad56-85d73f82b15e"
      },
      "source": [
        "test.head()\n"
      ],
      "execution_count": 38,
      "outputs": [
        {
          "output_type": "execute_result",
          "data": {
            "text/html": [
              "<div>\n",
              "<style scoped>\n",
              "    .dataframe tbody tr th:only-of-type {\n",
              "        vertical-align: middle;\n",
              "    }\n",
              "\n",
              "    .dataframe tbody tr th {\n",
              "        vertical-align: top;\n",
              "    }\n",
              "\n",
              "    .dataframe thead th {\n",
              "        text-align: right;\n",
              "    }\n",
              "</style>\n",
              "<table border=\"1\" class=\"dataframe\">\n",
              "  <thead>\n",
              "    <tr style=\"text-align: right;\">\n",
              "      <th></th>\n",
              "      <th>Date</th>\n",
              "      <th>Sold_Units</th>\n",
              "      <th>Year</th>\n",
              "      <th>Week</th>\n",
              "      <th>Day</th>\n",
              "      <th>WeekDay</th>\n",
              "    </tr>\n",
              "  </thead>\n",
              "  <tbody>\n",
              "    <tr>\n",
              "      <th>0</th>\n",
              "      <td>2019-09-30</td>\n",
              "      <td>89.0</td>\n",
              "      <td>2019</td>\n",
              "      <td>40</td>\n",
              "      <td>30</td>\n",
              "      <td>0</td>\n",
              "    </tr>\n",
              "    <tr>\n",
              "      <th>1</th>\n",
              "      <td>2019-10-01</td>\n",
              "      <td>89.0</td>\n",
              "      <td>2019</td>\n",
              "      <td>40</td>\n",
              "      <td>1</td>\n",
              "      <td>1</td>\n",
              "    </tr>\n",
              "    <tr>\n",
              "      <th>2</th>\n",
              "      <td>2019-10-02</td>\n",
              "      <td>90.0</td>\n",
              "      <td>2019</td>\n",
              "      <td>40</td>\n",
              "      <td>2</td>\n",
              "      <td>2</td>\n",
              "    </tr>\n",
              "    <tr>\n",
              "      <th>3</th>\n",
              "      <td>2019-10-03</td>\n",
              "      <td>90.0</td>\n",
              "      <td>2019</td>\n",
              "      <td>40</td>\n",
              "      <td>3</td>\n",
              "      <td>3</td>\n",
              "    </tr>\n",
              "    <tr>\n",
              "      <th>4</th>\n",
              "      <td>2019-10-04</td>\n",
              "      <td>90.0</td>\n",
              "      <td>2019</td>\n",
              "      <td>40</td>\n",
              "      <td>4</td>\n",
              "      <td>4</td>\n",
              "    </tr>\n",
              "  </tbody>\n",
              "</table>\n",
              "</div>"
            ],
            "text/plain": [
              "        Date  Sold_Units  Year  Week  Day  WeekDay\n",
              "0 2019-09-30        89.0  2019    40   30        0\n",
              "1 2019-10-01        89.0  2019    40    1        1\n",
              "2 2019-10-02        90.0  2019    40    2        2\n",
              "3 2019-10-03        90.0  2019    40    3        3\n",
              "4 2019-10-04        90.0  2019    40    4        4"
            ]
          },
          "metadata": {
            "tags": []
          },
          "execution_count": 38
        }
      ]
    },
    {
      "cell_type": "code",
      "metadata": {
        "id": "Wa7EbhgGnPHx"
      },
      "source": [
        "result=test[['Date','Sold_Units']]\n"
      ],
      "execution_count": 39,
      "outputs": []
    },
    {
      "cell_type": "code",
      "metadata": {
        "colab": {
          "base_uri": "https://localhost:8080/",
          "height": 195
        },
        "id": "LH5iUd5Gna5B",
        "outputId": "b5c7e84d-8221-4b47-992b-e0acf786488c"
      },
      "source": [
        "result.head()"
      ],
      "execution_count": 40,
      "outputs": [
        {
          "output_type": "execute_result",
          "data": {
            "text/html": [
              "<div>\n",
              "<style scoped>\n",
              "    .dataframe tbody tr th:only-of-type {\n",
              "        vertical-align: middle;\n",
              "    }\n",
              "\n",
              "    .dataframe tbody tr th {\n",
              "        vertical-align: top;\n",
              "    }\n",
              "\n",
              "    .dataframe thead th {\n",
              "        text-align: right;\n",
              "    }\n",
              "</style>\n",
              "<table border=\"1\" class=\"dataframe\">\n",
              "  <thead>\n",
              "    <tr style=\"text-align: right;\">\n",
              "      <th></th>\n",
              "      <th>Date</th>\n",
              "      <th>Sold_Units</th>\n",
              "    </tr>\n",
              "  </thead>\n",
              "  <tbody>\n",
              "    <tr>\n",
              "      <th>0</th>\n",
              "      <td>2019-09-30</td>\n",
              "      <td>89.0</td>\n",
              "    </tr>\n",
              "    <tr>\n",
              "      <th>1</th>\n",
              "      <td>2019-10-01</td>\n",
              "      <td>89.0</td>\n",
              "    </tr>\n",
              "    <tr>\n",
              "      <th>2</th>\n",
              "      <td>2019-10-02</td>\n",
              "      <td>90.0</td>\n",
              "    </tr>\n",
              "    <tr>\n",
              "      <th>3</th>\n",
              "      <td>2019-10-03</td>\n",
              "      <td>90.0</td>\n",
              "    </tr>\n",
              "    <tr>\n",
              "      <th>4</th>\n",
              "      <td>2019-10-04</td>\n",
              "      <td>90.0</td>\n",
              "    </tr>\n",
              "  </tbody>\n",
              "</table>\n",
              "</div>"
            ],
            "text/plain": [
              "        Date  Sold_Units\n",
              "0 2019-09-30        89.0\n",
              "1 2019-10-01        89.0\n",
              "2 2019-10-02        90.0\n",
              "3 2019-10-03        90.0\n",
              "4 2019-10-04        90.0"
            ]
          },
          "metadata": {
            "tags": []
          },
          "execution_count": 40
        }
      ]
    },
    {
      "cell_type": "code",
      "metadata": {
        "id": "PoYc5xEUndUc"
      },
      "source": [
        "#result['Retail_Sales (in USD)'] = result['Sold_Units']* 150"
      ],
      "execution_count": 41,
      "outputs": []
    },
    {
      "cell_type": "code",
      "metadata": {
        "colab": {
          "base_uri": "https://localhost:8080/",
          "height": 195
        },
        "id": "IhVN7aHr2bK0",
        "outputId": "ddfacae7-af23-40e0-d685-89b8c5c82e2a"
      },
      "source": [
        "result.head()"
      ],
      "execution_count": 42,
      "outputs": [
        {
          "output_type": "execute_result",
          "data": {
            "text/html": [
              "<div>\n",
              "<style scoped>\n",
              "    .dataframe tbody tr th:only-of-type {\n",
              "        vertical-align: middle;\n",
              "    }\n",
              "\n",
              "    .dataframe tbody tr th {\n",
              "        vertical-align: top;\n",
              "    }\n",
              "\n",
              "    .dataframe thead th {\n",
              "        text-align: right;\n",
              "    }\n",
              "</style>\n",
              "<table border=\"1\" class=\"dataframe\">\n",
              "  <thead>\n",
              "    <tr style=\"text-align: right;\">\n",
              "      <th></th>\n",
              "      <th>Date</th>\n",
              "      <th>Sold_Units</th>\n",
              "    </tr>\n",
              "  </thead>\n",
              "  <tbody>\n",
              "    <tr>\n",
              "      <th>0</th>\n",
              "      <td>2019-09-30</td>\n",
              "      <td>89.0</td>\n",
              "    </tr>\n",
              "    <tr>\n",
              "      <th>1</th>\n",
              "      <td>2019-10-01</td>\n",
              "      <td>89.0</td>\n",
              "    </tr>\n",
              "    <tr>\n",
              "      <th>2</th>\n",
              "      <td>2019-10-02</td>\n",
              "      <td>90.0</td>\n",
              "    </tr>\n",
              "    <tr>\n",
              "      <th>3</th>\n",
              "      <td>2019-10-03</td>\n",
              "      <td>90.0</td>\n",
              "    </tr>\n",
              "    <tr>\n",
              "      <th>4</th>\n",
              "      <td>2019-10-04</td>\n",
              "      <td>90.0</td>\n",
              "    </tr>\n",
              "  </tbody>\n",
              "</table>\n",
              "</div>"
            ],
            "text/plain": [
              "        Date  Sold_Units\n",
              "0 2019-09-30        89.0\n",
              "1 2019-10-01        89.0\n",
              "2 2019-10-02        90.0\n",
              "3 2019-10-03        90.0\n",
              "4 2019-10-04        90.0"
            ]
          },
          "metadata": {
            "tags": []
          },
          "execution_count": 42
        }
      ]
    },
    {
      "cell_type": "code",
      "metadata": {
        "colab": {
          "base_uri": "https://localhost:8080/",
          "height": 195
        },
        "id": "7YcGJgBo2el9",
        "outputId": "29faa274-a799-41d9-c66b-014c819919f8"
      },
      "source": [
        "result.tail()"
      ],
      "execution_count": 43,
      "outputs": [
        {
          "output_type": "execute_result",
          "data": {
            "text/html": [
              "<div>\n",
              "<style scoped>\n",
              "    .dataframe tbody tr th:only-of-type {\n",
              "        vertical-align: middle;\n",
              "    }\n",
              "\n",
              "    .dataframe tbody tr th {\n",
              "        vertical-align: top;\n",
              "    }\n",
              "\n",
              "    .dataframe thead th {\n",
              "        text-align: right;\n",
              "    }\n",
              "</style>\n",
              "<table border=\"1\" class=\"dataframe\">\n",
              "  <thead>\n",
              "    <tr style=\"text-align: right;\">\n",
              "      <th></th>\n",
              "      <th>Date</th>\n",
              "      <th>Sold_Units</th>\n",
              "    </tr>\n",
              "  </thead>\n",
              "  <tbody>\n",
              "    <tr>\n",
              "      <th>666</th>\n",
              "      <td>2021-07-27</td>\n",
              "      <td>91.0</td>\n",
              "    </tr>\n",
              "    <tr>\n",
              "      <th>667</th>\n",
              "      <td>2021-07-28</td>\n",
              "      <td>90.0</td>\n",
              "    </tr>\n",
              "    <tr>\n",
              "      <th>668</th>\n",
              "      <td>2021-07-29</td>\n",
              "      <td>88.0</td>\n",
              "    </tr>\n",
              "    <tr>\n",
              "      <th>669</th>\n",
              "      <td>2021-07-30</td>\n",
              "      <td>89.0</td>\n",
              "    </tr>\n",
              "    <tr>\n",
              "      <th>670</th>\n",
              "      <td>2021-07-31</td>\n",
              "      <td>89.0</td>\n",
              "    </tr>\n",
              "  </tbody>\n",
              "</table>\n",
              "</div>"
            ],
            "text/plain": [
              "          Date  Sold_Units\n",
              "666 2021-07-27        91.0\n",
              "667 2021-07-28        90.0\n",
              "668 2021-07-29        88.0\n",
              "669 2021-07-30        89.0\n",
              "670 2021-07-31        89.0"
            ]
          },
          "metadata": {
            "tags": []
          },
          "execution_count": 43
        }
      ]
    },
    {
      "cell_type": "code",
      "metadata": {
        "colab": {
          "base_uri": "https://localhost:8080/",
          "height": 715
        },
        "id": "Kzew9lhh8dIr",
        "outputId": "49870075-f935-498e-8c8e-65dc3ab9ef6b"
      },
      "source": [
        "sns.lineplot(result['Date'], result['Sold_Units'])"
      ],
      "execution_count": 44,
      "outputs": [
        {
          "output_type": "stream",
          "text": [
            "/usr/local/lib/python3.7/dist-packages/seaborn/_decorators.py:43: FutureWarning:\n",
            "\n",
            "Pass the following variables as keyword args: x, y. From version 0.12, the only valid positional argument will be `data`, and passing other arguments without an explicit keyword will result in an error or misinterpretation.\n",
            "\n"
          ],
          "name": "stderr"
        },
        {
          "output_type": "execute_result",
          "data": {
            "text/plain": [
              "<matplotlib.axes._subplots.AxesSubplot at 0x7f9aea77ca50>"
            ]
          },
          "metadata": {
            "tags": []
          },
          "execution_count": 44
        },
        {
          "output_type": "display_data",
          "data": {
            "image/png": "[encoded data removed]",
            "text/plain": [
              "<Figure size 1202.4x720 with 1 Axes>"
            ]
          },
          "metadata": {
            "tags": []
          }
        }
      ]
    },
    {
      "cell_type": "code",
      "metadata": {
        "colab": {
          "base_uri": "https://localhost:8080/",
          "height": 542
        },
        "id": "GGhKwBumSKTW",
        "outputId": "1049c66f-b48e-4382-ecc9-0baa51749ed8"
      },
      "source": [
        "import plotly.graph_objects as go\n",
        "from plotly.subplots import make_subplots\n",
        "import plotly.express as px\n",
        "\n",
        "figd = make_subplots(specs=[[{\"secondary_y\": True}]])\n",
        "\n",
        "figd.add_trace(go.Scatter(x=result['Date'], y=result['Sold_Units'], name=\"Per Day Industrial Production Rate\"),secondary_y=True)\n",
        "\n",
        "figd.update_layout(title_text=\"Industrial Production Rate\")\n",
        "\n",
        "figd.update_xaxes(title_text=\"Date\")\n",
        "\n",
        "#figd.update_yaxes(title_text=\"Daily Recovered\", secondary_y=False)\n",
        "figd.update_yaxes(title_text=\"Sales\", secondary_y=False)\n",
        "\n",
        "'''fig1 = px.line(result, x=result['Date'], y=result['Retail_Sales (in USD)'], title='Sold Units')\n",
        "for ser in fig1['data']:\n",
        "    ser['text']=list(set([d.strftime('%Y-%m-%d') for d in result['Date']]))\n",
        "    ser['hovertemplate']='Date=%{text}<br>Sales=%{y}<extra></extra>' '''\n",
        "\n",
        "figd.show()"
      ],
      "execution_count": 45,
      "outputs": [
        {
          "output_type": "display_data",
          "data": {
            "text/html": [
              "<html>\n",
              "<head><meta charset=\"utf-8\" /></head>\n",
              "<body>\n",
              "    <div>\n",
              "            <script src=\"https://cdnjs.cloudflare.com/ajax/libs/mathjax/2.7.5/MathJax.js?config=TeX-AMS-MML_SVG\"></script><script type=\"text/javascript\">if (window.MathJax) {MathJax.Hub.Config({SVG: {font: \"STIX-Web\"}});}</script>\n",
              "                <script type=\"text/javascript\">window.PlotlyConfig = {MathJaxConfig: 'local'};</script>\n",
              "        <script src=\"https://cdn.plot.ly/plotly-latest.min.js\"></script>    \n",
              "            <div id=\"699a80b5-fda3-4df8-9921-0e7e715fcc29\" class=\"plotly-graph-div\" style=\"height:525px; width:100%;\"></div>\n",
              "            <script type=\"text/javascript\">\n",
              "                \n",
              "                    window.PLOTLYENV=window.PLOTLYENV || {};\n",
              "                    \n",
              "                if (document.getElementById(\"699a80b5-fda3-4df8-9921-0e7e715fcc29\")) {\n",
              "                    Plotly.newPlot(\n",
              "                        '699a80b5-fda3-4df8-9921-0e7e715fcc29',\n",
              "                        [{\"name\": \"Per Day Industrial Production Rate\", \"type\": \"scatter\", \"x\": [\"2019-09-30T00:00:00\", \"2019-10-01T00:00:00\", \"2019-10-02T00:00:00\", \"2019-10-03T00:00:00\", \"2019-10-04T00:00:00\", \"2019-10-05T00:00:00\", \"2019-10-06T00:00:00\", \"2019-10-07T00:00:00\", \"2019-10-08T00:00:00\", \"2019-10-09T00:00:00\", \"2019-10-10T00:00:00\", \"2019-10-11T00:00:00\", \"2019-10-12T00:00:00\", \"2019-10-13T00:00:00\", \"2019-10-14T00:00:00\", \"2019-10-15T00:00:00\", \"2019-10-16T00:00:00\", \"2019-10-17T00:00:00\", \"2019-10-18T00:00:00\", \"2019-10-19T00:00:00\", \"2019-10-20T00:00:00\", \"2019-10-21T00:00:00\", \"2019-10-22T00:00:00\", \"2019-10-23T00:00:00\", \"2019-10-24T00:00:00\", \"2019-10-25T00:00:00\", \"2019-10-26T00:00:00\", \"2019-10-27T00:00:00\", \"2019-10-28T00:00:00\", \"2019-10-29T00:00:00\", \"2019-10-30T00:00:00\", \"2019-10-31T00:00:00\", \"2019-11-01T00:00:00\", \"2019-11-02T00:00:00\", \"2019-11-03T00:00:00\", \"2019-11-04T00:00:00\", \"2019-11-05T00:00:00\", \"2019-11-06T00:00:00\", \"2019-11-07T00:00:00\", \"2019-11-08T00:00:00\", \"2019-11-09T00:00:00\", \"2019-11-10T00:00:00\", \"2019-11-11T00:00:00\", \"2019-11-12T00:00:00\", \"2019-11-13T00:00:00\", \"2019-11-14T00:00:00\", \"2019-11-15T00:00:00\", \"2019-11-16T00:00:00\", \"2019-11-17T00:00:00\", \"2019-11-18T00:00:00\", \"2019-11-19T00:00:00\", \"2019-11-20T00:00:00\", \"2019-11-21T00:00:00\", \"2019-11-22T00:00:00\", \"2019-11-23T00:00:00\", \"2019-11-24T00:00:00\", \"2019-11-25T00:00:00\", \"2019-11-26T00:00:00\", \"2019-11-27T00:00:00\", \"2019-11-28T00:00:00\", \"2019-11-29T00:00:00\", \"2019-11-30T00:00:00\", \"2019-12-01T00:00:00\", \"2019-12-02T00:00:00\", \"2019-12-03T00:00:00\", \"2019-12-04T00:00:00\", \"2019-12-05T00:00:00\", \"2019-12-06T00:00:00\", \"2019-12-07T00:00:00\", \"2019-12-08T00:00:00\", \"2019-12-09T00:00:00\", \"2019-12-10T00:00:00\", \"2019-12-11T00:00:00\", \"2019-12-12T00:00:00\", \"2019-12-13T00:00:00\", \"2019-12-14T00:00:00\", \"2019-12-15T00:00:00\", \"2019-12-16T00:00:00\", \"2019-12-17T00:00:00\", \"2019-12-18T00:00:00\", \"2019-12-19T00:00:00\", \"2019-12-20T00:00:00\", \"2019-12-21T00:00:00\", \"2019-12-22T00:00:00\", \"2019-12-23T00:00:00\", \"2019-12-24T00:00:00\", \"2019-12-25T00:00:00\", \"2019-12-26T00:00:00\", \"2019-12-27T00:00:00\", \"2019-12-28T00:00:00\", \"2019-12-29T00:00:00\", \"2019-12-30T00:00:00\", \"2019-12-31T00:00:00\", \"2020-01-01T00:00:00\", \"2020-01-02T00:00:00\", \"2020-01-03T00:00:00\", \"2020-01-04T00:00:00\", \"2020-01-05T00:00:00\", \"2020-01-06T00:00:00\", \"2020-01-07T00:00:00\", \"2020-01-08T00:00:00\", \"2020-01-09T00:00:00\", \"2020-01-10T00:00:00\", \"2020-01-11T00:00:00\", \"2020-01-12T00:00:00\", \"2020-01-13T00:00:00\", \"2020-01-14T00:00:00\", \"2020-01-15T00:00:00\", \"2020-01-16T00:00:00\", \"2020-01-17T00:00:00\", \"2020-01-18T00:00:00\", \"2020-01-19T00:00:00\", \"2020-01-20T00:00:00\", \"2020-01-21T00:00:00\", \"2020-01-22T00:00:00\", \"2020-01-23T00:00:00\", \"2020-01-24T00:00:00\", \"2020-01-25T00:00:00\", \"2020-01-26T00:00:00\", \"2020-01-27T00:00:00\", \"2020-01-28T00:00:00\", \"2020-01-29T00:00:00\", \"2020-01-30T00:00:00\", \"2020-01-31T00:00:00\", \"2020-02-01T00:00:00\", \"2020-02-02T00:00:00\", \"2020-02-03T00:00:00\", \"2020-02-04T00:00:00\", \"2020-02-05T00:00:00\", \"2020-02-06T00:00:00\", \"2020-02-07T00:00:00\", \"2020-02-08T00:00:00\", \"2020-02-09T00:00:00\", \"2020-02-10T00:00:00\", \"2020-02-11T00:00:00\", \"2020-02-12T00:00:00\", \"2020-02-13T00:00:00\", \"2020-02-14T00:00:00\", \"2020-02-15T00:00:00\", \"2020-02-16T00:00:00\", \"2020-02-17T00:00:00\", \"2020-02-18T00:00:00\", \"2020-02-19T00:00:00\", \"2020-02-20T00:00:00\", \"2020-02-21T00:00:00\", \"2020-02-22T00:00:00\", \"2020-02-23T00:00:00\", \"2020-02-24T00:00:00\", \"2020-02-25T00:00:00\", \"2020-02-26T00:00:00\", \"2020-02-27T00:00:00\", \"2020-02-28T00:00:00\", \"2020-02-29T00:00:00\", \"2020-03-01T00:00:00\", \"2020-03-02T00:00:00\", \"2020-03-03T00:00:00\", \"2020-03-04T00:00:00\", \"2020-03-05T00:00:00\", \"2020-03-06T00:00:00\", \"2020-03-07T00:00:00\", \"2020-03-08T00:00:00\", \"2020-03-09T00:00:00\", \"2020-03-10T00:00:00\", \"2020-03-11T00:00:00\", \"2020-03-12T00:00:00\", \"2020-03-13T00:00:00\", \"2020-03-14T00:00:00\", \"2020-03-15T00:00:00\", \"2020-03-16T00:00:00\", \"2020-03-17T00:00:00\", \"2020-03-18T00:00:00\", \"2020-03-19T00:00:00\", \"2020-03-20T00:00:00\", \"2020-03-21T00:00:00\", \"2020-03-22T00:00:00\", \"2020-03-23T00:00:00\", \"2020-03-24T00:00:00\", \"2020-03-25T00:00:00\", \"2020-03-26T00:00:00\", \"2020-03-27T00:00:00\", \"2020-03-28T00:00:00\", \"2020-03-29T00:00:00\", \"2020-03-30T00:00:00\", \"2020-03-31T00:00:00\", \"2020-04-01T00:00:00\", \"2020-04-02T00:00:00\", \"2020-04-03T00:00:00\", \"2020-04-04T00:00:00\", \"2020-04-05T00:00:00\", \"2020-04-06T00:00:00\", \"2020-04-07T00:00:00\", \"2020-04-08T00:00:00\", \"2020-04-09T00:00:00\", \"2020-04-10T00:00:00\", \"2020-04-11T00:00:00\", \"2020-04-12T00:00:00\", \"2020-04-13T00:00:00\", \"2020-04-14T00:00:00\", \"2020-04-15T00:00:00\", \"2020-04-16T00:00:00\", \"2020-04-17T00:00:00\", \"2020-04-18T00:00:00\", \"2020-04-19T00:00:00\", \"2020-04-20T00:00:00\", \"2020-04-21T00:00:00\", \"2020-04-22T00:00:00\", \"2020-04-23T00:00:00\", \"2020-04-24T00:00:00\", \"2020-04-25T00:00:00\", \"2020-04-26T00:00:00\", \"2020-04-27T00:00:00\", \"2020-04-28T00:00:00\", \"2020-04-29T00:00:00\", \"2020-04-30T00:00:00\", \"2020-05-01T00:00:00\", \"2020-05-02T00:00:00\", \"2020-05-03T00:00:00\", \"2020-05-04T00:00:00\", \"2020-05-05T00:00:00\", \"2020-05-06T00:00:00\", \"2020-05-07T00:00:00\", \"2020-05-08T00:00:00\", \"2020-05-09T00:00:00\", \"2020-05-10T00:00:00\", \"2020-05-11T00:00:00\", \"2020-05-12T00:00:00\", \"2020-05-13T00:00:00\", \"2020-05-14T00:00:00\", \"2020-05-15T00:00:00\", \"2020-05-16T00:00:00\", \"2020-05-17T00:00:00\", \"2020-05-18T00:00:00\", \"2020-05-19T00:00:00\", \"2020-05-20T00:00:00\", \"2020-05-21T00:00:00\", \"2020-05-22T00:00:00\", \"2020-05-23T00:00:00\", \"2020-05-24T00:00:00\", \"2020-05-25T00:00:00\", \"2020-05-26T00:00:00\", \"2020-05-27T00:00:00\", \"2020-05-28T00:00:00\", \"2020-05-29T00:00:00\", \"2020-05-30T00:00:00\", \"2020-05-31T00:00:00\", \"2020-06-01T00:00:00\", \"2020-06-02T00:00:00\", \"2020-06-03T00:00:00\", \"2020-06-04T00:00:00\", \"2020-06-05T00:00:00\", \"2020-06-06T00:00:00\", \"2020-06-07T00:00:00\", \"2020-06-08T00:00:00\", \"2020-06-09T00:00:00\", \"2020-06-10T00:00:00\", \"2020-06-11T00:00:00\", \"2020-06-12T00:00:00\", \"2020-06-13T00:00:00\", \"2020-06-14T00:00:00\", \"2020-06-15T00:00:00\", \"2020-06-16T00:00:00\", \"2020-06-17T00:00:00\", \"2020-06-18T00:00:00\", \"2020-06-19T00:00:00\", \"2020-06-20T00:00:00\", \"2020-06-21T00:00:00\", \"2020-06-22T00:00:00\", \"2020-06-23T00:00:00\", \"2020-06-24T00:00:00\", \"2020-06-25T00:00:00\", \"2020-06-26T00:00:00\", \"2020-06-27T00:00:00\", \"2020-06-28T00:00:00\", \"2020-06-29T00:00:00\", \"2020-06-30T00:00:00\", \"2020-07-01T00:00:00\", \"2020-07-02T00:00:00\", \"2020-07-03T00:00:00\", \"2020-07-04T00:00:00\", \"2020-07-05T00:00:00\", \"2020-07-06T00:00:00\", \"2020-07-07T00:00:00\", \"2020-07-08T00:00:00\", \"2020-07-09T00:00:00\", \"2020-07-10T00:00:00\", \"2020-07-11T00:00:00\", \"2020-07-12T00:00:00\", \"2020-07-13T00:00:00\", \"2020-07-14T00:00:00\", \"2020-07-15T00:00:00\", \"2020-07-16T00:00:00\", \"2020-07-17T00:00:00\", \"2020-07-18T00:00:00\", \"2020-07-19T00:00:00\", \"2020-07-20T00:00:00\", \"2020-07-21T00:00:00\", \"2020-07-22T00:00:00\", \"2020-07-23T00:00:00\", \"2020-07-24T00:00:00\", \"2020-07-25T00:00:00\", \"2020-07-26T00:00:00\", \"2020-07-27T00:00:00\", \"2020-07-28T00:00:00\", \"2020-07-29T00:00:00\", \"2020-07-30T00:00:00\", \"2020-07-31T00:00:00\", \"2020-08-01T00:00:00\", \"2020-08-02T00:00:00\", \"2020-08-03T00:00:00\", \"2020-08-04T00:00:00\", \"2020-08-05T00:00:00\", \"2020-08-06T00:00:00\", \"2020-08-07T00:00:00\", \"2020-08-08T00:00:00\", \"2020-08-09T00:00:00\", \"2020-08-10T00:00:00\", \"2020-08-11T00:00:00\", \"2020-08-12T00:00:00\", \"2020-08-13T00:00:00\", \"2020-08-14T00:00:00\", \"2020-08-15T00:00:00\", \"2020-08-16T00:00:00\", \"2020-08-17T00:00:00\", \"2020-08-18T00:00:00\", \"2020-08-19T00:00:00\", \"2020-08-20T00:00:00\", \"2020-08-21T00:00:00\", \"2020-08-22T00:00:00\", \"2020-08-23T00:00:00\", \"2020-08-24T00:00:00\", \"2020-08-25T00:00:00\", \"2020-08-26T00:00:00\", \"2020-08-27T00:00:00\", \"2020-08-28T00:00:00\", \"2020-08-29T00:00:00\", \"2020-08-30T00:00:00\", \"2020-08-31T00:00:00\", \"2020-09-01T00:00:00\", \"2020-09-02T00:00:00\", \"2020-09-03T00:00:00\", \"2020-09-04T00:00:00\", \"2020-09-05T00:00:00\", \"2020-09-06T00:00:00\", \"2020-09-07T00:00:00\", \"2020-09-08T00:00:00\", \"2020-09-09T00:00:00\", \"2020-09-10T00:00:00\", \"2020-09-11T00:00:00\", \"2020-09-12T00:00:00\", \"2020-09-13T00:00:00\", \"2020-09-14T00:00:00\", \"2020-09-15T00:00:00\", \"2020-09-16T00:00:00\", \"2020-09-17T00:00:00\", \"2020-09-18T00:00:00\", \"2020-09-19T00:00:00\", \"2020-09-20T00:00:00\", \"2020-09-21T00:00:00\", \"2020-09-22T00:00:00\", \"2020-09-23T00:00:00\", \"2020-09-24T00:00:00\", \"2020-09-25T00:00:00\", \"2020-09-26T00:00:00\", \"2020-09-27T00:00:00\", \"2020-09-28T00:00:00\", \"2020-09-29T00:00:00\", \"2020-09-30T00:00:00\", \"2020-10-01T00:00:00\", \"2020-10-02T00:00:00\", \"2020-10-03T00:00:00\", \"2020-10-04T00:00:00\", \"2020-10-05T00:00:00\", \"2020-10-06T00:00:00\", \"2020-10-07T00:00:00\", \"2020-10-08T00:00:00\", \"2020-10-09T00:00:00\", \"2020-10-10T00:00:00\", \"2020-10-11T00:00:00\", \"2020-10-12T00:00:00\", \"2020-10-13T00:00:00\", \"2020-10-14T00:00:00\", \"2020-10-15T00:00:00\", \"2020-10-16T00:00:00\", \"2020-10-17T00:00:00\", \"2020-10-18T00:00:00\", \"2020-10-19T00:00:00\", \"2020-10-20T00:00:00\", \"2020-10-21T00:00:00\", \"2020-10-22T00:00:00\", \"2020-10-23T00:00:00\", \"2020-10-24T00:00:00\", \"2020-10-25T00:00:00\", \"2020-10-26T00:00:00\", \"2020-10-27T00:00:00\", \"2020-10-28T00:00:00\", \"2020-10-29T00:00:00\", \"2020-10-30T00:00:00\", \"2020-10-31T00:00:00\", \"2020-11-01T00:00:00\", \"2020-11-02T00:00:00\", \"2020-11-03T00:00:00\", \"2020-11-04T00:00:00\", \"2020-11-05T00:00:00\", \"2020-11-06T00:00:00\", \"2020-11-07T00:00:00\", \"2020-11-08T00:00:00\", \"2020-11-09T00:00:00\", \"2020-11-10T00:00:00\", \"2020-11-11T00:00:00\", \"2020-11-12T00:00:00\", \"2020-11-13T00:00:00\", \"2020-11-14T00:00:00\", \"2020-11-15T00:00:00\", \"2020-11-16T00:00:00\", \"2020-11-17T00:00:00\", \"2020-11-18T00:00:00\", \"2020-11-19T00:00:00\", \"2020-11-20T00:00:00\", \"2020-11-21T00:00:00\", \"2020-11-22T00:00:00\", \"2020-11-23T00:00:00\", \"2020-11-24T00:00:00\", \"2020-11-25T00:00:00\", \"2020-11-26T00:00:00\", \"2020-11-27T00:00:00\", \"2020-11-28T00:00:00\", \"2020-11-29T00:00:00\", \"2020-11-30T00:00:00\", \"2020-12-01T00:00:00\", \"2020-12-02T00:00:00\", \"2020-12-03T00:00:00\", \"2020-12-04T00:00:00\", \"2020-12-05T00:00:00\", \"2020-12-06T00:00:00\", \"2020-12-07T00:00:00\", \"2020-12-08T00:00:00\", \"2020-12-09T00:00:00\", \"2020-12-10T00:00:00\", \"2020-12-11T00:00:00\", \"2020-12-12T00:00:00\", \"2020-12-13T00:00:00\", \"2020-12-14T00:00:00\", \"2020-12-15T00:00:00\", \"2020-12-16T00:00:00\", \"2020-12-17T00:00:00\", \"2020-12-18T00:00:00\", \"2020-12-19T00:00:00\", \"2020-12-20T00:00:00\", \"2020-12-21T00:00:00\", \"2020-12-22T00:00:00\", \"2020-12-23T00:00:00\", \"2020-12-24T00:00:00\", \"2020-12-25T00:00:00\", \"2020-12-26T00:00:00\", \"2020-12-27T00:00:00\", \"2020-12-28T00:00:00\", \"2020-12-29T00:00:00\", \"2020-12-30T00:00:00\", \"2020-12-31T00:00:00\", \"2021-01-01T00:00:00\", \"2021-01-02T00:00:00\", \"2021-01-03T00:00:00\", \"2021-01-04T00:00:00\", \"2021-01-05T00:00:00\", \"2021-01-06T00:00:00\", \"2021-01-07T00:00:00\", \"2021-01-08T00:00:00\", \"2021-01-09T00:00:00\", \"2021-01-10T00:00:00\", \"2021-01-11T00:00:00\", \"2021-01-12T00:00:00\", \"2021-01-13T00:00:00\", \"2021-01-14T00:00:00\", \"2021-01-15T00:00:00\", \"2021-01-16T00:00:00\", \"2021-01-17T00:00:00\", \"2021-01-18T00:00:00\", \"2021-01-19T00:00:00\", \"2021-01-20T00:00:00\", \"2021-01-21T00:00:00\", \"2021-01-22T00:00:00\", \"2021-01-23T00:00:00\", \"2021-01-24T00:00:00\", \"2021-01-25T00:00:00\", \"2021-01-26T00:00:00\", \"2021-01-27T00:00:00\", \"2021-01-28T00:00:00\", \"2021-01-29T00:00:00\", \"2021-01-30T00:00:00\", \"2021-01-31T00:00:00\", \"2021-02-01T00:00:00\", \"2021-02-02T00:00:00\", \"2021-02-03T00:00:00\", \"2021-02-04T00:00:00\", \"2021-02-05T00:00:00\", \"2021-02-06T00:00:00\", \"2021-02-07T00:00:00\", \"2021-02-08T00:00:00\", \"2021-02-09T00:00:00\", \"2021-02-10T00:00:00\", \"2021-02-11T00:00:00\", \"2021-02-12T00:00:00\", \"2021-02-13T00:00:00\", \"2021-02-14T00:00:00\", \"2021-02-15T00:00:00\", \"2021-02-16T00:00:00\", \"2021-02-17T00:00:00\", \"2021-02-18T00:00:00\", \"2021-02-19T00:00:00\", \"2021-02-20T00:00:00\", \"2021-02-21T00:00:00\", \"2021-02-22T00:00:00\", \"2021-02-23T00:00:00\", \"2021-02-24T00:00:00\", \"2021-02-25T00:00:00\", \"2021-02-26T00:00:00\", \"2021-02-27T00:00:00\", \"2021-02-28T00:00:00\", \"2021-03-01T00:00:00\", \"2021-03-02T00:00:00\", \"2021-03-03T00:00:00\", \"2021-03-04T00:00:00\", \"2021-03-05T00:00:00\", \"2021-03-06T00:00:00\", \"2021-03-07T00:00:00\", \"2021-03-08T00:00:00\", \"2021-03-09T00:00:00\", \"2021-03-10T00:00:00\", \"2021-03-11T00:00:00\", \"2021-03-12T00:00:00\", \"2021-03-13T00:00:00\", \"2021-03-14T00:00:00\", \"2021-03-15T00:00:00\", \"2021-03-16T00:00:00\", \"2021-03-17T00:00:00\", \"2021-03-18T00:00:00\", \"2021-03-19T00:00:00\", \"2021-03-20T00:00:00\", \"2021-03-21T00:00:00\", \"2021-03-22T00:00:00\", \"2021-03-23T00:00:00\", \"2021-03-24T00:00:00\", \"2021-03-25T00:00:00\", \"2021-03-26T00:00:00\", \"2021-03-27T00:00:00\", \"2021-03-28T00:00:00\", \"2021-03-29T00:00:00\", \"2021-03-30T00:00:00\", \"2021-03-31T00:00:00\", \"2021-04-01T00:00:00\", \"2021-04-02T00:00:00\", \"2021-04-03T00:00:00\", \"2021-04-04T00:00:00\", \"2021-04-05T00:00:00\", \"2021-04-06T00:00:00\", \"2021-04-07T00:00:00\", \"2021-04-08T00:00:00\", \"2021-04-09T00:00:00\", \"2021-04-10T00:00:00\", \"2021-04-11T00:00:00\", \"2021-04-12T00:00:00\", \"2021-04-13T00:00:00\", \"2021-04-14T00:00:00\", \"2021-04-15T00:00:00\", \"2021-04-16T00:00:00\", \"2021-04-17T00:00:00\", \"2021-04-18T00:00:00\", \"2021-04-19T00:00:00\", \"2021-04-20T00:00:00\", \"2021-04-21T00:00:00\", \"2021-04-22T00:00:00\", \"2021-04-23T00:00:00\", \"2021-04-24T00:00:00\", \"2021-04-25T00:00:00\", \"2021-04-26T00:00:00\", \"2021-04-27T00:00:00\", \"2021-04-28T00:00:00\", \"2021-04-29T00:00:00\", \"2021-04-30T00:00:00\", \"2021-05-01T00:00:00\", \"2021-05-02T00:00:00\", \"2021-05-03T00:00:00\", \"2021-05-04T00:00:00\", \"2021-05-05T00:00:00\", \"2021-05-06T00:00:00\", \"2021-05-07T00:00:00\", \"2021-05-08T00:00:00\", \"2021-05-09T00:00:00\", \"2021-05-10T00:00:00\", \"2021-05-11T00:00:00\", \"2021-05-12T00:00:00\", \"2021-05-13T00:00:00\", \"2021-05-14T00:00:00\", \"2021-05-15T00:00:00\", \"2021-05-16T00:00:00\", \"2021-05-17T00:00:00\", \"2021-05-18T00:00:00\", \"2021-05-19T00:00:00\", \"2021-05-20T00:00:00\", \"2021-05-21T00:00:00\", \"2021-05-22T00:00:00\", \"2021-05-23T00:00:00\", \"2021-05-24T00:00:00\", \"2021-05-25T00:00:00\", \"2021-05-26T00:00:00\", \"2021-05-27T00:00:00\", \"2021-05-28T00:00:00\", \"2021-05-29T00:00:00\", \"2021-05-30T00:00:00\", \"2021-05-31T00:00:00\", \"2021-06-01T00:00:00\", \"2021-06-02T00:00:00\", \"2021-06-03T00:00:00\", \"2021-06-04T00:00:00\", \"2021-06-05T00:00:00\", \"2021-06-06T00:00:00\", \"2021-06-07T00:00:00\", \"2021-06-08T00:00:00\", \"2021-06-09T00:00:00\", \"2021-06-10T00:00:00\", \"2021-06-11T00:00:00\", \"2021-06-12T00:00:00\", \"2021-06-13T00:00:00\", \"2021-06-14T00:00:00\", \"2021-06-15T00:00:00\", \"2021-06-16T00:00:00\", \"2021-06-17T00:00:00\", \"2021-06-18T00:00:00\", \"2021-06-19T00:00:00\", \"2021-06-20T00:00:00\", \"2021-06-21T00:00:00\", \"2021-06-22T00:00:00\", \"2021-06-23T00:00:00\", \"2021-06-24T00:00:00\", \"2021-06-25T00:00:00\", \"2021-06-26T00:00:00\", \"2021-06-27T00:00:00\", \"2021-06-28T00:00:00\", \"2021-06-29T00:00:00\", \"2021-06-30T00:00:00\", \"2021-07-01T00:00:00\", \"2021-07-02T00:00:00\", \"2021-07-03T00:00:00\", \"2021-07-04T00:00:00\", \"2021-07-05T00:00:00\", \"2021-07-06T00:00:00\", \"2021-07-07T00:00:00\", \"2021-07-08T00:00:00\", \"2021-07-09T00:00:00\", \"2021-07-10T00:00:00\", \"2021-07-11T00:00:00\", \"2021-07-12T00:00:00\", \"2021-07-13T00:00:00\", \"2021-07-14T00:00:00\", \"2021-07-15T00:00:00\", \"2021-07-16T00:00:00\", \"2021-07-17T00:00:00\", \"2021-07-18T00:00:00\", \"2021-07-19T00:00:00\", \"2021-07-20T00:00:00\", \"2021-07-21T00:00:00\", \"2021-07-22T00:00:00\", \"2021-07-23T00:00:00\", \"2021-07-24T00:00:00\", \"2021-07-25T00:00:00\", \"2021-07-26T00:00:00\", \"2021-07-27T00:00:00\", \"2021-07-28T00:00:00\", \"2021-07-29T00:00:00\", \"2021-07-30T00:00:00\", \"2021-07-31T00:00:00\"], \"xaxis\": \"x\", \"y\": [89.0, 89.0, 90.0, 90.0, 90.0, 90.0, 90.0, 89.0, 90.0, 90.0, 90.0, 89.0, 90.0, 90.0, 90.0, 90.0, 90.0, 90.0, 89.0, 89.0, 89.0, 90.0, 90.0, 90.0, 89.0, 89.0, 89.0, 90.0, 91.0, 89.0, 89.0, 89.0, 90.0, 90.0, 90.0, 89.0, 90.0, 90.0, 90.0, 89.0, 90.0, 90.0, 90.0, 90.0, 90.0, 91.0, 89.0, 89.0, 89.0, 90.0, 90.0, 90.0, 90.0, 89.0, 90.0, 89.0, 90.0, 90.0, 90.0, 90.0, 88.0, 89.0, 90.0, 89.0, 89.0, 90.0, 90.0, 90.0, 89.0, 90.0, 90.0, 90.0, 90.0, 90.0, 90.0, 90.0, 89.0, 89.0, 90.0, 90.0, 90.0, 89.0, 89.0, 90.0, 91.0, 90.0, 89.0, 89.0, 90.0, 90.0, 89.0, 97.0, 97.0, 98.0, 98.0, 98.0, 98.0, 97.0, 98.0, 98.0, 98.0, 98.0, 98.0, 98.0, 97.0, 97.0, 97.0, 96.0, 96.0, 95.0, 94.0, 95.0, 96.0, 96.0, 96.0, 97.0, 97.0, 97.0, 97.0, 97.0, 97.0, 97.0, 97.0, 97.0, 98.0, 98.0, 98.0, 98.0, 98.0, 98.0, 98.0, 97.0, 97.0, 97.0, 96.0, 95.0, 95.0, 95.0, 93.0, 93.0, 99.0, 99.0, 99.0, 100.0, 99.0, 98.0, 98.0, 98.0, 98.0, 98.0, 98.0, 98.0, 97.0, 97.0, 98.0, 97.0, 97.0, 97.0, 97.0, 97.0, 97.0, 97.0, 97.0, 97.0, 96.0, 96.0, 97.0, 97.0, 99.0, 98.0, 99.0, 99.0, 99.0, 99.0, 98.0, 98.0, 98.0, 98.0, 98.0, 98.0, 97.0, 97.0, 97.0, 97.0, 96.0, 96.0, 96.0, 96.0, 96.0, 92.0, 92.0, 93.0, 93.0, 93.0, 93.0, 93.0, 89.0, 89.0, 89.0, 89.0, 89.0, 89.0, 90.0, 89.0, 89.0, 89.0, 90.0, 89.0, 89.0, 89.0, 91.0, 91.0, 89.0, 89.0, 90.0, 90.0, 91.0, 89.0, 89.0, 90.0, 89.0, 89.0, 89.0, 90.0, 89.0, 89.0, 90.0, 90.0, 89.0, 89.0, 89.0, 89.0, 89.0, 89.0, 89.0, 89.0, 90.0, 89.0, 90.0, 90.0, 90.0, 90.0, 89.0, 89.0, 89.0, 89.0, 89.0, 89.0, 89.0, 90.0, 90.0, 89.0, 89.0, 89.0, 89.0, 89.0, 89.0, 89.0, 90.0, 89.0, 89.0, 89.0, 89.0, 89.0, 89.0, 90.0, 90.0, 91.0, 89.0, 89.0, 89.0, 90.0, 90.0, 89.0, 89.0, 89.0, 90.0, 90.0, 90.0, 90.0, 89.0, 89.0, 89.0, 90.0, 89.0, 89.0, 89.0, 89.0, 90.0, 89.0, 89.0, 89.0, 89.0, 89.0, 90.0, 90.0, 90.0, 90.0, 89.0, 89.0, 89.0, 91.0, 91.0, 88.0, 89.0, 89.0, 90.0, 90.0, 89.0, 89.0, 90.0, 90.0, 89.0, 89.0, 89.0, 90.0, 90.0, 90.0, 90.0, 90.0, 89.0, 89.0, 89.0, 90.0, 90.0, 89.0, 89.0, 89.0, 90.0, 90.0, 90.0, 89.0, 90.0, 90.0, 89.0, 89.0, 89.0, 89.0, 90.0, 90.0, 90.0, 90.0, 90.0, 89.0, 90.0, 90.0, 90.0, 89.0, 90.0, 90.0, 90.0, 90.0, 90.0, 90.0, 89.0, 89.0, 89.0, 90.0, 90.0, 90.0, 89.0, 89.0, 89.0, 90.0, 91.0, 89.0, 89.0, 90.0, 90.0, 90.0, 90.0, 89.0, 90.0, 90.0, 90.0, 90.0, 90.0, 90.0, 90.0, 90.0, 91.0, 90.0, 89.0, 89.0, 89.0, 90.0, 90.0, 90.0, 90.0, 90.0, 89.0, 89.0, 90.0, 91.0, 90.0, 88.0, 89.0, 89.0, 90.0, 89.0, 89.0, 90.0, 90.0, 90.0, 89.0, 90.0, 90.0, 90.0, 90.0, 90.0, 90.0, 90.0, 89.0, 89.0, 90.0, 90.0, 90.0, 89.0, 89.0, 90.0, 91.0, 90.0, 89.0, 89.0, 90.0, 90.0, 89.0, 89.0, 89.0, 90.0, 90.0, 90.0, 90.0, 90.0, 89.0, 90.0, 90.0, 90.0, 89.0, 90.0, 90.0, 90.0, 90.0, 90.0, 90.0, 89.0, 89.0, 89.0, 90.0, 90.0, 90.0, 89.0, 89.0, 89.0, 90.0, 91.0, 89.0, 89.0, 89.0, 90.0, 90.0, 90.0, 98.0, 98.0, 98.0, 98.0, 98.0, 97.0, 97.0, 98.0, 98.0, 97.0, 97.0, 95.0, 95.0, 94.0, 96.0, 96.0, 96.0, 96.0, 96.0, 96.0, 97.0, 97.0, 97.0, 97.0, 97.0, 97.0, 97.0, 97.0, 99.0, 98.0, 98.0, 98.0, 98.0, 97.0, 97.0, 98.0, 98.0, 98.0, 98.0, 97.0, 96.0, 96.0, 95.0, 94.0, 94.0, 95.0, 95.0, 94.0, 95.0, 99.0, 98.0, 98.0, 98.0, 98.0, 98.0, 98.0, 98.0, 98.0, 97.0, 97.0, 97.0, 97.0, 97.0, 97.0, 97.0, 97.0, 97.0, 96.0, 96.0, 97.0, 98.0, 98.0, 98.0, 99.0, 99.0, 98.0, 98.0, 99.0, 98.0, 98.0, 98.0, 98.0, 98.0, 98.0, 98.0, 97.0, 97.0, 97.0, 97.0, 97.0, 97.0, 97.0, 96.0, 96.0, 96.0, 96.0, 96.0, 96.0, 92.0, 92.0, 93.0, 93.0, 93.0, 92.0, 93.0, 89.0, 89.0, 89.0, 89.0, 90.0, 89.0, 89.0, 89.0, 91.0, 90.0, 88.0, 89.0, 90.0, 91.0, 89.0, 89.0, 90.0, 90.0, 90.0, 90.0, 90.0, 89.0, 89.0, 89.0, 90.0, 90.0, 89.0, 89.0, 89.0, 89.0, 89.0, 89.0, 89.0, 89.0, 90.0, 90.0, 89.0, 89.0, 90.0, 90.0, 89.0, 89.0, 89.0, 89.0, 89.0, 89.0, 90.0, 90.0, 90.0, 89.0, 89.0, 89.0, 89.0, 89.0, 89.0, 90.0, 89.0, 89.0, 89.0, 89.0, 89.0, 89.0, 89.0, 90.0, 90.0, 90.0, 89.0, 89.0, 89.0, 90.0, 91.0, 89.0, 89.0, 90.0, 90.0, 90.0, 90.0, 89.0, 89.0, 89.0, 89.0, 89.0, 89.0, 89.0, 89.0, 89.0, 90.0, 89.0, 89.0, 89.0, 89.0, 89.0, 89.0, 89.0, 89.0, 90.0, 89.0, 89.0, 90.0, 91.0, 90.0, 88.0, 89.0, 89.0], \"yaxis\": \"y2\"}],\n",
              "                        {\"template\": {\"data\": {\"bar\": [{\"error_x\": {\"color\": \"#2a3f5f\"}, \"error_y\": {\"color\": \"#2a3f5f\"}, \"marker\": {\"line\": {\"color\": \"#E5ECF6\", \"width\": 0.5}}, \"type\": \"bar\"}], \"barpolar\": [{\"marker\": {\"line\": {\"color\": \"#E5ECF6\", \"width\": 0.5}}, \"type\": \"barpolar\"}], \"carpet\": [{\"aaxis\": {\"endlinecolor\": \"#2a3f5f\", \"gridcolor\": \"white\", \"linecolor\": \"white\", \"minorgridcolor\": \"white\", \"startlinecolor\": \"#2a3f5f\"}, \"baxis\": {\"endlinecolor\": \"#2a3f5f\", \"gridcolor\": \"white\", \"linecolor\": \"white\", \"minorgridcolor\": \"white\", \"startlinecolor\": \"#2a3f5f\"}, \"type\": \"carpet\"}], \"choropleth\": [{\"colorbar\": {\"outlinewidth\": 0, \"ticks\": \"\"}, \"type\": \"choropleth\"}], \"contour\": [{\"colorbar\": {\"outlinewidth\": 0, \"ticks\": \"\"}, \"colorscale\": [[0.0, \"#0d0887\"], [0.1111111111111111, \"#46039f\"], [0.2222222222222222, \"#7201a8\"], [0.3333333333333333, \"#9c179e\"], [0.4444444444444444, \"#bd3786\"], [0.5555555555555556, \"#d8576b\"], [0.6666666666666666, \"#ed7953\"], [0.7777777777777778, \"#fb9f3a\"], [0.8888888888888888, \"#fdca26\"], [1.0, \"#f0f921\"]], \"type\": \"contour\"}], \"contourcarpet\": [{\"colorbar\": {\"outlinewidth\": 0, \"ticks\": \"\"}, \"type\": \"contourcarpet\"}], \"heatmap\": [{\"colorbar\": {\"outlinewidth\": 0, \"ticks\": \"\"}, \"colorscale\": [[0.0, \"#0d0887\"], [0.1111111111111111, \"#46039f\"], [0.2222222222222222, \"#7201a8\"], [0.3333333333333333, \"#9c179e\"], [0.4444444444444444, \"#bd3786\"], [0.5555555555555556, \"#d8576b\"], [0.6666666666666666, \"#ed7953\"], [0.7777777777777778, \"#fb9f3a\"], [0.8888888888888888, \"#fdca26\"], [1.0, \"#f0f921\"]], \"type\": \"heatmap\"}], \"heatmapgl\": [{\"colorbar\": {\"outlinewidth\": 0, \"ticks\": \"\"}, \"colorscale\": [[0.0, \"#0d0887\"], [0.1111111111111111, \"#46039f\"], [0.2222222222222222, \"#7201a8\"], [0.3333333333333333, \"#9c179e\"], [0.4444444444444444, \"#bd3786\"], [0.5555555555555556, \"#d8576b\"], [0.6666666666666666, \"#ed7953\"], [0.7777777777777778, \"#fb9f3a\"], [0.8888888888888888, \"#fdca26\"], [1.0, \"#f0f921\"]], \"type\": \"heatmapgl\"}], \"histogram\": [{\"marker\": {\"colorbar\": {\"outlinewidth\": 0, \"ticks\": \"\"}}, \"type\": \"histogram\"}], \"histogram2d\": [{\"colorbar\": {\"outlinewidth\": 0, \"ticks\": \"\"}, \"colorscale\": [[0.0, \"#0d0887\"], [0.1111111111111111, \"#46039f\"], [0.2222222222222222, \"#7201a8\"], [0.3333333333333333, \"#9c179e\"], [0.4444444444444444, \"#bd3786\"], [0.5555555555555556, \"#d8576b\"], [0.6666666666666666, \"#ed7953\"], [0.7777777777777778, \"#fb9f3a\"], [0.8888888888888888, \"#fdca26\"], [1.0, \"#f0f921\"]], \"type\": \"histogram2d\"}], \"histogram2dcontour\": [{\"colorbar\": {\"outlinewidth\": 0, \"ticks\": \"\"}, \"colorscale\": [[0.0, \"#0d0887\"], [0.1111111111111111, \"#46039f\"], [0.2222222222222222, \"#7201a8\"], [0.3333333333333333, \"#9c179e\"], [0.4444444444444444, \"#bd3786\"], [0.5555555555555556, \"#d8576b\"], [0.6666666666666666, \"#ed7953\"], [0.7777777777777778, \"#fb9f3a\"], [0.8888888888888888, \"#fdca26\"], [1.0, \"#f0f921\"]], \"type\": \"histogram2dcontour\"}], \"mesh3d\": [{\"colorbar\": {\"outlinewidth\": 0, \"ticks\": \"\"}, \"type\": \"mesh3d\"}], \"parcoords\": [{\"line\": {\"colorbar\": {\"outlinewidth\": 0, \"ticks\": \"\"}}, \"type\": \"parcoords\"}], \"pie\": [{\"automargin\": true, \"type\": \"pie\"}], \"scatter\": [{\"marker\": {\"colorbar\": {\"outlinewidth\": 0, \"ticks\": \"\"}}, \"type\": \"scatter\"}], \"scatter3d\": [{\"line\": {\"colorbar\": {\"outlinewidth\": 0, \"ticks\": \"\"}}, \"marker\": {\"colorbar\": {\"outlinewidth\": 0, \"ticks\": \"\"}}, \"type\": \"scatter3d\"}], \"scattercarpet\": [{\"marker\": {\"colorbar\": {\"outlinewidth\": 0, \"ticks\": \"\"}}, \"type\": \"scattercarpet\"}], \"scattergeo\": [{\"marker\": {\"colorbar\": {\"outlinewidth\": 0, \"ticks\": \"\"}}, \"type\": \"scattergeo\"}], \"scattergl\": [{\"marker\": {\"colorbar\": {\"outlinewidth\": 0, \"ticks\": \"\"}}, \"type\": \"scattergl\"}], \"scattermapbox\": [{\"marker\": {\"colorbar\": {\"outlinewidth\": 0, \"ticks\": \"\"}}, \"type\": \"scattermapbox\"}], \"scatterpolar\": [{\"marker\": {\"colorbar\": {\"outlinewidth\": 0, \"ticks\": \"\"}}, \"type\": \"scatterpolar\"}], \"scatterpolargl\": [{\"marker\": {\"colorbar\": {\"outlinewidth\": 0, \"ticks\": \"\"}}, \"type\": \"scatterpolargl\"}], \"scatterternary\": [{\"marker\": {\"colorbar\": {\"outlinewidth\": 0, \"ticks\": \"\"}}, \"type\": \"scatterternary\"}], \"surface\": [{\"colorbar\": {\"outlinewidth\": 0, \"ticks\": \"\"}, \"colorscale\": [[0.0, \"#0d0887\"], [0.1111111111111111, \"#46039f\"], [0.2222222222222222, \"#7201a8\"], [0.3333333333333333, \"#9c179e\"], [0.4444444444444444, \"#bd3786\"], [0.5555555555555556, \"#d8576b\"], [0.6666666666666666, \"#ed7953\"], [0.7777777777777778, \"#fb9f3a\"], [0.8888888888888888, \"#fdca26\"], [1.0, \"#f0f921\"]], \"type\": \"surface\"}], \"table\": [{\"cells\": {\"fill\": {\"color\": \"#EBF0F8\"}, \"line\": {\"color\": \"white\"}}, \"header\": {\"fill\": {\"color\": \"#C8D4E3\"}, \"line\": {\"color\": \"white\"}}, \"type\": \"table\"}]}, \"layout\": {\"annotationdefaults\": {\"arrowcolor\": \"#2a3f5f\", \"arrowhead\": 0, \"arrowwidth\": 1}, \"coloraxis\": {\"colorbar\": {\"outlinewidth\": 0, \"ticks\": \"\"}}, \"colorscale\": {\"diverging\": [[0, \"#8e0152\"], [0.1, \"#c51b7d\"], [0.2, \"#de77ae\"], [0.3, \"#f1b6da\"], [0.4, \"#fde0ef\"], [0.5, \"#f7f7f7\"], [0.6, \"#e6f5d0\"], [0.7, \"#b8e186\"], [0.8, \"#7fbc41\"], [0.9, \"#4d9221\"], [1, \"#276419\"]], \"sequential\": [[0.0, \"#0d0887\"], [0.1111111111111111, \"#46039f\"], [0.2222222222222222, \"#7201a8\"], [0.3333333333333333, \"#9c179e\"], [0.4444444444444444, \"#bd3786\"], [0.5555555555555556, \"#d8576b\"], [0.6666666666666666, \"#ed7953\"], [0.7777777777777778, \"#fb9f3a\"], [0.8888888888888888, \"#fdca26\"], [1.0, \"#f0f921\"]], \"sequentialminus\": [[0.0, \"#0d0887\"], [0.1111111111111111, \"#46039f\"], [0.2222222222222222, \"#7201a8\"], [0.3333333333333333, \"#9c179e\"], [0.4444444444444444, \"#bd3786\"], [0.5555555555555556, \"#d8576b\"], [0.6666666666666666, \"#ed7953\"], [0.7777777777777778, \"#fb9f3a\"], [0.8888888888888888, \"#fdca26\"], [1.0, \"#f0f921\"]]}, \"colorway\": [\"#636efa\", \"#EF553B\", \"#00cc96\", \"#ab63fa\", \"#FFA15A\", \"#19d3f3\", \"#FF6692\", \"#B6E880\", \"#FF97FF\", \"#FECB52\"], \"font\": {\"color\": \"#2a3f5f\"}, \"geo\": {\"bgcolor\": \"white\", \"lakecolor\": \"white\", \"landcolor\": \"#E5ECF6\", \"showlakes\": true, \"showland\": true, \"subunitcolor\": \"white\"}, \"hoverlabel\": {\"align\": \"left\"}, \"hovermode\": \"closest\", \"mapbox\": {\"style\": \"light\"}, \"paper_bgcolor\": \"white\", \"plot_bgcolor\": \"#E5ECF6\", \"polar\": {\"angularaxis\": {\"gridcolor\": \"white\", \"linecolor\": \"white\", \"ticks\": \"\"}, \"bgcolor\": \"#E5ECF6\", \"radialaxis\": {\"gridcolor\": \"white\", \"linecolor\": \"white\", \"ticks\": \"\"}}, \"scene\": {\"xaxis\": {\"backgroundcolor\": \"#E5ECF6\", \"gridcolor\": \"white\", \"gridwidth\": 2, \"linecolor\": \"white\", \"showbackground\": true, \"ticks\": \"\", \"zerolinecolor\": \"white\"}, \"yaxis\": {\"backgroundcolor\": \"#E5ECF6\", \"gridcolor\": \"white\", \"gridwidth\": 2, \"linecolor\": \"white\", \"showbackground\": true, \"ticks\": \"\", \"zerolinecolor\": \"white\"}, \"zaxis\": {\"backgroundcolor\": \"#E5ECF6\", \"gridcolor\": \"white\", \"gridwidth\": 2, \"linecolor\": \"white\", \"showbackground\": true, \"ticks\": \"\", \"zerolinecolor\": \"white\"}}, \"shapedefaults\": {\"line\": {\"color\": \"#2a3f5f\"}}, \"ternary\": {\"aaxis\": {\"gridcolor\": \"white\", \"linecolor\": \"white\", \"ticks\": \"\"}, \"baxis\": {\"gridcolor\": \"white\", \"linecolor\": \"white\", \"ticks\": \"\"}, \"bgcolor\": \"#E5ECF6\", \"caxis\": {\"gridcolor\": \"white\", \"linecolor\": \"white\", \"ticks\": \"\"}}, \"title\": {\"x\": 0.05}, \"xaxis\": {\"automargin\": true, \"gridcolor\": \"white\", \"linecolor\": \"white\", \"ticks\": \"\", \"title\": {\"standoff\": 15}, \"zerolinecolor\": \"white\", \"zerolinewidth\": 2}, \"yaxis\": {\"automargin\": true, \"gridcolor\": \"white\", \"linecolor\": \"white\", \"ticks\": \"\", \"title\": {\"standoff\": 15}, \"zerolinecolor\": \"white\", \"zerolinewidth\": 2}}}, \"title\": {\"text\": \"Industrial Production Rate\"}, \"xaxis\": {\"anchor\": \"y\", \"domain\": [0.0, 0.94], \"title\": {\"text\": \"Date\"}}, \"yaxis\": {\"anchor\": \"x\", \"domain\": [0.0, 1.0], \"title\": {\"text\": \"Sales\"}}, \"yaxis2\": {\"anchor\": \"x\", \"overlaying\": \"y\", \"side\": \"right\"}},\n",
              "                        {\"responsive\": true}\n",
              "                    ).then(function(){\n",
              "                            \n",
              "var gd = document.getElementById('699a80b5-fda3-4df8-9921-0e7e715fcc29');\n",
              "var x = new MutationObserver(function (mutations, observer) {{\n",
              "        var display = window.getComputedStyle(gd).display;\n",
              "        if (!display || display === 'none') {{\n",
              "            console.log([gd, 'removed!']);\n",
              "            Plotly.purge(gd);\n",
              "            observer.disconnect();\n",
              "        }}\n",
              "}});\n",
              "\n",
              "// Listen for the removal of the full notebook cells\n",
              "var notebookContainer = gd.closest('#notebook-container');\n",
              "if (notebookContainer) {{\n",
              "    x.observe(notebookContainer, {childList: true});\n",
              "}}\n",
              "\n",
              "// Listen for the clearing of the current output cell\n",
              "var outputEl = gd.closest('.output');\n",
              "if (outputEl) {{\n",
              "    x.observe(outputEl, {childList: true});\n",
              "}}\n",
              "\n",
              "                        })\n",
              "                };\n",
              "                \n",
              "            </script>\n",
              "        </div>\n",
              "</body>\n",
              "</html>"
            ]
          },
          "metadata": {
            "tags": []
          }
        }
      ]
    },
    {
      "cell_type": "code",
      "metadata": {
        "id": "g0FuKBxn7HfK"
      },
      "source": [
        "result.to_excel('IndustrialProd_finalresult.csv')"
      ],
      "execution_count": 46,
      "outputs": []
    },
    {
      "cell_type": "code",
      "metadata": {
        "id": "gp0yzv0P7Zc-"
      },
      "source": [
        ""
      ],
      "execution_count": null,
      "outputs": []
    }
  ]
}