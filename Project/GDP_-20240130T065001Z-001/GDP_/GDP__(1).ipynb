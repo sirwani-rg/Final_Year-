{
  "nbformat": 4,
  "nbformat_minor": 0,
  "metadata": {
    "colab": {
      "name": "GDP__.ipynb",
      "provenance": [],
      "collapsed_sections": []
    },
    "kernelspec": {
      "name": "python3",
      "display_name": "Python 3"
    }
  },
  "cells": [
    {
      "cell_type": "code",
      "metadata": {
        "id": "Q08DG3RutBt-"
      },
      "source": [
        "import pandas as pd\n",
        "import numpy as np\n",
        "import matplotlib.pyplot as plt\n",
        "import seaborn as sns\n",
        "#matplotlib %inline"
      ],
      "execution_count": 1,
      "outputs": []
    },
    {
      "cell_type": "code",
      "metadata": {
        "id": "3V3HDNC-td6P"
      },
      "source": [
        "#df1=pd.read_excel('WEO_Data.xls')\n",
        "df2=pd.read_csv('/content/india-economic-growth-rate.csv', error_bad_lines=False)\n",
        "df3=pd.read_csv('/content/india-trade-gdp-ratio.csv', error_bad_lines=False)\n",
        "df4=pd.read_csv('/content/india-literacy-rate.csv', error_bad_lines=False)\n",
        "df5=pd.read_csv('/content/india-population-2021-01-27(3).csv', error_bad_lines=False)\n",
        "df6=pd.read_csv('/content/india_birthrate.csv', error_bad_lines=False)\n",
        "df7=pd.read_csv('/content/india_deathrate.csv', error_bad_lines=False)\n",
        "df8=pd.read_csv('/content/india-exports.csv', error_bad_lines=False)\n",
        "df9=pd.read_csv('/content/india-imports.csv', error_bad_lines=False)\n",
        "df10=pd.read_csv('/content/india-tourism-statistics.csv', error_bad_lines=False)\n",
        "df11=pd.read_csv('/content/india-unemployment-rate.csv', error_bad_lines=False)\n",
        "df12=pd.read_csv('/content/india_life_expectency.csv', error_bad_lines=False)"
      ],
      "execution_count": 14,
      "outputs": []
    },
    {
      "cell_type": "code",
      "metadata": {
        "id": "mVN9q2vGtvbk",
        "colab": {
          "base_uri": "https://localhost:8080/"
        },
        "outputId": "84a6eaca-b818-48eb-f1b6-e5bc465ee36e"
      },
      "source": [
        "df2.info()"
      ],
      "execution_count": 3,
      "outputs": [
        {
          "output_type": "stream",
          "text": [
            "<class 'pandas.core.frame.DataFrame'>\n",
            "RangeIndex: 60 entries, 0 to 59\n",
            "Data columns (total 4 columns):\n",
            " #   Column                Non-Null Count  Dtype  \n",
            "---  ------                --------------  -----  \n",
            " 0   date                  60 non-null     object \n",
            " 1   GDP Billions of US $  60 non-null     float64\n",
            " 2   Per Capita US $       60 non-null     float64\n",
            " 3   Annual_Change         59 non-null     float64\n",
            "dtypes: float64(3), object(1)\n",
            "memory usage: 2.0+ KB\n"
          ],
          "name": "stdout"
        }
      ]
    },
    {
      "cell_type": "code",
      "metadata": {
        "colab": {
          "base_uri": "https://localhost:8080/"
        },
        "id": "zgMhpi6McWJE",
        "outputId": "1c057217-b627-4e17-8bd9-6d45f39c8663"
      },
      "source": [
        "df3.info()"
      ],
      "execution_count": 4,
      "outputs": [
        {
          "output_type": "stream",
          "text": [
            "<class 'pandas.core.frame.DataFrame'>\n",
            "RangeIndex: 60 entries, 0 to 59\n",
            "Data columns (total 4 columns):\n",
            " #   Column            Non-Null Count  Dtype  \n",
            "---  ------            --------------  -----  \n",
            " 0   date              60 non-null     object \n",
            " 1   Trade (% of GDP)  60 non-null     float64\n",
            " 2   Annual_Change     59 non-null     float64\n",
            " 3                     0 non-null      float64\n",
            "dtypes: float64(3), object(1)\n",
            "memory usage: 2.0+ KB\n"
          ],
          "name": "stdout"
        }
      ]
    },
    {
      "cell_type": "code",
      "metadata": {
        "colab": {
          "base_uri": "https://localhost:8080/"
        },
        "id": "qvIjegzmcb4L",
        "outputId": "972420c0-7b7d-4359-d2bd-4f3207581b7d"
      },
      "source": [
        "df4.info()"
      ],
      "execution_count": 5,
      "outputs": [
        {
          "output_type": "stream",
          "text": [
            "<class 'pandas.core.frame.DataFrame'>\n",
            "RangeIndex: 6 entries, 0 to 5\n",
            "Data columns (total 4 columns):\n",
            " #   Column         Non-Null Count  Dtype  \n",
            "---  ------         --------------  -----  \n",
            " 0   date           6 non-null      object \n",
            " 1   Literacy_Rate  6 non-null      float64\n",
            " 2   Annual_Change  5 non-null      float64\n",
            " 3                  0 non-null      float64\n",
            "dtypes: float64(3), object(1)\n",
            "memory usage: 320.0+ bytes\n"
          ],
          "name": "stdout"
        }
      ]
    },
    {
      "cell_type": "code",
      "metadata": {
        "colab": {
          "base_uri": "https://localhost:8080/"
        },
        "id": "nlAm6RGGhSVz",
        "outputId": "67252737-49cb-4fb8-b07a-aaab423ba75a"
      },
      "source": [
        "df5.info()"
      ],
      "execution_count": 6,
      "outputs": [
        {
          "output_type": "stream",
          "text": [
            "<class 'pandas.core.frame.DataFrame'>\n",
            "RangeIndex: 151 entries, 0 to 150\n",
            "Data columns (total 3 columns):\n",
            " #   Column         Non-Null Count  Dtype  \n",
            "---  ------         --------------  -----  \n",
            " 0   date           151 non-null    object \n",
            " 1   Population     151 non-null    int64  \n",
            " 2   Annual_Change  150 non-null    float64\n",
            "dtypes: float64(1), int64(1), object(1)\n",
            "memory usage: 3.7+ KB\n"
          ],
          "name": "stdout"
        }
      ]
    },
    {
      "cell_type": "code",
      "metadata": {
        "colab": {
          "base_uri": "https://localhost:8080/"
        },
        "id": "p64kNMv8hVK1",
        "outputId": "7e533637-017d-42c3-a24a-692f383b6334"
      },
      "source": [
        "df6.info()"
      ],
      "execution_count": 7,
      "outputs": [
        {
          "output_type": "stream",
          "text": [
            "<class 'pandas.core.frame.DataFrame'>\n",
            "RangeIndex: 151 entries, 0 to 150\n",
            "Data columns (total 3 columns):\n",
            " #   Column                  Non-Null Count  Dtype  \n",
            "---  ------                  --------------  -----  \n",
            " 0   date                    151 non-null    object \n",
            " 1   Births per 1000 People  151 non-null    float64\n",
            " 2   Annual_Change           150 non-null    float64\n",
            "dtypes: float64(2), object(1)\n",
            "memory usage: 3.7+ KB\n"
          ],
          "name": "stdout"
        }
      ]
    },
    {
      "cell_type": "code",
      "metadata": {
        "colab": {
          "base_uri": "https://localhost:8080/"
        },
        "id": "at2-7RuShXAe",
        "outputId": "901a8cfc-7bfe-4ea1-9c87-4c8e2f1e3f96"
      },
      "source": [
        "df7.info()\n"
      ],
      "execution_count": 8,
      "outputs": [
        {
          "output_type": "stream",
          "text": [
            "<class 'pandas.core.frame.DataFrame'>\n",
            "RangeIndex: 151 entries, 0 to 150\n",
            "Data columns (total 3 columns):\n",
            " #   Column                       Non-Null Count  Dtype  \n",
            "---  ------                       --------------  -----  \n",
            " 0   date                         151 non-null    object \n",
            " 1   Deaths per 1000 Live Births  151 non-null    float64\n",
            " 2   Annual % Change              150 non-null    float64\n",
            "dtypes: float64(2), object(1)\n",
            "memory usage: 3.7+ KB\n"
          ],
          "name": "stdout"
        }
      ]
    },
    {
      "cell_type": "code",
      "metadata": {
        "colab": {
          "base_uri": "https://localhost:8080/"
        },
        "id": "HUQdjLh1hYzX",
        "outputId": "d1ed51ea-8b5d-43c9-d15d-9142a820a209"
      },
      "source": [
        "df8.info()\n",
        "#df8.drop(['Annual_Change'],axis=1,inplace=True)"
      ],
      "execution_count": 9,
      "outputs": [
        {
          "output_type": "stream",
          "text": [
            "<class 'pandas.core.frame.DataFrame'>\n",
            "RangeIndex: 60 entries, 0 to 59\n",
            "Data columns (total 4 columns):\n",
            " #   Column                    Non-Null Count  Dtype  \n",
            "---  ------                    --------------  -----  \n",
            " 0   date                      60 non-null     object \n",
            " 1   Exports Billions of US $  60 non-null     float64\n",
            " 2   % of GDP                  60 non-null     float64\n",
            " 3   Change                    59 non-null     float64\n",
            "dtypes: float64(3), object(1)\n",
            "memory usage: 2.0+ KB\n"
          ],
          "name": "stdout"
        }
      ]
    },
    {
      "cell_type": "code",
      "metadata": {
        "colab": {
          "base_uri": "https://localhost:8080/"
        },
        "id": "7USdwERAhfr2",
        "outputId": "9f942dd7-5b11-4abc-9e54-4005db82ab3c"
      },
      "source": [
        "df9.info()"
      ],
      "execution_count": 10,
      "outputs": [
        {
          "output_type": "stream",
          "text": [
            "<class 'pandas.core.frame.DataFrame'>\n",
            "RangeIndex: 60 entries, 0 to 59\n",
            "Data columns (total 4 columns):\n",
            " #   Column                    Non-Null Count  Dtype  \n",
            "---  ------                    --------------  -----  \n",
            " 0   date                      60 non-null     object \n",
            " 1   Imports Billions of US $  60 non-null     float64\n",
            " 2    % of GDP                 60 non-null     float64\n",
            " 3   Change                    59 non-null     float64\n",
            "dtypes: float64(3), object(1)\n",
            "memory usage: 2.0+ KB\n"
          ],
          "name": "stdout"
        }
      ]
    },
    {
      "cell_type": "code",
      "metadata": {
        "colab": {
          "base_uri": "https://localhost:8080/"
        },
        "id": "jIOHxAP8hfyK",
        "outputId": "33c40774-7df1-4137-edfd-10604dc87ec2"
      },
      "source": [
        "df10.info()"
      ],
      "execution_count": 11,
      "outputs": [
        {
          "output_type": "stream",
          "text": [
            "<class 'pandas.core.frame.DataFrame'>\n",
            "RangeIndex: 24 entries, 0 to 23\n",
            "Data columns (total 4 columns):\n",
            " #   Column         Non-Null Count  Dtype  \n",
            "---  ------         --------------  -----  \n",
            " 0   date           24 non-null     object \n",
            " 1    Spending ($)  24 non-null     int64  \n",
            " 2    % of Exports  24 non-null     float64\n",
            " 3   Unnamed: 3     2 non-null      object \n",
            "dtypes: float64(1), int64(1), object(2)\n",
            "memory usage: 896.0+ bytes\n"
          ],
          "name": "stdout"
        }
      ]
    },
    {
      "cell_type": "code",
      "metadata": {
        "colab": {
          "base_uri": "https://localhost:8080/"
        },
        "id": "Zow85wjfhgCW",
        "outputId": "d75ff872-f289-403e-d6b1-206d60d42094"
      },
      "source": [
        "df11.info()"
      ],
      "execution_count": 12,
      "outputs": [
        {
          "output_type": "stream",
          "text": [
            "<class 'pandas.core.frame.DataFrame'>\n",
            "RangeIndex: 29 entries, 0 to 28\n",
            "Data columns (total 4 columns):\n",
            " #   Column                 Non-Null Count  Dtype  \n",
            "---  ------                 --------------  -----  \n",
            " 0   date                   29 non-null     object \n",
            " 1   Unemployment Rate (%)  29 non-null     float64\n",
            " 2   Annual Change          28 non-null     float64\n",
            " 3   Unnamed: 3             2 non-null      object \n",
            "dtypes: float64(2), object(2)\n",
            "memory usage: 1.0+ KB\n"
          ],
          "name": "stdout"
        }
      ]
    },
    {
      "cell_type": "code",
      "metadata": {
        "colab": {
          "base_uri": "https://localhost:8080/",
          "height": 206
        },
        "id": "Wo-ntecshaeq",
        "outputId": "4a78e31c-635f-4727-94e2-031d61a58fdb"
      },
      "source": [
        "df1=df8\n",
        "df1.head()"
      ],
      "execution_count": 13,
      "outputs": [
        {
          "output_type": "execute_result",
          "data": {
            "text/html": [
              "<div>\n",
              "<style scoped>\n",
              "    .dataframe tbody tr th:only-of-type {\n",
              "        vertical-align: middle;\n",
              "    }\n",
              "\n",
              "    .dataframe tbody tr th {\n",
              "        vertical-align: top;\n",
              "    }\n",
              "\n",
              "    .dataframe thead th {\n",
              "        text-align: right;\n",
              "    }\n",
              "</style>\n",
              "<table border=\"1\" class=\"dataframe\">\n",
              "  <thead>\n",
              "    <tr style=\"text-align: right;\">\n",
              "      <th></th>\n",
              "      <th>date</th>\n",
              "      <th>Exports Billions of US $</th>\n",
              "      <th>% of GDP</th>\n",
              "      <th>Change</th>\n",
              "    </tr>\n",
              "  </thead>\n",
              "  <tbody>\n",
              "    <tr>\n",
              "      <th>0</th>\n",
              "      <td>1960-12-31</td>\n",
              "      <td>1.652702</td>\n",
              "      <td>4.4632</td>\n",
              "      <td>NaN</td>\n",
              "    </tr>\n",
              "    <tr>\n",
              "      <th>1</th>\n",
              "      <td>1961-12-31</td>\n",
              "      <td>1.688402</td>\n",
              "      <td>4.3036</td>\n",
              "      <td>-0.1859</td>\n",
              "    </tr>\n",
              "    <tr>\n",
              "      <th>2</th>\n",
              "      <td>1962-12-31</td>\n",
              "      <td>1.757702</td>\n",
              "      <td>4.1690</td>\n",
              "      <td>-0.5798</td>\n",
              "    </tr>\n",
              "    <tr>\n",
              "      <th>3</th>\n",
              "      <td>1963-12-31</td>\n",
              "      <td>2.072702</td>\n",
              "      <td>4.2805</td>\n",
              "      <td>8.4041</td>\n",
              "    </tr>\n",
              "    <tr>\n",
              "      <th>4</th>\n",
              "      <td>1964-12-31</td>\n",
              "      <td>2.104202</td>\n",
              "      <td>3.7256</td>\n",
              "      <td>-6.5120</td>\n",
              "    </tr>\n",
              "  </tbody>\n",
              "</table>\n",
              "</div>"
            ],
            "text/plain": [
              "         date  Exports Billions of US $  % of GDP  Change\n",
              "0  1960-12-31                  1.652702    4.4632     NaN\n",
              "1  1961-12-31                  1.688402    4.3036 -0.1859\n",
              "2  1962-12-31                  1.757702    4.1690 -0.5798\n",
              "3  1963-12-31                  2.072702    4.2805  8.4041\n",
              "4  1964-12-31                  2.104202    3.7256 -6.5120"
            ]
          },
          "metadata": {
            "tags": []
          },
          "execution_count": 13
        }
      ]
    },
    {
      "cell_type": "code",
      "metadata": {
        "colab": {
          "base_uri": "https://localhost:8080/"
        },
        "id": "fZemiMh_jmJZ",
        "outputId": "2c1a22fe-0b3f-4b3e-b71b-e2d8e60c2f8d"
      },
      "source": [
        "df7.info()\n",
        "df7.drop(['Annual % Change'],inplace=True,axis=1)"
      ],
      "execution_count": 15,
      "outputs": [
        {
          "output_type": "stream",
          "text": [
            "<class 'pandas.core.frame.DataFrame'>\n",
            "RangeIndex: 151 entries, 0 to 150\n",
            "Data columns (total 3 columns):\n",
            " #   Column                       Non-Null Count  Dtype  \n",
            "---  ------                       --------------  -----  \n",
            " 0   date                         151 non-null    object \n",
            " 1   Deaths per 1000 Live Births  151 non-null    float64\n",
            " 2   Annual % Change              150 non-null    float64\n",
            "dtypes: float64(2), object(1)\n",
            "memory usage: 3.7+ KB\n"
          ],
          "name": "stdout"
        }
      ]
    },
    {
      "cell_type": "code",
      "metadata": {
        "id": "SlLwRWKhkCwo"
      },
      "source": [
        "df7.set_index(['date'],inplace=True)\n",
        "df2.set_index(['date'],inplace=True)"
      ],
      "execution_count": 16,
      "outputs": []
    },
    {
      "cell_type": "code",
      "metadata": {
        "colab": {
          "base_uri": "https://localhost:8080/",
          "height": 1000
        },
        "id": "Um4nlaXThgxF",
        "outputId": "0718e067-6f72-4dcb-edf3-279230ab4943"
      },
      "source": [
        "df9.join(df7,on='date',how='left').copy()\n"
      ],
      "execution_count": 17,
      "outputs": [
        {
          "output_type": "execute_result",
          "data": {
            "text/html": [
              "<div>\n",
              "<style scoped>\n",
              "    .dataframe tbody tr th:only-of-type {\n",
              "        vertical-align: middle;\n",
              "    }\n",
              "\n",
              "    .dataframe tbody tr th {\n",
              "        vertical-align: top;\n",
              "    }\n",
              "\n",
              "    .dataframe thead th {\n",
              "        text-align: right;\n",
              "    }\n",
              "</style>\n",
              "<table border=\"1\" class=\"dataframe\">\n",
              "  <thead>\n",
              "    <tr style=\"text-align: right;\">\n",
              "      <th></th>\n",
              "      <th>date</th>\n",
              "      <th>Imports Billions of US $</th>\n",
              "      <th>% of GDP</th>\n",
              "      <th>Change</th>\n",
              "      <th>Deaths per 1000 Live Births</th>\n",
              "    </tr>\n",
              "  </thead>\n",
              "  <tbody>\n",
              "    <tr>\n",
              "      <th>0</th>\n",
              "      <td>1960-12-31</td>\n",
              "      <td>2.530503</td>\n",
              "      <td>6.8337</td>\n",
              "      <td>NaN</td>\n",
              "      <td>161.742</td>\n",
              "    </tr>\n",
              "    <tr>\n",
              "      <th>1</th>\n",
              "      <td>1961-12-31</td>\n",
              "      <td>2.337302</td>\n",
              "      <td>5.9576</td>\n",
              "      <td>-9.7559</td>\n",
              "      <td>159.366</td>\n",
              "    </tr>\n",
              "    <tr>\n",
              "      <th>2</th>\n",
              "      <td>1962-12-31</td>\n",
              "      <td>2.543103</td>\n",
              "      <td>6.0318</td>\n",
              "      <td>3.9092</td>\n",
              "      <td>156.989</td>\n",
              "    </tr>\n",
              "    <tr>\n",
              "      <th>3</th>\n",
              "      <td>1963-12-31</td>\n",
              "      <td>2.860203</td>\n",
              "      <td>5.9068</td>\n",
              "      <td>3.3920</td>\n",
              "      <td>154.612</td>\n",
              "    </tr>\n",
              "    <tr>\n",
              "      <th>4</th>\n",
              "      <td>1964-12-31</td>\n",
              "      <td>3.210903</td>\n",
              "      <td>5.6850</td>\n",
              "      <td>3.3797</td>\n",
              "      <td>152.851</td>\n",
              "    </tr>\n",
              "    <tr>\n",
              "      <th>5</th>\n",
              "      <td>1965-12-31</td>\n",
              "      <td>3.103738</td>\n",
              "      <td>5.2116</td>\n",
              "      <td>-11.0562</td>\n",
              "      <td>151.091</td>\n",
              "    </tr>\n",
              "    <tr>\n",
              "      <th>6</th>\n",
              "      <td>1966-12-31</td>\n",
              "      <td>3.060000</td>\n",
              "      <td>6.6717</td>\n",
              "      <td>28.6223</td>\n",
              "      <td>149.330</td>\n",
              "    </tr>\n",
              "    <tr>\n",
              "      <th>7</th>\n",
              "      <td>1967-12-31</td>\n",
              "      <td>2.981333</td>\n",
              "      <td>5.9466</td>\n",
              "      <td>-3.9436</td>\n",
              "      <td>147.570</td>\n",
              "    </tr>\n",
              "    <tr>\n",
              "      <th>8</th>\n",
              "      <td>1968-12-31</td>\n",
              "      <td>2.624000</td>\n",
              "      <td>4.9430</td>\n",
              "      <td>-14.3610</td>\n",
              "      <td>145.809</td>\n",
              "    </tr>\n",
              "    <tr>\n",
              "      <th>9</th>\n",
              "      <td>1969-12-31</td>\n",
              "      <td>2.356000</td>\n",
              "      <td>4.0309</td>\n",
              "      <td>-13.0351</td>\n",
              "      <td>143.815</td>\n",
              "    </tr>\n",
              "    <tr>\n",
              "      <th>10</th>\n",
              "      <td>1970-12-31</td>\n",
              "      <td>2.421333</td>\n",
              "      <td>3.8789</td>\n",
              "      <td>17.9150</td>\n",
              "      <td>141.822</td>\n",
              "    </tr>\n",
              "    <tr>\n",
              "      <th>11</th>\n",
              "      <td>1971-12-31</td>\n",
              "      <td>2.695657</td>\n",
              "      <td>4.0024</td>\n",
              "      <td>18.0285</td>\n",
              "      <td>139.828</td>\n",
              "    </tr>\n",
              "    <tr>\n",
              "      <th>12</th>\n",
              "      <td>1972-12-31</td>\n",
              "      <td>2.650506</td>\n",
              "      <td>3.7089</td>\n",
              "      <td>-1.8884</td>\n",
              "      <td>137.835</td>\n",
              "    </tr>\n",
              "    <tr>\n",
              "      <th>13</th>\n",
              "      <td>1973-12-31</td>\n",
              "      <td>4.039171</td>\n",
              "      <td>4.7233</td>\n",
              "      <td>8.0751</td>\n",
              "      <td>135.841</td>\n",
              "    </tr>\n",
              "    <tr>\n",
              "      <th>14</th>\n",
              "      <td>1974-12-31</td>\n",
              "      <td>5.992026</td>\n",
              "      <td>6.0206</td>\n",
              "      <td>-12.7581</td>\n",
              "      <td>132.832</td>\n",
              "    </tr>\n",
              "    <tr>\n",
              "      <th>15</th>\n",
              "      <td>1975-12-31</td>\n",
              "      <td>6.545404</td>\n",
              "      <td>6.6469</td>\n",
              "      <td>1.2795</td>\n",
              "      <td>129.824</td>\n",
              "    </tr>\n",
              "    <tr>\n",
              "      <th>16</th>\n",
              "      <td>1976-12-31</td>\n",
              "      <td>6.280836</td>\n",
              "      <td>6.1147</td>\n",
              "      <td>1.8962</td>\n",
              "      <td>126.815</td>\n",
              "    </tr>\n",
              "    <tr>\n",
              "      <th>17</th>\n",
              "      <td>1977-12-31</td>\n",
              "      <td>7.611095</td>\n",
              "      <td>6.2649</td>\n",
              "      <td>27.3956</td>\n",
              "      <td>123.807</td>\n",
              "    </tr>\n",
              "    <tr>\n",
              "      <th>18</th>\n",
              "      <td>1978-12-31</td>\n",
              "      <td>9.045600</td>\n",
              "      <td>6.5882</td>\n",
              "      <td>0.0491</td>\n",
              "      <td>120.798</td>\n",
              "    </tr>\n",
              "    <tr>\n",
              "      <th>19</th>\n",
              "      <td>1979-12-31</td>\n",
              "      <td>12.498143</td>\n",
              "      <td>8.1692</td>\n",
              "      <td>19.3208</td>\n",
              "      <td>117.771</td>\n",
              "    </tr>\n",
              "    <tr>\n",
              "      <th>20</th>\n",
              "      <td>1980-12-31</td>\n",
              "      <td>17.225826</td>\n",
              "      <td>9.2450</td>\n",
              "      <td>14.3542</td>\n",
              "      <td>114.743</td>\n",
              "    </tr>\n",
              "    <tr>\n",
              "      <th>21</th>\n",
              "      <td>1981-12-31</td>\n",
              "      <td>16.584541</td>\n",
              "      <td>8.5712</td>\n",
              "      <td>10.0294</td>\n",
              "      <td>111.716</td>\n",
              "    </tr>\n",
              "    <tr>\n",
              "      <th>22</th>\n",
              "      <td>1982-12-31</td>\n",
              "      <td>16.343487</td>\n",
              "      <td>8.1426</td>\n",
              "      <td>3.4542</td>\n",
              "      <td>108.688</td>\n",
              "    </tr>\n",
              "    <tr>\n",
              "      <th>23</th>\n",
              "      <td>1983-12-31</td>\n",
              "      <td>17.140059</td>\n",
              "      <td>7.8530</td>\n",
              "      <td>21.9842</td>\n",
              "      <td>105.661</td>\n",
              "    </tr>\n",
              "    <tr>\n",
              "      <th>24</th>\n",
              "      <td>1984-12-31</td>\n",
              "      <td>16.391291</td>\n",
              "      <td>7.7260</td>\n",
              "      <td>-14.3301</td>\n",
              "      <td>103.178</td>\n",
              "    </tr>\n",
              "    <tr>\n",
              "      <th>25</th>\n",
              "      <td>1985-12-31</td>\n",
              "      <td>17.776652</td>\n",
              "      <td>7.6455</td>\n",
              "      <td>13.8709</td>\n",
              "      <td>100.695</td>\n",
              "    </tr>\n",
              "    <tr>\n",
              "      <th>26</th>\n",
              "      <td>1986-12-31</td>\n",
              "      <td>17.486411</td>\n",
              "      <td>7.0231</td>\n",
              "      <td>17.0840</td>\n",
              "      <td>98.213</td>\n",
              "    </tr>\n",
              "    <tr>\n",
              "      <th>27</th>\n",
              "      <td>1987-12-31</td>\n",
              "      <td>19.477195</td>\n",
              "      <td>6.9802</td>\n",
              "      <td>-1.6682</td>\n",
              "      <td>95.730</td>\n",
              "    </tr>\n",
              "    <tr>\n",
              "      <th>28</th>\n",
              "      <td>1988-12-31</td>\n",
              "      <td>22.111393</td>\n",
              "      <td>7.4552</td>\n",
              "      <td>9.1945</td>\n",
              "      <td>93.247</td>\n",
              "    </tr>\n",
              "    <tr>\n",
              "      <th>29</th>\n",
              "      <td>1989-12-31</td>\n",
              "      <td>24.133378</td>\n",
              "      <td>8.1520</td>\n",
              "      <td>2.0844</td>\n",
              "      <td>91.019</td>\n",
              "    </tr>\n",
              "    <tr>\n",
              "      <th>30</th>\n",
              "      <td>1990-12-31</td>\n",
              "      <td>27.132072</td>\n",
              "      <td>8.4529</td>\n",
              "      <td>3.3658</td>\n",
              "      <td>88.791</td>\n",
              "    </tr>\n",
              "    <tr>\n",
              "      <th>31</th>\n",
              "      <td>1991-12-31</td>\n",
              "      <td>22.941359</td>\n",
              "      <td>8.4935</td>\n",
              "      <td>0.0152</td>\n",
              "      <td>86.564</td>\n",
              "    </tr>\n",
              "    <tr>\n",
              "      <th>32</th>\n",
              "      <td>1992-12-31</td>\n",
              "      <td>27.639685</td>\n",
              "      <td>9.5902</td>\n",
              "      <td>21.1281</td>\n",
              "      <td>84.336</td>\n",
              "    </tr>\n",
              "    <tr>\n",
              "      <th>33</th>\n",
              "      <td>1993-12-31</td>\n",
              "      <td>27.419391</td>\n",
              "      <td>9.8173</td>\n",
              "      <td>19.2673</td>\n",
              "      <td>82.108</td>\n",
              "    </tr>\n",
              "    <tr>\n",
              "      <th>34</th>\n",
              "      <td>1994-12-31</td>\n",
              "      <td>33.349577</td>\n",
              "      <td>10.1901</td>\n",
              "      <td>22.6016</td>\n",
              "      <td>79.936</td>\n",
              "    </tr>\n",
              "    <tr>\n",
              "      <th>35</th>\n",
              "      <td>1995-12-31</td>\n",
              "      <td>43.318431</td>\n",
              "      <td>12.0235</td>\n",
              "      <td>28.1259</td>\n",
              "      <td>77.764</td>\n",
              "    </tr>\n",
              "    <tr>\n",
              "      <th>36</th>\n",
              "      <td>1996-12-31</td>\n",
              "      <td>45.357288</td>\n",
              "      <td>11.5443</td>\n",
              "      <td>-2.4400</td>\n",
              "      <td>75.591</td>\n",
              "    </tr>\n",
              "    <tr>\n",
              "      <th>37</th>\n",
              "      <td>1997-12-31</td>\n",
              "      <td>49.607490</td>\n",
              "      <td>11.9287</td>\n",
              "      <td>13.2007</td>\n",
              "      <td>73.419</td>\n",
              "    </tr>\n",
              "    <tr>\n",
              "      <th>38</th>\n",
              "      <td>1998-12-31</td>\n",
              "      <td>53.431585</td>\n",
              "      <td>12.6810</td>\n",
              "      <td>20.8456</td>\n",
              "      <td>71.247</td>\n",
              "    </tr>\n",
              "    <tr>\n",
              "      <th>39</th>\n",
              "      <td>1999-12-31</td>\n",
              "      <td>61.314620</td>\n",
              "      <td>13.3635</td>\n",
              "      <td>6.9925</td>\n",
              "      <td>68.988</td>\n",
              "    </tr>\n",
              "    <tr>\n",
              "      <th>40</th>\n",
              "      <td>2000-12-31</td>\n",
              "      <td>65.124164</td>\n",
              "      <td>13.9037</td>\n",
              "      <td>4.5897</td>\n",
              "      <td>66.729</td>\n",
              "    </tr>\n",
              "    <tr>\n",
              "      <th>41</th>\n",
              "      <td>2001-12-31</td>\n",
              "      <td>65.218394</td>\n",
              "      <td>13.4349</td>\n",
              "      <td>2.9442</td>\n",
              "      <td>64.471</td>\n",
              "    </tr>\n",
              "    <tr>\n",
              "      <th>42</th>\n",
              "      <td>2002-12-31</td>\n",
              "      <td>78.498578</td>\n",
              "      <td>15.2443</td>\n",
              "      <td>11.9968</td>\n",
              "      <td>62.212</td>\n",
              "    </tr>\n",
              "    <tr>\n",
              "      <th>43</th>\n",
              "      <td>2003-12-31</td>\n",
              "      <td>95.071650</td>\n",
              "      <td>15.6445</td>\n",
              "      <td>13.8839</td>\n",
              "      <td>59.953</td>\n",
              "    </tr>\n",
              "    <tr>\n",
              "      <th>44</th>\n",
              "      <td>2004-12-31</td>\n",
              "      <td>139.310021</td>\n",
              "      <td>19.6447</td>\n",
              "      <td>22.1952</td>\n",
              "      <td>57.854</td>\n",
              "    </tr>\n",
              "    <tr>\n",
              "      <th>45</th>\n",
              "      <td>2005-12-31</td>\n",
              "      <td>183.736132</td>\n",
              "      <td>22.3964</td>\n",
              "      <td>32.2696</td>\n",
              "      <td>55.755</td>\n",
              "    </tr>\n",
              "    <tr>\n",
              "      <th>46</th>\n",
              "      <td>2006-12-31</td>\n",
              "      <td>229.955027</td>\n",
              "      <td>24.4565</td>\n",
              "      <td>21.5046</td>\n",
              "      <td>53.655</td>\n",
              "    </tr>\n",
              "    <tr>\n",
              "      <th>47</th>\n",
              "      <td>2007-12-31</td>\n",
              "      <td>302.803704</td>\n",
              "      <td>24.8866</td>\n",
              "      <td>9.9516</td>\n",
              "      <td>51.556</td>\n",
              "    </tr>\n",
              "    <tr>\n",
              "      <th>48</th>\n",
              "      <td>2008-12-31</td>\n",
              "      <td>350.927086</td>\n",
              "      <td>29.2709</td>\n",
              "      <td>22.4486</td>\n",
              "      <td>49.457</td>\n",
              "    </tr>\n",
              "    <tr>\n",
              "      <th>49</th>\n",
              "      <td>2009-12-31</td>\n",
              "      <td>347.177602</td>\n",
              "      <td>25.8724</td>\n",
              "      <td>-1.9258</td>\n",
              "      <td>47.382</td>\n",
              "    </tr>\n",
              "    <tr>\n",
              "      <th>50</th>\n",
              "      <td>2010-12-31</td>\n",
              "      <td>449.974321</td>\n",
              "      <td>26.8543</td>\n",
              "      <td>15.8119</td>\n",
              "      <td>45.307</td>\n",
              "    </tr>\n",
              "    <tr>\n",
              "      <th>51</th>\n",
              "      <td>2011-12-31</td>\n",
              "      <td>566.667154</td>\n",
              "      <td>31.0835</td>\n",
              "      <td>20.4117</td>\n",
              "      <td>43.232</td>\n",
              "    </tr>\n",
              "    <tr>\n",
              "      <th>52</th>\n",
              "      <td>2012-12-31</td>\n",
              "      <td>571.306638</td>\n",
              "      <td>31.2593</td>\n",
              "      <td>6.0218</td>\n",
              "      <td>41.157</td>\n",
              "    </tr>\n",
              "    <tr>\n",
              "      <th>53</th>\n",
              "      <td>2013-12-31</td>\n",
              "      <td>527.555481</td>\n",
              "      <td>28.4133</td>\n",
              "      <td>-8.1458</td>\n",
              "      <td>39.082</td>\n",
              "    </tr>\n",
              "    <tr>\n",
              "      <th>54</th>\n",
              "      <td>2014-12-31</td>\n",
              "      <td>529.239679</td>\n",
              "      <td>25.9542</td>\n",
              "      <td>0.8712</td>\n",
              "      <td>37.666</td>\n",
              "    </tr>\n",
              "    <tr>\n",
              "      <th>55</th>\n",
              "      <td>2015-12-31</td>\n",
              "      <td>465.097475</td>\n",
              "      <td>22.1097</td>\n",
              "      <td>-5.8500</td>\n",
              "      <td>36.249</td>\n",
              "    </tr>\n",
              "    <tr>\n",
              "      <th>56</th>\n",
              "      <td>2016-12-31</td>\n",
              "      <td>480.169285</td>\n",
              "      <td>20.9243</td>\n",
              "      <td>4.3819</td>\n",
              "      <td>34.833</td>\n",
              "    </tr>\n",
              "    <tr>\n",
              "      <th>57</th>\n",
              "      <td>2017-12-31</td>\n",
              "      <td>582.017724</td>\n",
              "      <td>21.9401</td>\n",
              "      <td>17.4146</td>\n",
              "      <td>33.416</td>\n",
              "    </tr>\n",
              "    <tr>\n",
              "      <th>58</th>\n",
              "      <td>2018-12-31</td>\n",
              "      <td>639.013264</td>\n",
              "      <td>23.5523</td>\n",
              "      <td>8.5976</td>\n",
              "      <td>32.000</td>\n",
              "    </tr>\n",
              "    <tr>\n",
              "      <th>59</th>\n",
              "      <td>2019-12-31</td>\n",
              "      <td>614.031738</td>\n",
              "      <td>21.3566</td>\n",
              "      <td>-5.4718</td>\n",
              "      <td>30.924</td>\n",
              "    </tr>\n",
              "  </tbody>\n",
              "</table>\n",
              "</div>"
            ],
            "text/plain": [
              "          date  Imports Billions of US $  ...   Change  Deaths per 1000 Live Births\n",
              "0   1960-12-31                  2.530503  ...      NaN                      161.742\n",
              "1   1961-12-31                  2.337302  ...  -9.7559                      159.366\n",
              "2   1962-12-31                  2.543103  ...   3.9092                      156.989\n",
              "3   1963-12-31                  2.860203  ...   3.3920                      154.612\n",
              "4   1964-12-31                  3.210903  ...   3.3797                      152.851\n",
              "5   1965-12-31                  3.103738  ... -11.0562                      151.091\n",
              "6   1966-12-31                  3.060000  ...  28.6223                      149.330\n",
              "7   1967-12-31                  2.981333  ...  -3.9436                      147.570\n",
              "8   1968-12-31                  2.624000  ... -14.3610                      145.809\n",
              "9   1969-12-31                  2.356000  ... -13.0351                      143.815\n",
              "10  1970-12-31                  2.421333  ...  17.9150                      141.822\n",
              "11  1971-12-31                  2.695657  ...  18.0285                      139.828\n",
              "12  1972-12-31                  2.650506  ...  -1.8884                      137.835\n",
              "13  1973-12-31                  4.039171  ...   8.0751                      135.841\n",
              "14  1974-12-31                  5.992026  ... -12.7581                      132.832\n",
              "15  1975-12-31                  6.545404  ...   1.2795                      129.824\n",
              "16  1976-12-31                  6.280836  ...   1.8962                      126.815\n",
              "17  1977-12-31                  7.611095  ...  27.3956                      123.807\n",
              "18  1978-12-31                  9.045600  ...   0.0491                      120.798\n",
              "19  1979-12-31                 12.498143  ...  19.3208                      117.771\n",
              "20  1980-12-31                 17.225826  ...  14.3542                      114.743\n",
              "21  1981-12-31                 16.584541  ...  10.0294                      111.716\n",
              "22  1982-12-31                 16.343487  ...   3.4542                      108.688\n",
              "23  1983-12-31                 17.140059  ...  21.9842                      105.661\n",
              "24  1984-12-31                 16.391291  ... -14.3301                      103.178\n",
              "25  1985-12-31                 17.776652  ...  13.8709                      100.695\n",
              "26  1986-12-31                 17.486411  ...  17.0840                       98.213\n",
              "27  1987-12-31                 19.477195  ...  -1.6682                       95.730\n",
              "28  1988-12-31                 22.111393  ...   9.1945                       93.247\n",
              "29  1989-12-31                 24.133378  ...   2.0844                       91.019\n",
              "30  1990-12-31                 27.132072  ...   3.3658                       88.791\n",
              "31  1991-12-31                 22.941359  ...   0.0152                       86.564\n",
              "32  1992-12-31                 27.639685  ...  21.1281                       84.336\n",
              "33  1993-12-31                 27.419391  ...  19.2673                       82.108\n",
              "34  1994-12-31                 33.349577  ...  22.6016                       79.936\n",
              "35  1995-12-31                 43.318431  ...  28.1259                       77.764\n",
              "36  1996-12-31                 45.357288  ...  -2.4400                       75.591\n",
              "37  1997-12-31                 49.607490  ...  13.2007                       73.419\n",
              "38  1998-12-31                 53.431585  ...  20.8456                       71.247\n",
              "39  1999-12-31                 61.314620  ...   6.9925                       68.988\n",
              "40  2000-12-31                 65.124164  ...   4.5897                       66.729\n",
              "41  2001-12-31                 65.218394  ...   2.9442                       64.471\n",
              "42  2002-12-31                 78.498578  ...  11.9968                       62.212\n",
              "43  2003-12-31                 95.071650  ...  13.8839                       59.953\n",
              "44  2004-12-31                139.310021  ...  22.1952                       57.854\n",
              "45  2005-12-31                183.736132  ...  32.2696                       55.755\n",
              "46  2006-12-31                229.955027  ...  21.5046                       53.655\n",
              "47  2007-12-31                302.803704  ...   9.9516                       51.556\n",
              "48  2008-12-31                350.927086  ...  22.4486                       49.457\n",
              "49  2009-12-31                347.177602  ...  -1.9258                       47.382\n",
              "50  2010-12-31                449.974321  ...  15.8119                       45.307\n",
              "51  2011-12-31                566.667154  ...  20.4117                       43.232\n",
              "52  2012-12-31                571.306638  ...   6.0218                       41.157\n",
              "53  2013-12-31                527.555481  ...  -8.1458                       39.082\n",
              "54  2014-12-31                529.239679  ...   0.8712                       37.666\n",
              "55  2015-12-31                465.097475  ...  -5.8500                       36.249\n",
              "56  2016-12-31                480.169285  ...   4.3819                       34.833\n",
              "57  2017-12-31                582.017724  ...  17.4146                       33.416\n",
              "58  2018-12-31                639.013264  ...   8.5976                       32.000\n",
              "59  2019-12-31                614.031738  ...  -5.4718                       30.924\n",
              "\n",
              "[60 rows x 5 columns]"
            ]
          },
          "metadata": {
            "tags": []
          },
          "execution_count": 17
        }
      ]
    },
    {
      "cell_type": "code",
      "metadata": {
        "id": "VjwEskRmiY2Z"
      },
      "source": [
        "df9.drop(['Change'],axis=1,inplace=True)"
      ],
      "execution_count": 26,
      "outputs": []
    },
    {
      "cell_type": "code",
      "metadata": {
        "id": "MNxGazV86oFK"
      },
      "source": [
        "#df2['date']=df2.date.astype(object)\n",
        "df3.set_index(['date'],inplace=True)\n",
        "df4.set_index(['date'],inplace=True)\n",
        "df5.set_index(['date'],inplace=True)\n",
        "df6.set_index(['date'],inplace=True)\n",
        "df9.set_index(['date'],inplace=True)\n",
        "df10.set_index(['date'],inplace=True)\n",
        "df11.set_index(['date'],inplace=True)\n",
        "df12.set_index(['date'],inplace=True)\n",
        "\n",
        "#df9.join(df8,on='date',how='left').copy()\n",
        "#df9.join(df6,on='date',how='left').copy()\n",
        "#df9.join(df5,on='date',how='left').copy()\n",
        "#df9.join(df4,on='date',how='left').copy()\n",
        "#df9.join([df2,df3,df4,df5,df6,df7],on=[df2['date'],df3['date'],df4['date'],df5['date'],df6['date'],df7['date']],how='left').copy()\n",
        "#df9.join(df2,on='date',how='left').copy()\n",
        "#pd.concat([df6['Births per 1000 People'],df5['Population'],df4['Literacy_Rate'],df3['Trade (% of GDP)'],df2['GDP Billions of US $']],join='inner')"
      ],
      "execution_count": 28,
      "outputs": []
    },
    {
      "cell_type": "code",
      "metadata": {
        "colab": {
          "base_uri": "https://localhost:8080/",
          "height": 206
        },
        "id": "PUvqbMeL91pj",
        "outputId": "e6223bcb-115c-4084-90b7-b5a16232bb75"
      },
      "source": [
        "df9.head()"
      ],
      "execution_count": 27,
      "outputs": [
        {
          "output_type": "execute_result",
          "data": {
            "text/html": [
              "<div>\n",
              "<style scoped>\n",
              "    .dataframe tbody tr th:only-of-type {\n",
              "        vertical-align: middle;\n",
              "    }\n",
              "\n",
              "    .dataframe tbody tr th {\n",
              "        vertical-align: top;\n",
              "    }\n",
              "\n",
              "    .dataframe thead th {\n",
              "        text-align: right;\n",
              "    }\n",
              "</style>\n",
              "<table border=\"1\" class=\"dataframe\">\n",
              "  <thead>\n",
              "    <tr style=\"text-align: right;\">\n",
              "      <th></th>\n",
              "      <th>date</th>\n",
              "      <th>Imports Billions of US $</th>\n",
              "      <th>% of GDP</th>\n",
              "    </tr>\n",
              "  </thead>\n",
              "  <tbody>\n",
              "    <tr>\n",
              "      <th>0</th>\n",
              "      <td>1960-12-31</td>\n",
              "      <td>2.530503</td>\n",
              "      <td>6.8337</td>\n",
              "    </tr>\n",
              "    <tr>\n",
              "      <th>1</th>\n",
              "      <td>1961-12-31</td>\n",
              "      <td>2.337302</td>\n",
              "      <td>5.9576</td>\n",
              "    </tr>\n",
              "    <tr>\n",
              "      <th>2</th>\n",
              "      <td>1962-12-31</td>\n",
              "      <td>2.543103</td>\n",
              "      <td>6.0318</td>\n",
              "    </tr>\n",
              "    <tr>\n",
              "      <th>3</th>\n",
              "      <td>1963-12-31</td>\n",
              "      <td>2.860203</td>\n",
              "      <td>5.9068</td>\n",
              "    </tr>\n",
              "    <tr>\n",
              "      <th>4</th>\n",
              "      <td>1964-12-31</td>\n",
              "      <td>3.210903</td>\n",
              "      <td>5.6850</td>\n",
              "    </tr>\n",
              "  </tbody>\n",
              "</table>\n",
              "</div>"
            ],
            "text/plain": [
              "         date  Imports Billions of US $   % of GDP\n",
              "0  1960-12-31                  2.530503     6.8337\n",
              "1  1961-12-31                  2.337302     5.9576\n",
              "2  1962-12-31                  2.543103     6.0318\n",
              "3  1963-12-31                  2.860203     5.9068\n",
              "4  1964-12-31                  3.210903     5.6850"
            ]
          },
          "metadata": {
            "tags": []
          },
          "execution_count": 27
        }
      ]
    },
    {
      "cell_type": "code",
      "metadata": {
        "id": "49gWUss8GqMq"
      },
      "source": [
        "from functools import reduce\n",
        "dfs=[df2,df3,df5,df6,df7,df8,df9,df10,df11,df12]\n",
        "df_final = reduce(lambda left,right: pd.merge(left,right,on='date'), dfs)"
      ],
      "execution_count": 29,
      "outputs": []
    },
    {
      "cell_type": "code",
      "metadata": {
        "colab": {
          "base_uri": "https://localhost:8080/",
          "height": 296
        },
        "id": "hOoXazToG8Jf",
        "outputId": "2f9be501-b38d-4333-dbd8-e117c66e7c89"
      },
      "source": [
        "df_final.head()"
      ],
      "execution_count": 30,
      "outputs": [
        {
          "output_type": "execute_result",
          "data": {
            "text/html": [
              "<div>\n",
              "<style scoped>\n",
              "    .dataframe tbody tr th:only-of-type {\n",
              "        vertical-align: middle;\n",
              "    }\n",
              "\n",
              "    .dataframe tbody tr th {\n",
              "        vertical-align: top;\n",
              "    }\n",
              "\n",
              "    .dataframe thead th {\n",
              "        text-align: right;\n",
              "    }\n",
              "</style>\n",
              "<table border=\"1\" class=\"dataframe\">\n",
              "  <thead>\n",
              "    <tr style=\"text-align: right;\">\n",
              "      <th></th>\n",
              "      <th>date</th>\n",
              "      <th>GDP Billions of US $</th>\n",
              "      <th>Per Capita US $</th>\n",
              "      <th>Annual_Change_x</th>\n",
              "      <th>Trade (% of GDP)</th>\n",
              "      <th></th>\n",
              "      <th>Population</th>\n",
              "      <th>Births per 1000 People</th>\n",
              "      <th>Deaths per 1000 Live Births</th>\n",
              "      <th>Exports Billions of US $</th>\n",
              "      <th>% of GDP</th>\n",
              "      <th>Imports Billions of US $</th>\n",
              "      <th>% of GDP</th>\n",
              "      <th>Spending ($)</th>\n",
              "      <th>% of Exports</th>\n",
              "      <th>Unnamed: 3_x</th>\n",
              "      <th>Unemployment Rate (%)</th>\n",
              "      <th>Unnamed: 3_y</th>\n",
              "      <th>Life Expectancy from Birth (Years)</th>\n",
              "      <th>Annual_Change_y</th>\n",
              "    </tr>\n",
              "  </thead>\n",
              "  <tbody>\n",
              "    <tr>\n",
              "      <th>0</th>\n",
              "      <td>1995-12-31</td>\n",
              "      <td>360.281953</td>\n",
              "      <td>373.7665</td>\n",
              "      <td>7.5745</td>\n",
              "      <td>22.8674</td>\n",
              "      <td>NaN</td>\n",
              "      <td>963922588</td>\n",
              "      <td>29.044</td>\n",
              "      <td>77.764</td>\n",
              "      <td>39.068860</td>\n",
              "      <td>10.8440</td>\n",
              "      <td>43.318431</td>\n",
              "      <td>12.0235</td>\n",
              "      <td>2582000000</td>\n",
              "      <td>6.7924</td>\n",
              "      <td>NaN</td>\n",
              "      <td>5.636</td>\n",
              "      <td>NaN</td>\n",
              "      <td>60.060</td>\n",
              "      <td>0.79</td>\n",
              "    </tr>\n",
              "    <tr>\n",
              "      <th>1</th>\n",
              "      <td>1996-12-31</td>\n",
              "      <td>392.897054</td>\n",
              "      <td>399.9501</td>\n",
              "      <td>7.5495</td>\n",
              "      <td>21.9295</td>\n",
              "      <td>NaN</td>\n",
              "      <td>982365243</td>\n",
              "      <td>28.551</td>\n",
              "      <td>75.591</td>\n",
              "      <td>40.803024</td>\n",
              "      <td>10.3852</td>\n",
              "      <td>45.357288</td>\n",
              "      <td>11.5443</td>\n",
              "      <td>2831000000</td>\n",
              "      <td>6.9090</td>\n",
              "      <td>NaN</td>\n",
              "      <td>5.652</td>\n",
              "      <td>NaN</td>\n",
              "      <td>60.530</td>\n",
              "      <td>0.78</td>\n",
              "    </tr>\n",
              "    <tr>\n",
              "      <th>2</th>\n",
              "      <td>1997-12-31</td>\n",
              "      <td>415.867754</td>\n",
              "      <td>415.4938</td>\n",
              "      <td>4.0498</td>\n",
              "      <td>22.6194</td>\n",
              "      <td>NaN</td>\n",
              "      <td>1000900030</td>\n",
              "      <td>28.059</td>\n",
              "      <td>73.419</td>\n",
              "      <td>44.459246</td>\n",
              "      <td>10.6907</td>\n",
              "      <td>49.607490</td>\n",
              "      <td>11.9287</td>\n",
              "      <td>2890000000</td>\n",
              "      <td>6.4491</td>\n",
              "      <td>NaN</td>\n",
              "      <td>5.637</td>\n",
              "      <td>NaN</td>\n",
              "      <td>61.000</td>\n",
              "      <td>0.78</td>\n",
              "    </tr>\n",
              "    <tr>\n",
              "      <th>3</th>\n",
              "      <td>1998-12-31</td>\n",
              "      <td>421.351478</td>\n",
              "      <td>413.2989</td>\n",
              "      <td>6.1844</td>\n",
              "      <td>23.6995</td>\n",
              "      <td>NaN</td>\n",
              "      <td>1019483581</td>\n",
              "      <td>27.567</td>\n",
              "      <td>71.247</td>\n",
              "      <td>46.426483</td>\n",
              "      <td>11.0185</td>\n",
              "      <td>53.431585</td>\n",
              "      <td>12.6810</td>\n",
              "      <td>2949000000</td>\n",
              "      <td>6.4435</td>\n",
              "      <td>NaN</td>\n",
              "      <td>5.631</td>\n",
              "      <td>NaN</td>\n",
              "      <td>61.470</td>\n",
              "      <td>0.77</td>\n",
              "    </tr>\n",
              "    <tr>\n",
              "      <th>4</th>\n",
              "      <td>1999-12-31</td>\n",
              "      <td>458.820417</td>\n",
              "      <td>441.9988</td>\n",
              "      <td>8.8458</td>\n",
              "      <td>24.8156</td>\n",
              "      <td>NaN</td>\n",
              "      <td>1038058156</td>\n",
              "      <td>27.101</td>\n",
              "      <td>68.988</td>\n",
              "      <td>52.544411</td>\n",
              "      <td>11.4521</td>\n",
              "      <td>61.314620</td>\n",
              "      <td>13.3635</td>\n",
              "      <td>3010000000</td>\n",
              "      <td>5.8576</td>\n",
              "      <td>NaN</td>\n",
              "      <td>5.685</td>\n",
              "      <td>NaN</td>\n",
              "      <td>61.876</td>\n",
              "      <td>0.66</td>\n",
              "    </tr>\n",
              "  </tbody>\n",
              "</table>\n",
              "</div>"
            ],
            "text/plain": [
              "         date  ...  Annual_Change_y\n",
              "0  1995-12-31  ...             0.79\n",
              "1  1996-12-31  ...             0.78\n",
              "2  1997-12-31  ...             0.78\n",
              "3  1998-12-31  ...             0.77\n",
              "4  1999-12-31  ...             0.66\n",
              "\n",
              "[5 rows x 20 columns]"
            ]
          },
          "metadata": {
            "tags": []
          },
          "execution_count": 30
        }
      ]
    },
    {
      "cell_type": "code",
      "metadata": {
        "colab": {
          "base_uri": "https://localhost:8080/"
        },
        "id": "Ffj90sOfKNP1",
        "outputId": "bbb28d2c-c15d-4006-f048-75bbf5c5ac36"
      },
      "source": [
        "df_final.info()"
      ],
      "execution_count": 31,
      "outputs": [
        {
          "output_type": "stream",
          "text": [
            "<class 'pandas.core.frame.DataFrame'>\n",
            "Int64Index: 24 entries, 0 to 23\n",
            "Data columns (total 20 columns):\n",
            " #   Column                              Non-Null Count  Dtype  \n",
            "---  ------                              --------------  -----  \n",
            " 0   date                                24 non-null     object \n",
            " 1   GDP Billions of US $                24 non-null     float64\n",
            " 2   Per Capita US $                     24 non-null     float64\n",
            " 3   Annual_Change_x                     24 non-null     float64\n",
            " 4   Trade (% of GDP)                    24 non-null     float64\n",
            " 5                                       0 non-null      float64\n",
            " 6   Population                          24 non-null     int64  \n",
            " 7   Births per 1000 People              24 non-null     float64\n",
            " 8   Deaths per 1000 Live Births         24 non-null     float64\n",
            " 9   Exports Billions of US $            24 non-null     float64\n",
            " 10  % of GDP                            24 non-null     float64\n",
            " 11  Imports Billions of US $            24 non-null     float64\n",
            " 12   % of GDP                           24 non-null     float64\n",
            " 13   Spending ($)                       24 non-null     int64  \n",
            " 14   % of Exports                       24 non-null     float64\n",
            " 15  Unnamed: 3_x                        2 non-null      object \n",
            " 16  Unemployment Rate (%)               24 non-null     float64\n",
            " 17  Unnamed: 3_y                        2 non-null      object \n",
            " 18  Life Expectancy from Birth (Years)  24 non-null     float64\n",
            " 19  Annual_Change_y                     24 non-null     float64\n",
            "dtypes: float64(15), int64(2), object(3)\n",
            "memory usage: 3.9+ KB\n"
          ],
          "name": "stdout"
        }
      ]
    },
    {
      "cell_type": "code",
      "metadata": {
        "id": "CkcdvZrWKUsz"
      },
      "source": [
        "df_final.drop([' '],inplace=True,axis=1)"
      ],
      "execution_count": 32,
      "outputs": []
    },
    {
      "cell_type": "code",
      "metadata": {
        "id": "Y6DNVSQakgoF"
      },
      "source": [
        "df_final.drop(['Unnamed: 3_x','Unnamed: 3_y','Annual_Change_y'],axis=1,inplace=True)"
      ],
      "execution_count": 34,
      "outputs": []
    },
    {
      "cell_type": "code",
      "metadata": {
        "colab": {
          "base_uri": "https://localhost:8080/",
          "height": 743
        },
        "id": "mThwBMXKKyj2",
        "outputId": "bbafabf8-d4e3-4098-d8bd-6c547186ea79"
      },
      "source": [
        "plt.figure(figsize=(20,15))\n",
        "#ax=subplot(111)\n",
        "sns.heatmap(df_final.corr(),annot=True,cmap='coolwarm',linewidths=1.0)\n",
        "plt.show()"
      ],
      "execution_count": 41,
      "outputs": [
        {
          "output_type": "display_data",
          "data": {
            "image/png": "[encoded data removed]",
            "text/plain": [
              "<Figure size 1440x1080 with 2 Axes>"
            ]
          },
          "metadata": {
            "tags": [],
            "needs_background": "light"
          }
        }
      ]
    },
    {
      "cell_type": "code",
      "metadata": {
        "id": "ckovFD0VL5Rl"
      },
      "source": [
        "from sklearn.model_selection import train_test_split"
      ],
      "execution_count": 43,
      "outputs": []
    },
    {
      "cell_type": "code",
      "metadata": {
        "id": "H1nfvsHkMSoN"
      },
      "source": [
        "df10=df_final\n",
        "X=df10.drop(['date','GDP Billions of US $','Per Capita US $','Births per 1000 People','Deaths per 1000 Live Births','Annual_Change_x','% of GDP',' % of GDP',' % of Exports','Unemployment Rate (%)'],axis=1)\n",
        "Y=df_final['GDP Billions of US $']"
      ],
      "execution_count": 45,
      "outputs": []
    },
    {
      "cell_type": "code",
      "metadata": {
        "id": "qG4ZRBqBMwEl"
      },
      "source": [
        "X_train, X_test, Y_train, Y_test = train_test_split( X, Y, test_size = 0.2)"
      ],
      "execution_count": 46,
      "outputs": []
    },
    {
      "cell_type": "code",
      "metadata": {
        "id": "7HAQsZbAOBbV"
      },
      "source": [
        "from sklearn.preprocessing import StandardScaler"
      ],
      "execution_count": 47,
      "outputs": []
    },
    {
      "cell_type": "code",
      "metadata": {
        "id": "EjCROg6lOHe9"
      },
      "source": [
        "sc = StandardScaler()\n",
        "X_train = sc.fit_transform(X_train)\n",
        "X_test = sc.transform(X_test)"
      ],
      "execution_count": 48,
      "outputs": []
    },
    {
      "cell_type": "code",
      "metadata": {
        "id": "uixRXHOxOhFb"
      },
      "source": [
        "df_final.to_csv('gdp_final',index=False)"
      ],
      "execution_count": 49,
      "outputs": []
    },
    {
      "cell_type": "code",
      "metadata": {
        "colab": {
          "base_uri": "https://localhost:8080/"
        },
        "id": "Lr3CkVDEQQfI",
        "outputId": "2488fa31-8fea-4c20-fc35-33a039406004"
      },
      "source": [
        "#ElasticNet CV\n",
        "from sklearn.linear_model import ElasticNetCV\n",
        "from sklearn.metrics import mean_squared_error\n",
        "alphas = [0.0001, 0.001, 0.01, 0.1, 0.3, 0.5, 0.7, 1]\n",
        "elastic_cv=ElasticNetCV(alphas=alphas, cv=5)\n",
        "model = elastic_cv.fit(X_train, Y_train)\n",
        "ypred = model.predict(X_test)\n",
        "score = model.score(X_test, Y_test)\n",
        "mse = mean_squared_error(Y_test, ypred)\n",
        "print(\"R2:{0:.4f}, MSE:{1:.4f}, RMSE:{2:.4f}\"\n",
        "      .format(score, mse, np.sqrt(mse)))"
      ],
      "execution_count": 50,
      "outputs": [
        {
          "output_type": "stream",
          "text": [
            "R2:0.9955, MSE:1744.6185, RMSE:41.7686\n"
          ],
          "name": "stdout"
        },
        {
          "output_type": "stream",
          "text": [
            "/usr/local/lib/python3.6/dist-packages/sklearn/linear_model/_coordinate_descent.py:472: ConvergenceWarning: Objective did not converge. You might want to increase the number of iterations. Duality gap: 10157.31040291159, tolerance: 879.0969289297466\n",
            "  tol, rng, random, positive)\n",
            "/usr/local/lib/python3.6/dist-packages/sklearn/linear_model/_coordinate_descent.py:472: ConvergenceWarning: Objective did not converge. You might want to increase the number of iterations. Duality gap: 6207.8753556191505, tolerance: 879.0969289297466\n",
            "  tol, rng, random, positive)\n",
            "/usr/local/lib/python3.6/dist-packages/sklearn/linear_model/_coordinate_descent.py:472: ConvergenceWarning: Objective did not converge. You might want to increase the number of iterations. Duality gap: 14231.320227093032, tolerance: 1007.6068977711985\n",
            "  tol, rng, random, positive)\n",
            "/usr/local/lib/python3.6/dist-packages/sklearn/linear_model/_coordinate_descent.py:472: ConvergenceWarning: Objective did not converge. You might want to increase the number of iterations. Duality gap: 10852.516773299498, tolerance: 1007.6068977711985\n",
            "  tol, rng, random, positive)\n",
            "/usr/local/lib/python3.6/dist-packages/sklearn/linear_model/_coordinate_descent.py:472: ConvergenceWarning: Objective did not converge. You might want to increase the number of iterations. Duality gap: 7004.575898400276, tolerance: 710.0753702427616\n",
            "  tol, rng, random, positive)\n",
            "/usr/local/lib/python3.6/dist-packages/sklearn/linear_model/_coordinate_descent.py:472: ConvergenceWarning: Objective did not converge. You might want to increase the number of iterations. Duality gap: 4850.915466838692, tolerance: 710.0753702427616\n",
            "  tol, rng, random, positive)\n",
            "/usr/local/lib/python3.6/dist-packages/sklearn/linear_model/_coordinate_descent.py:472: ConvergenceWarning: Objective did not converge. You might want to increase the number of iterations. Duality gap: 12634.714463944609, tolerance: 973.4876999237782\n",
            "  tol, rng, random, positive)\n",
            "/usr/local/lib/python3.6/dist-packages/sklearn/linear_model/_coordinate_descent.py:472: ConvergenceWarning: Objective did not converge. You might want to increase the number of iterations. Duality gap: 10169.321862334355, tolerance: 973.4876999237782\n",
            "  tol, rng, random, positive)\n",
            "/usr/local/lib/python3.6/dist-packages/sklearn/linear_model/_coordinate_descent.py:472: ConvergenceWarning: Objective did not converge. You might want to increase the number of iterations. Duality gap: 12069.390964487633, tolerance: 1093.0111507640872\n",
            "  tol, rng, random, positive)\n",
            "/usr/local/lib/python3.6/dist-packages/sklearn/linear_model/_coordinate_descent.py:472: ConvergenceWarning: Objective did not converge. You might want to increase the number of iterations. Duality gap: 9814.886315177338, tolerance: 1093.0111507640872\n",
            "  tol, rng, random, positive)\n"
          ],
          "name": "stderr"
        }
      ]
    },
    {
      "cell_type": "code",
      "metadata": {
        "id": "FF_TTUp2RHg3"
      },
      "source": [
        ""
      ],
      "execution_count": 50,
      "outputs": []
    },
    {
      "cell_type": "code",
      "metadata": {
        "colab": {
          "base_uri": "https://localhost:8080/",
          "height": 265
        },
        "id": "0ak2FrzpSe2F",
        "outputId": "bfc44773-7e09-4430-f036-25e5f87895e0"
      },
      "source": [
        "x_ax = range(len(X_test))\n",
        "plt.scatter(x_ax, Y_test, s=5, color='blue', label='original')\n",
        "plt.plot(x_ax, ypred, lw=0.8, color='red', label='predicted')\n",
        "plt.legend()\n",
        "plt.show()"
      ],
      "execution_count": 51,
      "outputs": [
        {
          "output_type": "display_data",
          "data": {
            "image/png": "[encoded data removed]",
            "text/plain": [
              "<Figure size 432x288 with 1 Axes>"
            ]
          },
          "metadata": {
            "tags": [],
            "needs_background": "light"
          }
        }
      ]
    },
    {
      "cell_type": "code",
      "metadata": {
        "id": "UUg94mxSS18P"
      },
      "source": [
        "#Linear Regression\n",
        "from sklearn.linear_model import LinearRegression"
      ],
      "execution_count": 52,
      "outputs": []
    },
    {
      "cell_type": "code",
      "metadata": {
        "id": "-szobIt9TgQT"
      },
      "source": [
        "reg=LinearRegression()"
      ],
      "execution_count": 53,
      "outputs": []
    },
    {
      "cell_type": "code",
      "metadata": {
        "colab": {
          "base_uri": "https://localhost:8080/"
        },
        "id": "PptF2aaDTvgO",
        "outputId": "8557e069-1b4a-4be2-cd8f-65425a044217"
      },
      "source": [
        "reg.fit(X_train,Y_train)"
      ],
      "execution_count": 54,
      "outputs": [
        {
          "output_type": "execute_result",
          "data": {
            "text/plain": [
              "LinearRegression(copy_X=True, fit_intercept=True, n_jobs=None, normalize=False)"
            ]
          },
          "metadata": {
            "tags": []
          },
          "execution_count": 54
        }
      ]
    },
    {
      "cell_type": "code",
      "metadata": {
        "id": "rZT_dq8sUb2k"
      },
      "source": [
        "y_pred=reg.predict(X_test)"
      ],
      "execution_count": 55,
      "outputs": []
    },
    {
      "cell_type": "code",
      "metadata": {
        "colab": {
          "base_uri": "https://localhost:8080/"
        },
        "id": "jraE2MRtUlX9",
        "outputId": "f531bbd6-a918-4946-8aa3-5aba922954ec"
      },
      "source": [
        "mse = mean_squared_error(Y_test, y_pred)\n",
        "print(\"R2:{0:.4f}, MSE:{1:.4f}, RMSE:{2:.4f}\"\n",
        "      .format(score, mse, np.sqrt(mse)))"
      ],
      "execution_count": 56,
      "outputs": [
        {
          "output_type": "stream",
          "text": [
            "R2:0.9955, MSE:864.8144, RMSE:29.4077\n"
          ],
          "name": "stdout"
        }
      ]
    },
    {
      "cell_type": "code",
      "metadata": {
        "colab": {
          "base_uri": "https://localhost:8080/",
          "height": 265
        },
        "id": "lycra5xaUvTP",
        "outputId": "61d65773-4ab4-465f-afcc-58821da81aff"
      },
      "source": [
        "plt.scatter(x_ax, Y_test, s=5, color='blue', label='original')\n",
        "plt.plot(x_ax, y_pred, lw=0.8, color='red', label='predicted')\n",
        "plt.legend()\n",
        "plt.show()"
      ],
      "execution_count": 57,
      "outputs": [
        {
          "output_type": "display_data",
          "data": {
            "image/png": "[encoded data removed]",
            "text/plain": [
              "<Figure size 432x288 with 1 Axes>"
            ]
          },
          "metadata": {
            "tags": [],
            "needs_background": "light"
          }
        }
      ]
    },
    {
      "cell_type": "code",
      "metadata": {
        "id": "4DVmBt6LU5qk"
      },
      "source": [
        "#SVR"
      ],
      "execution_count": 58,
      "outputs": []
    },
    {
      "cell_type": "code",
      "metadata": {
        "colab": {
          "base_uri": "https://localhost:8080/"
        },
        "id": "59-hEhIyVmNI",
        "outputId": "672de3c7-e8ff-438d-9757-1f88834dc773"
      },
      "source": [
        "from sklearn.svm import SVR\n",
        "regressor = SVR(kernel = 'rbf')\n",
        "regressor.fit(X_train, Y_train)"
      ],
      "execution_count": 59,
      "outputs": [
        {
          "output_type": "execute_result",
          "data": {
            "text/plain": [
              "SVR(C=1.0, cache_size=200, coef0=0.0, degree=3, epsilon=0.1, gamma='scale',\n",
              "    kernel='rbf', max_iter=-1, shrinking=True, tol=0.001, verbose=False)"
            ]
          },
          "metadata": {
            "tags": []
          },
          "execution_count": 59
        }
      ]
    },
    {
      "cell_type": "code",
      "metadata": {
        "id": "QEfCSepsVpK4"
      },
      "source": [
        "y_pred1 = regressor.predict(X_test)\n",
        "#y_pred1 = sc.inverse_transform(y_pred1)"
      ],
      "execution_count": 60,
      "outputs": []
    },
    {
      "cell_type": "code",
      "metadata": {
        "colab": {
          "base_uri": "https://localhost:8080/",
          "height": 265
        },
        "id": "w0Kf24nThS6n",
        "outputId": "ef6645c8-bf61-45be-9e2c-f57d696f605a"
      },
      "source": [
        "plt.scatter(x_ax, Y_test, s=5, color='blue', label='original')\n",
        "plt.plot(x_ax, y_pred1, lw=0.8, color='red', label='predicted')\n",
        "plt.legend()\n",
        "plt.show()"
      ],
      "execution_count": 61,
      "outputs": [
        {
          "output_type": "display_data",
          "data": {
            "image/png": "[encoded data removed]",
            "text/plain": [
              "<Figure size 432x288 with 1 Axes>"
            ]
          },
          "metadata": {
            "tags": [],
            "needs_background": "light"
          }
        }
      ]
    },
    {
      "cell_type": "code",
      "metadata": {
        "id": "cqiVzqsFh0a7"
      },
      "source": [
        "#SGD Regressor, Bayesian Ridge, Lasso Lars, ARD Regression, Passive Aggressive Regressor, TheilSen Regressor\n",
        "from sklearn.linear_model import SGDRegressor\n",
        "from sklearn.linear_model import BayesianRidge\n",
        "from sklearn.linear_model import LassoLars\n",
        "from sklearn.linear_model import ARDRegression\n",
        "from sklearn.linear_model import PassiveAggressiveRegressor\n",
        "from sklearn.linear_model import TheilSenRegressor\n"
      ],
      "execution_count": 62,
      "outputs": []
    },
    {
      "cell_type": "code",
      "metadata": {
        "id": "ed-HkPv8j58Z"
      },
      "source": [
        "sgd=SGDRegressor()\n",
        "br=BayesianRidge()\n",
        "ll=LassoLars()\n",
        "ard=ARDRegression()\n",
        "par=PassiveAggressiveRegressor()\n",
        "tsr=TheilSenRegressor()"
      ],
      "execution_count": 63,
      "outputs": []
    },
    {
      "cell_type": "code",
      "metadata": {
        "colab": {
          "base_uri": "https://localhost:8080/"
        },
        "id": "Al31ZpOOkveZ",
        "outputId": "1eb5a6a3-97e3-430f-a277-9c3fba3ad1cd"
      },
      "source": [
        "sgd.fit(X_train, Y_train)"
      ],
      "execution_count": 64,
      "outputs": [
        {
          "output_type": "stream",
          "text": [
            "/usr/local/lib/python3.6/dist-packages/sklearn/linear_model/_stochastic_gradient.py:1187: ConvergenceWarning: Maximum number of iteration reached before convergence. Consider increasing max_iter to improve the fit.\n",
            "  ConvergenceWarning)\n"
          ],
          "name": "stderr"
        },
        {
          "output_type": "execute_result",
          "data": {
            "text/plain": [
              "SGDRegressor(alpha=0.0001, average=False, early_stopping=False, epsilon=0.1,\n",
              "             eta0=0.01, fit_intercept=True, l1_ratio=0.15,\n",
              "             learning_rate='invscaling', loss='squared_loss', max_iter=1000,\n",
              "             n_iter_no_change=5, penalty='l2', power_t=0.25, random_state=None,\n",
              "             shuffle=True, tol=0.001, validation_fraction=0.1, verbose=0,\n",
              "             warm_start=False)"
            ]
          },
          "metadata": {
            "tags": []
          },
          "execution_count": 64
        }
      ]
    },
    {
      "cell_type": "code",
      "metadata": {
        "colab": {
          "base_uri": "https://localhost:8080/"
        },
        "id": "t63695_QlxID",
        "outputId": "3cbb0415-1b1c-4046-e1be-cdd258b124fc"
      },
      "source": [
        "br.fit(X_train, Y_train)"
      ],
      "execution_count": 65,
      "outputs": [
        {
          "output_type": "execute_result",
          "data": {
            "text/plain": [
              "BayesianRidge(alpha_1=1e-06, alpha_2=1e-06, alpha_init=None,\n",
              "              compute_score=False, copy_X=True, fit_intercept=True,\n",
              "              lambda_1=1e-06, lambda_2=1e-06, lambda_init=None, n_iter=300,\n",
              "              normalize=False, tol=0.001, verbose=False)"
            ]
          },
          "metadata": {
            "tags": []
          },
          "execution_count": 65
        }
      ]
    },
    {
      "cell_type": "code",
      "metadata": {
        "id": "BSrWa5Fx2iib"
      },
      "source": [
        "pred_y=sgd.predict(X_test)"
      ],
      "execution_count": 66,
      "outputs": []
    },
    {
      "cell_type": "code",
      "metadata": {
        "id": "WEWe_tZK2u6e"
      },
      "source": [
        "pred_y1=br.predict(X_test)"
      ],
      "execution_count": 67,
      "outputs": []
    },
    {
      "cell_type": "code",
      "metadata": {
        "id": "Dc90tW-H096R"
      },
      "source": [
        "ll.fit(X_train, Y_train)\n",
        "pred_y2=ll.predict(X_test)\n",
        "ard.fit(X_train,Y_train)\n",
        "pred_y3=ard.predict(X_test)\n",
        "par.fit(X_train, Y_train)\n",
        "pred_y4=par.predict(X_test)\n",
        "tsr.fit(X_train, Y_train)\n",
        "pred_y5=tsr.predict(X_test)"
      ],
      "execution_count": 68,
      "outputs": []
    },
    {
      "cell_type": "code",
      "metadata": {
        "id": "vy6PRT433HCf",
        "colab": {
          "base_uri": "https://localhost:8080/"
        },
        "outputId": "92d0f9c6-cc6f-46d4-8935-fbbdd79aff43"
      },
      "source": [
        "mse = mean_squared_error(Y_test, ypred)\n",
        "score = model.score(X_test, Y_test)\n",
        "print(\"R2:{0:.4f}, MSE:{1:.4f}, RMSE:{2:.4f}\"\n",
        "      .format(score, mse, np.sqrt(mse)))\n",
        "mse1 = mean_squared_error(Y_test, y_pred)\n",
        "score1 = reg.score(X_test, Y_test)\n",
        "print(\"R2:{0:.4f}, MSE:{1:.4f}, RMSE:{2:.4f}\"\n",
        "      .format(score1, mse1, np.sqrt(mse1)))\n",
        "mse2 = mean_squared_error(Y_test, pred_y)\n",
        "score2 = sgd.score(X_test, Y_test)\n",
        "print(\"R2:{0:.4f}, MSE:{1:.4f}, RMSE:{2:.4f}\"\n",
        "      .format(score2, mse2, np.sqrt(mse2)))\n",
        "mse3 = mean_squared_error(Y_test, pred_y1)\n",
        "score3 = br.score(X_test, Y_test)\n",
        "print(\"R2:{0:.4f}, MSE:{1:.4f}, RMSE:{2:.4f}\"\n",
        "      .format(score3, mse3, np.sqrt(mse3)))\n",
        "mse4 = mean_squared_error(Y_test, pred_y2)\n",
        "score4 = ll.score(X_test, Y_test)\n",
        "print(\"R2:{0:.4f}, MSE:{1:.4f}, RMSE:{2:.4f}\"\n",
        "      .format(score4, mse4, np.sqrt(mse4)))\n",
        "mse5 = mean_squared_error(Y_test, pred_y3)\n",
        "score5 = ard.score(X_test, Y_test)\n",
        "print(\"R2:{0:.4f}, MSE:{1:.4f}, RMSE:{2:.4f}\"\n",
        "      .format(score5, mse5, np.sqrt(mse5)))\n",
        "mse6 = mean_squared_error(Y_test, pred_y4)\n",
        "score6 = par.score(X_test, Y_test)\n",
        "print(\"R2:{0:.4f}, MSE:{1:.4f}, RMSE:{2:.4f}\"\n",
        "      .format(score6, mse6, np.sqrt(mse6)))\n",
        "mse7 = mean_squared_error(Y_test, pred_y5)\n",
        "score7 = tsr.score(X_test, Y_test)\n",
        "print(\"R2:{0:.4f}, MSE:{1:.4f}, RMSE:{2:.4f}\"\n",
        "      .format(score7, mse7, np.sqrt(mse7)))\n",
        "\n"
      ],
      "execution_count": 80,
      "outputs": [
        {
          "output_type": "stream",
          "text": [
            "R2:0.9955, MSE:1744.6185, RMSE:41.7686\n",
            "R2:0.9977, MSE:864.8144, RMSE:29.4077\n",
            "R2:0.9939, MSE:2343.0079, RMSE:48.4046\n",
            "R2:0.9960, MSE:1550.4410, RMSE:39.3756\n",
            "R2:0.9913, MSE:3336.5861, RMSE:57.7632\n",
            "R2:0.9963, MSE:1423.9135, RMSE:37.7348\n",
            "R2:0.9946, MSE:2074.1167, RMSE:45.5425\n",
            "R2:0.9963, MSE:1400.5695, RMSE:37.4242\n"
          ],
          "name": "stdout"
        }
      ]
    },
    {
      "cell_type": "code",
      "metadata": {
        "id": "4RrrcMVe3QyR"
      },
      "source": [
        "MSE_=[mse1,mse,mse2,mse3,mse4,mse5,mse6,mse7]\n",
        "R2_=[score1,score,score2,score3,score4,score5,score6,score7]\n",
        "Algorithm_=['Linear Regression','ElasticNet CV','SGD Regressor','Bayesian Ridge','Lasso Lars','ARD Regression','Passive Aggressive Regressor',\n",
        "'TheilSen Regressor']\n",
        "acc_t=pd.DataFrame()"
      ],
      "execution_count": 81,
      "outputs": []
    },
    {
      "cell_type": "code",
      "metadata": {
        "id": "8sauwPXosvIB"
      },
      "source": [
        "acc_t['ALgorithm_']=Algorithm_\n",
        "acc_t['MSE_']=MSE_\n",
        "acc_t['R2_']=R2_"
      ],
      "execution_count": 82,
      "outputs": []
    },
    {
      "cell_type": "code",
      "metadata": {
        "colab": {
          "base_uri": "https://localhost:8080/",
          "height": 300
        },
        "id": "OrAniwOyszt8",
        "outputId": "fff9e3f1-1089-43c1-fa46-037fefbebfb7"
      },
      "source": [
        "acc_t.sort_values(by='MSE_')"
      ],
      "execution_count": 85,
      "outputs": [
        {
          "output_type": "execute_result",
          "data": {
            "text/html": [
              "<div>\n",
              "<style scoped>\n",
              "    .dataframe tbody tr th:only-of-type {\n",
              "        vertical-align: middle;\n",
              "    }\n",
              "\n",
              "    .dataframe tbody tr th {\n",
              "        vertical-align: top;\n",
              "    }\n",
              "\n",
              "    .dataframe thead th {\n",
              "        text-align: right;\n",
              "    }\n",
              "</style>\n",
              "<table border=\"1\" class=\"dataframe\">\n",
              "  <thead>\n",
              "    <tr style=\"text-align: right;\">\n",
              "      <th></th>\n",
              "      <th>ALgorithm_</th>\n",
              "      <th>MSE_</th>\n",
              "      <th>R2_</th>\n",
              "    </tr>\n",
              "  </thead>\n",
              "  <tbody>\n",
              "    <tr>\n",
              "      <th>0</th>\n",
              "      <td>Linear Regression</td>\n",
              "      <td>864.814448</td>\n",
              "      <td>0.997745</td>\n",
              "    </tr>\n",
              "    <tr>\n",
              "      <th>7</th>\n",
              "      <td>TheilSen Regressor</td>\n",
              "      <td>1400.569527</td>\n",
              "      <td>0.996349</td>\n",
              "    </tr>\n",
              "    <tr>\n",
              "      <th>5</th>\n",
              "      <td>ARD Regression</td>\n",
              "      <td>1423.913481</td>\n",
              "      <td>0.996288</td>\n",
              "    </tr>\n",
              "    <tr>\n",
              "      <th>3</th>\n",
              "      <td>Bayesian Ridge</td>\n",
              "      <td>1550.441014</td>\n",
              "      <td>0.995958</td>\n",
              "    </tr>\n",
              "    <tr>\n",
              "      <th>1</th>\n",
              "      <td>ElasticNet CV</td>\n",
              "      <td>1744.618534</td>\n",
              "      <td>0.995452</td>\n",
              "    </tr>\n",
              "    <tr>\n",
              "      <th>6</th>\n",
              "      <td>Passive Aggressive Regressor</td>\n",
              "      <td>2074.116679</td>\n",
              "      <td>0.994593</td>\n",
              "    </tr>\n",
              "    <tr>\n",
              "      <th>2</th>\n",
              "      <td>SGD Regressor</td>\n",
              "      <td>2343.007903</td>\n",
              "      <td>0.993892</td>\n",
              "    </tr>\n",
              "    <tr>\n",
              "      <th>4</th>\n",
              "      <td>Lasso Lars</td>\n",
              "      <td>3336.586099</td>\n",
              "      <td>0.991301</td>\n",
              "    </tr>\n",
              "  </tbody>\n",
              "</table>\n",
              "</div>"
            ],
            "text/plain": [
              "                     ALgorithm_         MSE_       R2_\n",
              "0             Linear Regression   864.814448  0.997745\n",
              "7            TheilSen Regressor  1400.569527  0.996349\n",
              "5                ARD Regression  1423.913481  0.996288\n",
              "3                Bayesian Ridge  1550.441014  0.995958\n",
              "1                 ElasticNet CV  1744.618534  0.995452\n",
              "6  Passive Aggressive Regressor  2074.116679  0.994593\n",
              "2                 SGD Regressor  2343.007903  0.993892\n",
              "4                    Lasso Lars  3336.586099  0.991301"
            ]
          },
          "metadata": {
            "tags": []
          },
          "execution_count": 85
        }
      ]
    },
    {
      "cell_type": "code",
      "metadata": {
        "id": "Kf94-G_Pxzn5"
      },
      "source": [
        ""
      ],
      "execution_count": null,
      "outputs": []
    }
  ]
}